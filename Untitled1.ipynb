{
 "cells": [
  {
   "cell_type": "code",
   "execution_count": 96,
   "id": "a331d7a8",
   "metadata": {},
   "outputs": [],
   "source": [
    "from utils import *\n",
    "import pandas as pd \n",
    "from sklearn.model_selection import train_test_split\n",
    "from sklearn.linear_model import LogisticRegression\n",
    "from sklearn.model_selection import GridSearchCV\n",
    "from sklearn.metrics import accuracy_score\n",
    "from matplotlib import pyplot as plt \n",
    "from sklearn.metrics import f1_score\n",
    "from sklearn.svm import SVC\n"
   ]
  },
  {
   "cell_type": "code",
   "execution_count": 53,
   "id": "a7f9c111",
   "metadata": {},
   "outputs": [],
   "source": [
    "df = pd.read_csv(\"dataset/body_level_classification_train.csv\")"
   ]
  },
  {
   "cell_type": "code",
   "execution_count": 54,
   "id": "3bc37a0d",
   "metadata": {},
   "outputs": [],
   "source": [
    "df_original= cleaning_data(df).copy()"
   ]
  },
  {
   "cell_type": "code",
   "execution_count": 55,
   "id": "b8a2ae0d",
   "metadata": {},
   "outputs": [],
   "source": [
    "all_class_train,all_class_test=data_spliting(df_original,1/3)\n",
    "## shuffling \n",
    "all_class_train = all_class_train.sample(frac=1.0, random_state=42)\n",
    "all_class_test = all_class_test.sample(frac=1.0, random_state=42)"
   ]
  },
  {
   "cell_type": "code",
   "execution_count": 56,
   "id": "0217b318",
   "metadata": {},
   "outputs": [],
   "source": [
    "X_train=all_class_train.drop([\"Body_Level\"],axis=1).to_numpy()\n",
    "Y_train=all_class_train[\"Body_Level\"].to_numpy()\n",
    "X_test =all_class_test.drop([\"Body_Level\"],axis=1).to_numpy()\n",
    "Y_test =all_class_test[\"Body_Level\"].to_numpy()"
   ]
  },
  {
   "cell_type": "code",
   "execution_count": 57,
   "id": "8d043c07",
   "metadata": {},
   "outputs": [],
   "source": [
    "X_train, scaler= data_scaling(X_train)\n"
   ]
  },
  {
   "cell_type": "code",
   "execution_count": 58,
   "id": "d51505ab",
   "metadata": {},
   "outputs": [],
   "source": [
    "X_val, X_test, Y_val, Y_test = train_test_split(X_test\n",
    "                                                     , Y_test, test_size=0.5, random_state=42)"
   ]
  },
  {
   "cell_type": "code",
   "execution_count": 59,
   "id": "e3e0106c",
   "metadata": {},
   "outputs": [],
   "source": [
    "X_val = scaler.transform(X_val)\n",
    "X_test=scaler.transform(X_test)"
   ]
  },
  {
   "cell_type": "code",
   "execution_count": 60,
   "id": "6597f8c9",
   "metadata": {
    "scrolled": true
   },
   "outputs": [
    {
     "name": "stdout",
     "output_type": "stream",
     "text": [
      "Fitting 5 folds for each of 22 candidates, totalling 110 fits\n",
      "[CV] END ................................C=0.001, penalty=l2; total time=   0.1s\n",
      "[CV] END ................................C=0.001, penalty=l2; total time=   0.0s\n",
      "[CV] END ................................C=0.001, penalty=l2; total time=   0.0s\n",
      "[CV] END ................................C=0.001, penalty=l2; total time=   0.0s\n",
      "[CV] END ................................C=0.001, penalty=l2; total time=   0.0s\n",
      "[CV] END .................................C=0.01, penalty=l2; total time=   0.0s\n",
      "[CV] END .................................C=0.01, penalty=l2; total time=   0.0s\n",
      "[CV] END .................................C=0.01, penalty=l2; total time=   0.0s\n",
      "[CV] END .................................C=0.01, penalty=l2; total time=   0.0s\n",
      "[CV] END .................................C=0.01, penalty=l2; total time=   0.0s\n",
      "[CV] END ..................................C=0.1, penalty=l2; total time=   0.0s\n",
      "[CV] END ..................................C=0.1, penalty=l2; total time=   0.0s\n",
      "[CV] END ..................................C=0.1, penalty=l2; total time=   0.0s\n",
      "[CV] END ..................................C=0.1, penalty=l2; total time=   0.0s\n",
      "[CV] END ..................................C=0.1, penalty=l2; total time=   0.0s\n",
      "[CV] END ....................................C=1, penalty=l2; total time=   0.1s\n",
      "[CV] END ....................................C=1, penalty=l2; total time=   0.0s\n",
      "[CV] END ....................................C=1, penalty=l2; total time=   0.0s\n",
      "[CV] END ....................................C=1, penalty=l2; total time=   0.0s\n",
      "[CV] END ....................................C=1, penalty=l2; total time=   0.0s\n",
      "[CV] END ...................................C=10, penalty=l2; total time=   0.1s\n",
      "[CV] END ...................................C=10, penalty=l2; total time=   0.1s\n",
      "[CV] END ...................................C=10, penalty=l2; total time=   0.1s\n",
      "[CV] END ...................................C=10, penalty=l2; total time=   0.1s\n",
      "[CV] END ...................................C=10, penalty=l2; total time=   0.1s\n",
      "[CV] END ..................................C=100, penalty=l2; total time=   0.2s\n",
      "[CV] END ..................................C=100, penalty=l2; total time=   0.2s\n",
      "[CV] END ..................................C=100, penalty=l2; total time=   0.2s\n",
      "[CV] END ..................................C=100, penalty=l2; total time=   0.2s\n",
      "[CV] END ..................................C=100, penalty=l2; total time=   0.2s\n",
      "[CV] END ..................................C=200, penalty=l2; total time=   0.2s\n",
      "[CV] END ..................................C=200, penalty=l2; total time=   0.2s\n",
      "[CV] END ..................................C=200, penalty=l2; total time=   0.2s\n",
      "[CV] END ..................................C=200, penalty=l2; total time=   0.3s\n",
      "[CV] END ..................................C=200, penalty=l2; total time=   0.2s\n",
      "[CV] END ..................................C=300, penalty=l2; total time=   0.3s\n",
      "[CV] END ..................................C=300, penalty=l2; total time=   0.3s\n",
      "[CV] END ..................................C=300, penalty=l2; total time=   0.3s\n",
      "[CV] END ..................................C=300, penalty=l2; total time=   0.4s\n",
      "[CV] END ..................................C=300, penalty=l2; total time=   0.3s\n",
      "[CV] END ..................................C=400, penalty=l2; total time=   0.2s\n",
      "[CV] END ..................................C=400, penalty=l2; total time=   0.4s\n",
      "[CV] END ..................................C=400, penalty=l2; total time=   0.3s\n",
      "[CV] END ..................................C=400, penalty=l2; total time=   0.3s\n",
      "[CV] END ..................................C=400, penalty=l2; total time=   0.2s\n",
      "[CV] END ..................................C=500, penalty=l2; total time=   0.3s\n",
      "[CV] END ..................................C=500, penalty=l2; total time=   0.3s\n",
      "[CV] END ..................................C=500, penalty=l2; total time=   0.3s\n",
      "[CV] END ..................................C=500, penalty=l2; total time=   0.3s\n",
      "[CV] END ..................................C=500, penalty=l2; total time=   0.3s\n",
      "[CV] END ..................................C=600, penalty=l2; total time=   0.4s\n",
      "[CV] END ..................................C=600, penalty=l2; total time=   0.4s\n",
      "[CV] END ..................................C=600, penalty=l2; total time=   0.3s\n",
      "[CV] END ..................................C=600, penalty=l2; total time=   0.4s\n",
      "[CV] END ..................................C=600, penalty=l2; total time=   0.3s\n",
      "[CV] END ..................................C=700, penalty=l2; total time=   0.7s\n",
      "[CV] END ..................................C=700, penalty=l2; total time=   0.5s\n",
      "[CV] END ..................................C=700, penalty=l2; total time=   0.5s\n",
      "[CV] END ..................................C=700, penalty=l2; total time=   0.5s\n",
      "[CV] END ..................................C=700, penalty=l2; total time=   0.4s\n",
      "[CV] END ..................................C=800, penalty=l2; total time=   0.3s\n",
      "[CV] END ..................................C=800, penalty=l2; total time=   0.3s\n",
      "[CV] END ..................................C=800, penalty=l2; total time=   0.3s\n",
      "[CV] END ..................................C=800, penalty=l2; total time=   0.3s\n",
      "[CV] END ..................................C=800, penalty=l2; total time=   0.4s\n",
      "[CV] END ..................................C=900, penalty=l2; total time=   0.4s\n",
      "[CV] END ..................................C=900, penalty=l2; total time=   0.4s\n",
      "[CV] END ..................................C=900, penalty=l2; total time=   0.5s\n",
      "[CV] END ..................................C=900, penalty=l2; total time=   0.3s\n",
      "[CV] END ..................................C=900, penalty=l2; total time=   0.4s\n",
      "[CV] END .................................C=1000, penalty=l2; total time=   0.5s\n",
      "[CV] END .................................C=1000, penalty=l2; total time=   0.6s\n",
      "[CV] END .................................C=1000, penalty=l2; total time=   0.4s\n",
      "[CV] END .................................C=1000, penalty=l2; total time=   0.5s\n",
      "[CV] END .................................C=1000, penalty=l2; total time=   0.4s\n",
      "[CV] END .................................C=2000, penalty=l2; total time=   0.5s\n",
      "[CV] END .................................C=2000, penalty=l2; total time=   0.4s\n",
      "[CV] END .................................C=2000, penalty=l2; total time=   0.5s\n",
      "[CV] END .................................C=2000, penalty=l2; total time=   0.5s\n",
      "[CV] END .................................C=2000, penalty=l2; total time=   0.6s\n",
      "[CV] END .................................C=3000, penalty=l2; total time=   0.7s\n",
      "[CV] END .................................C=3000, penalty=l2; total time=   0.7s\n",
      "[CV] END .................................C=3000, penalty=l2; total time=   0.5s\n",
      "[CV] END .................................C=3000, penalty=l2; total time=   0.4s\n",
      "[CV] END .................................C=3000, penalty=l2; total time=   1.0s\n",
      "[CV] END .................................C=4000, penalty=l2; total time=   0.9s\n",
      "[CV] END .................................C=4000, penalty=l2; total time=   0.7s\n",
      "[CV] END .................................C=4000, penalty=l2; total time=   0.5s\n",
      "[CV] END .................................C=4000, penalty=l2; total time=   0.5s\n",
      "[CV] END .................................C=4000, penalty=l2; total time=   0.9s\n",
      "[CV] END .................................C=5000, penalty=l2; total time=   1.0s\n",
      "[CV] END .................................C=5000, penalty=l2; total time=   0.5s\n",
      "[CV] END .................................C=5000, penalty=l2; total time=   0.5s\n",
      "[CV] END .................................C=5000, penalty=l2; total time=   0.4s\n",
      "[CV] END .................................C=5000, penalty=l2; total time=   0.6s\n",
      "[CV] END .................................C=6000, penalty=l2; total time=   0.7s\n",
      "[CV] END .................................C=6000, penalty=l2; total time=   0.9s\n",
      "[CV] END .................................C=6000, penalty=l2; total time=   0.9s\n",
      "[CV] END .................................C=6000, penalty=l2; total time=   0.7s\n",
      "[CV] END .................................C=6000, penalty=l2; total time=   0.7s\n",
      "[CV] END .................................C=7000, penalty=l2; total time=   0.8s\n"
     ]
    },
    {
     "name": "stdout",
     "output_type": "stream",
     "text": [
      "[CV] END .................................C=7000, penalty=l2; total time=   0.8s\n",
      "[CV] END .................................C=7000, penalty=l2; total time=   0.9s\n",
      "[CV] END .................................C=7000, penalty=l2; total time=   0.6s\n",
      "[CV] END .................................C=7000, penalty=l2; total time=   0.8s\n",
      "[CV] END ................................C=10000, penalty=l2; total time=   1.0s\n",
      "[CV] END ................................C=10000, penalty=l2; total time=   1.0s\n",
      "[CV] END ................................C=10000, penalty=l2; total time=   0.7s\n",
      "[CV] END ................................C=10000, penalty=l2; total time=   0.4s\n",
      "[CV] END ................................C=10000, penalty=l2; total time=   0.6s\n",
      "0.001 0.5050761421319797\n",
      "0.01 0.6815464287545506\n",
      "0.1 0.8590370712198123\n",
      "1 0.9158283341024458\n",
      "10 0.9553863508178229\n",
      "100 0.9665487360918832\n",
      "200 0.9706045223811721\n",
      "300 0.9716146233912731\n",
      "400 0.9716146233912731\n",
      "500 0.9716146233912731\n",
      "600 0.9716146233912731\n",
      "700 0.9695892939547761\n",
      "800 0.9675588371019842\n",
      "900 0.9685740655283801\n",
      "1000 0.9685740655283801\n",
      "2000 0.9675639645182791\n",
      "3000 0.9675639645182791\n",
      "4000 0.9675639645182791\n",
      "5000 0.9675639645182791\n",
      "6000 0.9685791929446751\n",
      "7000 0.9685791929446751\n",
      "10000 0.969594421371071\n"
     ]
    }
   ],
   "source": [
    "\n",
    "reg_model = LogisticRegression(random_state=42,max_iter=3000)\n",
    "# Define the parameter grid to search over\n",
    "param_grid = {\n",
    "    'C': [0.001,0.01,0.1, 1, 10,100,200,300,400,500 ,600 ,700 ,800,900,1000,2000,\n",
    "         3000,4000,5000,6000,7000,10000],\n",
    "    'penalty': ['l2']\n",
    "}\n",
    "\n",
    "\n",
    "grid_search = GridSearchCV(estimator=reg_model, param_grid=param_grid,\n",
    "                           cv=5,verbose=2)\n",
    "\n",
    "grid_search.fit(X_train, Y_train)\n",
    "\n",
    "\n",
    "\n",
    "# Access the cv_results_ dictionary\n",
    "cv_results = grid_search.cv_results_\n",
    "\n",
    "# Print the mean test scores for each hyperparameter combination\n",
    "for mean_score, params in zip(cv_results['mean_test_score'], cv_results['params']):\n",
    "    print(params['C'], mean_score)\n",
    "\n"
   ]
  },
  {
   "cell_type": "code",
   "execution_count": 62,
   "id": "06df3fcb",
   "metadata": {},
   "outputs": [
    {
     "data": {
      "text/plain": [
       "LogisticRegression(C=300, max_iter=3000, random_state=42)"
      ]
     },
     "execution_count": 62,
     "metadata": {},
     "output_type": "execute_result"
    }
   ],
   "source": [
    "grid_search.best_estimator_"
   ]
  },
  {
   "cell_type": "code",
   "execution_count": 69,
   "id": "80636b72",
   "metadata": {},
   "outputs": [
    {
     "data": {
      "text/plain": [
       "LogisticRegression(max_iter=3000, random_state=42)"
      ]
     },
     "execution_count": 69,
     "metadata": {},
     "output_type": "execute_result"
    }
   ],
   "source": [
    "reg_model = LogisticRegression(random_state=42,max_iter=3000)\n",
    "reg_model.fit(X_train,Y_train)"
   ]
  },
  {
   "cell_type": "code",
   "execution_count": 76,
   "id": "08b09249",
   "metadata": {},
   "outputs": [
    {
     "name": "stdout",
     "output_type": "stream",
     "text": [
      "0.90 accuracy with a standard deviation of 0.01\n"
     ]
    }
   ],
   "source": [
    "from sklearn.model_selection import cross_val_score\n",
    "scores = cross_val_score(reg_model, X_train, Y_train, cv=2,scoring='accuracy')\n",
    "print(\"%0.2f accuracy with a standard deviation of %0.2f\" % (scores.mean(), scores.std()))"
   ]
  },
  {
   "cell_type": "code",
   "execution_count": 77,
   "id": "7261025d",
   "metadata": {},
   "outputs": [
    {
     "data": {
      "text/plain": [
       "array([0.94776119, 0.80508475, 0.93404635, 0.99448732])"
      ]
     },
     "execution_count": 77,
     "metadata": {},
     "output_type": "execute_result"
    }
   ],
   "source": [
    "f1_score(Y_train, reg_model.predict(X_train), average=None)"
   ]
  },
  {
   "cell_type": "code",
   "execution_count": 78,
   "id": "b1032ae3",
   "metadata": {},
   "outputs": [
    {
     "data": {
      "text/plain": [
       "array([0.91891892, 0.8       , 0.93103448, 0.9877551 ])"
      ]
     },
     "execution_count": 78,
     "metadata": {},
     "output_type": "execute_result"
    }
   ],
   "source": [
    "f1_score(Y_val, reg_model.predict(X_val), average=None)"
   ]
  },
  {
   "cell_type": "code",
   "execution_count": 79,
   "id": "3dcfea6a",
   "metadata": {},
   "outputs": [
    {
     "data": {
      "text/plain": [
       "array([0.91525424, 0.82539683, 0.95180723, 0.99019608])"
      ]
     },
     "execution_count": 79,
     "metadata": {},
     "output_type": "execute_result"
    }
   ],
   "source": [
    "f1_score(Y_test, reg_model.predict(X_test), average=None)"
   ]
  },
  {
   "cell_type": "code",
   "execution_count": 80,
   "id": "aa5f3dcf",
   "metadata": {},
   "outputs": [
    {
     "name": "stdout",
     "output_type": "stream",
     "text": [
      "              precision    recall  f1-score   support\n",
      "\n",
      "           0       0.87      0.97      0.92        35\n",
      "           1       0.92      0.71      0.80        31\n",
      "           2       0.89      0.98      0.93        55\n",
      "           3       1.00      0.98      0.99       124\n",
      "\n",
      "    accuracy                           0.94       245\n",
      "   macro avg       0.92      0.91      0.91       245\n",
      "weighted avg       0.95      0.94      0.94       245\n",
      "\n"
     ]
    }
   ],
   "source": [
    "_,x= test_model(reg_model,X_val,Y_val,False)\n",
    "print(x)"
   ]
  },
  {
   "cell_type": "code",
   "execution_count": 84,
   "id": "f2db0532",
   "metadata": {},
   "outputs": [],
   "source": [
    "from sklearn.ensemble import RandomForestClassifier"
   ]
  },
  {
   "cell_type": "code",
   "execution_count": 87,
   "id": "bb78243c",
   "metadata": {},
   "outputs": [
    {
     "data": {
      "text/plain": [
       "RandomForestClassifier(random_state=42)"
      ]
     },
     "execution_count": 87,
     "metadata": {},
     "output_type": "execute_result"
    }
   ],
   "source": [
    "RF_model =  RandomForestClassifier(random_state=42)\n",
    "RF_model.fit(X_train,Y_train)"
   ]
  },
  {
   "cell_type": "code",
   "execution_count": 88,
   "id": "973d0bce",
   "metadata": {},
   "outputs": [
    {
     "name": "stdout",
     "output_type": "stream",
     "text": [
      "0.91 accuracy with a standard deviation of 0.02\n"
     ]
    }
   ],
   "source": [
    "from sklearn.model_selection import cross_val_score\n",
    "scores = cross_val_score(RF_model, X_train, Y_train, cv=2,scoring='accuracy')\n",
    "print(\"%0.2f accuracy with a standard deviation of %0.2f\" % (scores.mean(), scores.std()))"
   ]
  },
  {
   "cell_type": "code",
   "execution_count": 94,
   "id": "1041f746",
   "metadata": {},
   "outputs": [
    {
     "name": "stdout",
     "output_type": "stream",
     "text": [
      "              precision    recall  f1-score   support\n",
      "\n",
      "           0       0.97      0.91      0.94        35\n",
      "           1       0.81      0.81      0.81        31\n",
      "           2       0.91      0.95      0.93        55\n",
      "           3       0.98      0.98      0.98       124\n",
      "\n",
      "    accuracy                           0.94       245\n",
      "   macro avg       0.92      0.91      0.92       245\n",
      "weighted avg       0.94      0.94      0.94       245\n",
      "\n"
     ]
    }
   ],
   "source": [
    "_,x= test_model(RF_model,X_val,Y_val,False)\n",
    "print(x)"
   ]
  },
  {
   "cell_type": "code",
   "execution_count": 89,
   "id": "f3a0013d",
   "metadata": {},
   "outputs": [
    {
     "data": {
      "text/plain": [
       "array([1., 1., 1., 1.])"
      ]
     },
     "execution_count": 89,
     "metadata": {},
     "output_type": "execute_result"
    }
   ],
   "source": [
    "f1_score(Y_train, RF_model.predict(X_train), average=None)"
   ]
  },
  {
   "cell_type": "code",
   "execution_count": 90,
   "id": "dbabf689",
   "metadata": {},
   "outputs": [
    {
     "data": {
      "text/plain": [
       "array([0.94117647, 0.80645161, 0.92857143, 0.98387097])"
      ]
     },
     "execution_count": 90,
     "metadata": {},
     "output_type": "execute_result"
    }
   ],
   "source": [
    "f1_score(Y_val, RF_model.predict(X_val), average=None)"
   ]
  },
  {
   "cell_type": "code",
   "execution_count": 91,
   "id": "dc0b2770",
   "metadata": {},
   "outputs": [
    {
     "data": {
      "text/plain": [
       "array([0.9122807 , 0.72727273, 0.88484848, 0.96078431])"
      ]
     },
     "execution_count": 91,
     "metadata": {},
     "output_type": "execute_result"
    }
   ],
   "source": [
    "f1_score(Y_test, RF_model.predict(X_test), average=None)"
   ]
  },
  {
   "cell_type": "markdown",
   "id": "7d94d893",
   "metadata": {},
   "source": [
    "# SVM\n"
   ]
  },
  {
   "cell_type": "code",
   "execution_count": 98,
   "id": "f6953817",
   "metadata": {},
   "outputs": [],
   "source": [
    "clf = SVC(gamma='auto' ,random_state=42)"
   ]
  },
  {
   "cell_type": "code",
   "execution_count": 99,
   "id": "44faac16",
   "metadata": {},
   "outputs": [
    {
     "data": {
      "text/plain": [
       "SVC(gamma='auto', random_state=42)"
      ]
     },
     "execution_count": 99,
     "metadata": {},
     "output_type": "execute_result"
    }
   ],
   "source": [
    "clf.fit(X_train,Y_train)"
   ]
  },
  {
   "cell_type": "code",
   "execution_count": 100,
   "id": "3df9992d",
   "metadata": {},
   "outputs": [
    {
     "name": "stdout",
     "output_type": "stream",
     "text": [
      "0.84 accuracy with a standard deviation of 0.01\n"
     ]
    }
   ],
   "source": [
    "from sklearn.model_selection import cross_val_score\n",
    "scores = cross_val_score(clf, X_train, Y_train, cv=2,scoring='accuracy')\n",
    "print(\"%0.2f accuracy with a standard deviation of %0.2f\" % (scores.mean(), scores.std()))"
   ]
  },
  {
   "cell_type": "code",
   "execution_count": 101,
   "id": "39459b9f",
   "metadata": {},
   "outputs": [
    {
     "data": {
      "text/plain": [
       "(0.9563894523326572,\n",
       " '              precision    recall  f1-score   support\\n\\n           0       0.97      0.97      0.97       127\\n           1       0.90      0.84      0.86       134\\n           2       0.92      0.96      0.94       271\\n           3       0.99      0.99      0.99       454\\n\\n    accuracy                           0.96       986\\n   macro avg       0.94      0.94      0.94       986\\nweighted avg       0.96      0.96      0.96       986\\n')"
      ]
     },
     "execution_count": 101,
     "metadata": {},
     "output_type": "execute_result"
    }
   ],
   "source": [
    "_,x = test_model(clf,X_train,Y_train,False)"
   ]
  },
  {
   "cell_type": "code",
   "execution_count": null,
   "id": "c1c21ba6",
   "metadata": {},
   "outputs": [],
   "source": []
  },
  {
   "cell_type": "code",
   "execution_count": 83,
   "id": "129dfb24",
   "metadata": {},
   "outputs": [
    {
     "ename": "TypeError",
     "evalue": "__init__() got an unexpected keyword argument 'max_iter'",
     "output_type": "error",
     "traceback": [
      "\u001b[0;31m---------------------------------------------------------------------------\u001b[0m",
      "\u001b[0;31mTypeError\u001b[0m                                 Traceback (most recent call last)",
      "\u001b[0;32m/tmp/ipykernel_19998/2107422848.py\u001b[0m in \u001b[0;36m<module>\u001b[0;34m\u001b[0m\n\u001b[0;32m----> 1\u001b[0;31m \u001b[0mreg_model\u001b[0m \u001b[0;34m=\u001b[0m  \u001b[0mRandomForestClassifier\u001b[0m\u001b[0;34m(\u001b[0m\u001b[0mrandom_state\u001b[0m\u001b[0;34m=\u001b[0m\u001b[0;36m42\u001b[0m\u001b[0;34m,\u001b[0m\u001b[0mmax_iter\u001b[0m\u001b[0;34m=\u001b[0m\u001b[0;36m3000\u001b[0m\u001b[0;34m)\u001b[0m\u001b[0;34m\u001b[0m\u001b[0;34m\u001b[0m\u001b[0m\n\u001b[0m\u001b[1;32m      2\u001b[0m \u001b[0;31m# Define the parameter grid to search over\u001b[0m\u001b[0;34m\u001b[0m\u001b[0;34m\u001b[0m\u001b[0m\n\u001b[1;32m      3\u001b[0m param_grid = {\n\u001b[1;32m      4\u001b[0m    \u001b[0;34m'n_estimators'\u001b[0m\u001b[0;34m:\u001b[0m \u001b[0;34m[\u001b[0m\u001b[0;36m50\u001b[0m\u001b[0;34m,\u001b[0m \u001b[0;36m100\u001b[0m\u001b[0;34m,\u001b[0m \u001b[0;36m200\u001b[0m\u001b[0;34m,\u001b[0m\u001b[0;36m300\u001b[0m\u001b[0;34m,\u001b[0m\u001b[0;36m400\u001b[0m\u001b[0;34m,\u001b[0m\u001b[0;36m500\u001b[0m\u001b[0;34m,\u001b[0m\u001b[0;36m600\u001b[0m\u001b[0;34m]\u001b[0m\u001b[0;34m,\u001b[0m\u001b[0;34m\u001b[0m\u001b[0;34m\u001b[0m\u001b[0m\n\u001b[1;32m      5\u001b[0m     \u001b[0;34m'max_depth'\u001b[0m\u001b[0;34m:\u001b[0m \u001b[0;34m[\u001b[0m\u001b[0;36m10\u001b[0m\u001b[0;34m,\u001b[0m \u001b[0;36m20\u001b[0m\u001b[0;34m,\u001b[0m \u001b[0;36m30\u001b[0m\u001b[0;34m,\u001b[0m \u001b[0;32mNone\u001b[0m\u001b[0;34m]\u001b[0m\u001b[0;34m,\u001b[0m\u001b[0;34m\u001b[0m\u001b[0;34m\u001b[0m\u001b[0m\n",
      "\u001b[0;31mTypeError\u001b[0m: __init__() got an unexpected keyword argument 'max_iter'"
     ]
    }
   ],
   "source": []
  },
  {
   "cell_type": "code",
   "execution_count": null,
   "id": "0a47971f",
   "metadata": {},
   "outputs": [],
   "source": []
  },
  {
   "cell_type": "code",
   "execution_count": null,
   "id": "2de78acc",
   "metadata": {},
   "outputs": [],
   "source": []
  },
  {
   "cell_type": "code",
   "execution_count": null,
   "id": "39bff33d",
   "metadata": {},
   "outputs": [],
   "source": []
  },
  {
   "cell_type": "code",
   "execution_count": null,
   "id": "2a02c228",
   "metadata": {},
   "outputs": [],
   "source": []
  },
  {
   "cell_type": "code",
   "execution_count": null,
   "id": "9da7f63d",
   "metadata": {},
   "outputs": [],
   "source": []
  },
  {
   "cell_type": "code",
   "execution_count": null,
   "id": "e9bbe57b",
   "metadata": {},
   "outputs": [],
   "source": []
  },
  {
   "cell_type": "code",
   "execution_count": null,
   "id": "bc4e8e8a",
   "metadata": {},
   "outputs": [],
   "source": []
  },
  {
   "cell_type": "code",
   "execution_count": 29,
   "id": "1ba4489a",
   "metadata": {},
   "outputs": [
    {
     "name": "stdout",
     "output_type": "stream",
     "text": [
      "Feature: 0, Score: 0.12513\n",
      "Feature: 1, Score: 0.11666\n",
      "Feature: 2, Score: -0.43012\n",
      "Feature: 3, Score: 0.96581\n",
      "Feature: 4, Score: 0.02830\n",
      "Feature: 5, Score: -0.10762\n",
      "Feature: 6, Score: 0.01858\n",
      "Feature: 7, Score: -0.02402\n",
      "Feature: 8, Score: 0.00450\n",
      "Feature: 9, Score: -0.06536\n",
      "Feature: 10, Score: 0.10382\n",
      "Feature: 11, Score: 0.03356\n",
      "Feature: 12, Score: -0.01791\n",
      "Feature: 13, Score: -0.01567\n",
      "Feature: 14, Score: 0.01383\n",
      "Feature: 15, Score: -0.06877\n",
      "Feature: 16, Score: 0.05432\n",
      "Feature: 17, Score: -0.00224\n",
      "Feature: 18, Score: -0.02030\n",
      "Feature: 19, Score: -0.00243\n",
      "Feature: 20, Score: 0.01770\n",
      "Feature: 21, Score: 0.00787\n",
      "Feature: 22, Score: 0.02344\n"
     ]
    },
    {
     "data": {
      "image/png": "[encoded data removed]",
      "text/plain": [
       "<Figure size 640x480 with 1 Axes>"
      ]
     },
     "metadata": {},
     "output_type": "display_data"
    }
   ],
   "source": [
    "# linear regression feature importance\n",
    "from sklearn.datasets import make_regression\n",
    "from sklearn.linear_model import LinearRegression\n",
    "from matplotlib import pyplot\n",
    "# define dataset\n",
    "# define the model\n",
    "model = LinearRegression()\n",
    "# fit the model\n",
    "model.fit(X_train, Y_train)\n",
    "# get importance\n",
    "importance = model.coef_\n",
    "# summarize feature importance\n",
    "for i,v in enumerate(importance):\n",
    " print('Feature: %0d, Score: %.5f' % (i,v))\n",
    "# plot feature importance\n",
    "pyplot.bar([x for x in range(len(importance))], importance)\n",
    "pyplot.show()"
   ]
  },
  {
   "cell_type": "code",
   "execution_count": 31,
   "id": "002ff6fe",
   "metadata": {},
   "outputs": [
    {
     "data": {
      "text/html": [
       "<div>\n",
       "<style scoped>\n",
       "    .dataframe tbody tr th:only-of-type {\n",
       "        vertical-align: middle;\n",
       "    }\n",
       "\n",
       "    .dataframe tbody tr th {\n",
       "        vertical-align: top;\n",
       "    }\n",
       "\n",
       "    .dataframe thead th {\n",
       "        text-align: right;\n",
       "    }\n",
       "</style>\n",
       "<table border=\"1\" class=\"dataframe\">\n",
       "  <thead>\n",
       "    <tr style=\"text-align: right;\">\n",
       "      <th></th>\n",
       "      <th>Gender</th>\n",
       "      <th>Age</th>\n",
       "      <th>Height</th>\n",
       "      <th>Weight</th>\n",
       "      <th>H_Cal_Consump</th>\n",
       "      <th>Veg_Consump</th>\n",
       "      <th>Water_Consump</th>\n",
       "      <th>Alcohol_Consump</th>\n",
       "      <th>Smoking</th>\n",
       "      <th>Meal_Count</th>\n",
       "      <th>...</th>\n",
       "      <th>Body_Level</th>\n",
       "      <th>FBM__Always</th>\n",
       "      <th>FBM__Frequently</th>\n",
       "      <th>FBM__Sometimes</th>\n",
       "      <th>FBM__no</th>\n",
       "      <th>Automobile</th>\n",
       "      <th>Bike</th>\n",
       "      <th>Motorbike</th>\n",
       "      <th>Public_Transportation</th>\n",
       "      <th>Walking</th>\n",
       "    </tr>\n",
       "  </thead>\n",
       "  <tbody>\n",
       "    <tr>\n",
       "      <th>1104</th>\n",
       "      <td>1</td>\n",
       "      <td>39.569004</td>\n",
       "      <td>1.785286</td>\n",
       "      <td>100.431625</td>\n",
       "      <td>1</td>\n",
       "      <td>2.871768</td>\n",
       "      <td>2.691322</td>\n",
       "      <td>2</td>\n",
       "      <td>0</td>\n",
       "      <td>1.792695</td>\n",
       "      <td>...</td>\n",
       "      <td>3</td>\n",
       "      <td>0</td>\n",
       "      <td>0</td>\n",
       "      <td>1</td>\n",
       "      <td>0</td>\n",
       "      <td>1</td>\n",
       "      <td>0</td>\n",
       "      <td>0</td>\n",
       "      <td>0</td>\n",
       "      <td>0</td>\n",
       "    </tr>\n",
       "    <tr>\n",
       "      <th>716</th>\n",
       "      <td>0</td>\n",
       "      <td>16.865984</td>\n",
       "      <td>1.644053</td>\n",
       "      <td>67.439589</td>\n",
       "      <td>1</td>\n",
       "      <td>1.314150</td>\n",
       "      <td>1.364957</td>\n",
       "      <td>0</td>\n",
       "      <td>0</td>\n",
       "      <td>1.068196</td>\n",
       "      <td>...</td>\n",
       "      <td>2</td>\n",
       "      <td>0</td>\n",
       "      <td>0</td>\n",
       "      <td>1</td>\n",
       "      <td>0</td>\n",
       "      <td>0</td>\n",
       "      <td>0</td>\n",
       "      <td>0</td>\n",
       "      <td>1</td>\n",
       "      <td>0</td>\n",
       "    </tr>\n",
       "    <tr>\n",
       "      <th>1222</th>\n",
       "      <td>0</td>\n",
       "      <td>26.000000</td>\n",
       "      <td>1.624099</td>\n",
       "      <td>109.978402</td>\n",
       "      <td>1</td>\n",
       "      <td>3.000000</td>\n",
       "      <td>2.523793</td>\n",
       "      <td>1</td>\n",
       "      <td>0</td>\n",
       "      <td>3.000000</td>\n",
       "      <td>...</td>\n",
       "      <td>3</td>\n",
       "      <td>0</td>\n",
       "      <td>0</td>\n",
       "      <td>1</td>\n",
       "      <td>0</td>\n",
       "      <td>0</td>\n",
       "      <td>0</td>\n",
       "      <td>0</td>\n",
       "      <td>1</td>\n",
       "      <td>0</td>\n",
       "    </tr>\n",
       "    <tr>\n",
       "      <th>701</th>\n",
       "      <td>1</td>\n",
       "      <td>41.000000</td>\n",
       "      <td>1.800000</td>\n",
       "      <td>92.000000</td>\n",
       "      <td>1</td>\n",
       "      <td>2.000000</td>\n",
       "      <td>3.000000</td>\n",
       "      <td>1</td>\n",
       "      <td>0</td>\n",
       "      <td>1.000000</td>\n",
       "      <td>...</td>\n",
       "      <td>2</td>\n",
       "      <td>0</td>\n",
       "      <td>1</td>\n",
       "      <td>0</td>\n",
       "      <td>0</td>\n",
       "      <td>1</td>\n",
       "      <td>0</td>\n",
       "      <td>0</td>\n",
       "      <td>0</td>\n",
       "      <td>0</td>\n",
       "    </tr>\n",
       "    <tr>\n",
       "      <th>540</th>\n",
       "      <td>1</td>\n",
       "      <td>50.832559</td>\n",
       "      <td>1.745528</td>\n",
       "      <td>82.130728</td>\n",
       "      <td>1</td>\n",
       "      <td>2.000000</td>\n",
       "      <td>1.774778</td>\n",
       "      <td>0</td>\n",
       "      <td>0</td>\n",
       "      <td>3.000000</td>\n",
       "      <td>...</td>\n",
       "      <td>2</td>\n",
       "      <td>0</td>\n",
       "      <td>0</td>\n",
       "      <td>1</td>\n",
       "      <td>0</td>\n",
       "      <td>1</td>\n",
       "      <td>0</td>\n",
       "      <td>0</td>\n",
       "      <td>0</td>\n",
       "      <td>0</td>\n",
       "    </tr>\n",
       "    <tr>\n",
       "      <th>...</th>\n",
       "      <td>...</td>\n",
       "      <td>...</td>\n",
       "      <td>...</td>\n",
       "      <td>...</td>\n",
       "      <td>...</td>\n",
       "      <td>...</td>\n",
       "      <td>...</td>\n",
       "      <td>...</td>\n",
       "      <td>...</td>\n",
       "      <td>...</td>\n",
       "      <td>...</td>\n",
       "      <td>...</td>\n",
       "      <td>...</td>\n",
       "      <td>...</td>\n",
       "      <td>...</td>\n",
       "      <td>...</td>\n",
       "      <td>...</td>\n",
       "      <td>...</td>\n",
       "      <td>...</td>\n",
       "      <td>...</td>\n",
       "      <td>...</td>\n",
       "    </tr>\n",
       "    <tr>\n",
       "      <th>169</th>\n",
       "      <td>1</td>\n",
       "      <td>18.000000</td>\n",
       "      <td>1.781543</td>\n",
       "      <td>50.869704</td>\n",
       "      <td>1</td>\n",
       "      <td>2.052932</td>\n",
       "      <td>2.000000</td>\n",
       "      <td>1</td>\n",
       "      <td>0</td>\n",
       "      <td>3.000000</td>\n",
       "      <td>...</td>\n",
       "      <td>0</td>\n",
       "      <td>0</td>\n",
       "      <td>0</td>\n",
       "      <td>1</td>\n",
       "      <td>0</td>\n",
       "      <td>0</td>\n",
       "      <td>0</td>\n",
       "      <td>0</td>\n",
       "      <td>1</td>\n",
       "      <td>0</td>\n",
       "    </tr>\n",
       "    <tr>\n",
       "      <th>535</th>\n",
       "      <td>0</td>\n",
       "      <td>34.204408</td>\n",
       "      <td>1.664927</td>\n",
       "      <td>80.386078</td>\n",
       "      <td>1</td>\n",
       "      <td>2.000000</td>\n",
       "      <td>2.641642</td>\n",
       "      <td>0</td>\n",
       "      <td>0</td>\n",
       "      <td>3.000000</td>\n",
       "      <td>...</td>\n",
       "      <td>2</td>\n",
       "      <td>0</td>\n",
       "      <td>0</td>\n",
       "      <td>1</td>\n",
       "      <td>0</td>\n",
       "      <td>1</td>\n",
       "      <td>0</td>\n",
       "      <td>0</td>\n",
       "      <td>0</td>\n",
       "      <td>0</td>\n",
       "    </tr>\n",
       "    <tr>\n",
       "      <th>1351</th>\n",
       "      <td>1</td>\n",
       "      <td>24.001889</td>\n",
       "      <td>1.614075</td>\n",
       "      <td>100.245302</td>\n",
       "      <td>1</td>\n",
       "      <td>2.880483</td>\n",
       "      <td>1.006378</td>\n",
       "      <td>0</td>\n",
       "      <td>0</td>\n",
       "      <td>1.703299</td>\n",
       "      <td>...</td>\n",
       "      <td>3</td>\n",
       "      <td>0</td>\n",
       "      <td>0</td>\n",
       "      <td>1</td>\n",
       "      <td>0</td>\n",
       "      <td>0</td>\n",
       "      <td>0</td>\n",
       "      <td>0</td>\n",
       "      <td>1</td>\n",
       "      <td>0</td>\n",
       "    </tr>\n",
       "    <tr>\n",
       "      <th>700</th>\n",
       "      <td>0</td>\n",
       "      <td>38.692265</td>\n",
       "      <td>1.548178</td>\n",
       "      <td>62.341438</td>\n",
       "      <td>1</td>\n",
       "      <td>2.956671</td>\n",
       "      <td>2.868132</td>\n",
       "      <td>1</td>\n",
       "      <td>0</td>\n",
       "      <td>2.965494</td>\n",
       "      <td>...</td>\n",
       "      <td>2</td>\n",
       "      <td>0</td>\n",
       "      <td>0</td>\n",
       "      <td>1</td>\n",
       "      <td>0</td>\n",
       "      <td>1</td>\n",
       "      <td>0</td>\n",
       "      <td>0</td>\n",
       "      <td>0</td>\n",
       "      <td>0</td>\n",
       "    </tr>\n",
       "    <tr>\n",
       "      <th>165</th>\n",
       "      <td>1</td>\n",
       "      <td>19.084317</td>\n",
       "      <td>1.851123</td>\n",
       "      <td>61.264785</td>\n",
       "      <td>1</td>\n",
       "      <td>3.000000</td>\n",
       "      <td>2.548527</td>\n",
       "      <td>1</td>\n",
       "      <td>0</td>\n",
       "      <td>3.994588</td>\n",
       "      <td>...</td>\n",
       "      <td>0</td>\n",
       "      <td>0</td>\n",
       "      <td>0</td>\n",
       "      <td>1</td>\n",
       "      <td>0</td>\n",
       "      <td>1</td>\n",
       "      <td>0</td>\n",
       "      <td>0</td>\n",
       "      <td>0</td>\n",
       "      <td>0</td>\n",
       "    </tr>\n",
       "  </tbody>\n",
       "</table>\n",
       "<p>986 rows × 24 columns</p>\n",
       "</div>"
      ],
      "text/plain": [
       "      Gender        Age    Height      Weight  H_Cal_Consump  Veg_Consump  \\\n",
       "1104       1  39.569004  1.785286  100.431625              1     2.871768   \n",
       "716        0  16.865984  1.644053   67.439589              1     1.314150   \n",
       "1222       0  26.000000  1.624099  109.978402              1     3.000000   \n",
       "701        1  41.000000  1.800000   92.000000              1     2.000000   \n",
       "540        1  50.832559  1.745528   82.130728              1     2.000000   \n",
       "...      ...        ...       ...         ...            ...          ...   \n",
       "169        1  18.000000  1.781543   50.869704              1     2.052932   \n",
       "535        0  34.204408  1.664927   80.386078              1     2.000000   \n",
       "1351       1  24.001889  1.614075  100.245302              1     2.880483   \n",
       "700        0  38.692265  1.548178   62.341438              1     2.956671   \n",
       "165        1  19.084317  1.851123   61.264785              1     3.000000   \n",
       "\n",
       "      Water_Consump  Alcohol_Consump  Smoking  Meal_Count  ...  Body_Level  \\\n",
       "1104       2.691322                2        0    1.792695  ...           3   \n",
       "716        1.364957                0        0    1.068196  ...           2   \n",
       "1222       2.523793                1        0    3.000000  ...           3   \n",
       "701        3.000000                1        0    1.000000  ...           2   \n",
       "540        1.774778                0        0    3.000000  ...           2   \n",
       "...             ...              ...      ...         ...  ...         ...   \n",
       "169        2.000000                1        0    3.000000  ...           0   \n",
       "535        2.641642                0        0    3.000000  ...           2   \n",
       "1351       1.006378                0        0    1.703299  ...           3   \n",
       "700        2.868132                1        0    2.965494  ...           2   \n",
       "165        2.548527                1        0    3.994588  ...           0   \n",
       "\n",
       "      FBM__Always  FBM__Frequently  FBM__Sometimes  FBM__no  Automobile  Bike  \\\n",
       "1104            0                0               1        0           1     0   \n",
       "716             0                0               1        0           0     0   \n",
       "1222            0                0               1        0           0     0   \n",
       "701             0                1               0        0           1     0   \n",
       "540             0                0               1        0           1     0   \n",
       "...           ...              ...             ...      ...         ...   ...   \n",
       "169             0                0               1        0           0     0   \n",
       "535             0                0               1        0           1     0   \n",
       "1351            0                0               1        0           0     0   \n",
       "700             0                0               1        0           1     0   \n",
       "165             0                0               1        0           1     0   \n",
       "\n",
       "      Motorbike  Public_Transportation  Walking  \n",
       "1104          0                      0        0  \n",
       "716           0                      1        0  \n",
       "1222          0                      1        0  \n",
       "701           0                      0        0  \n",
       "540           0                      0        0  \n",
       "...         ...                    ...      ...  \n",
       "169           0                      1        0  \n",
       "535           0                      0        0  \n",
       "1351          0                      1        0  \n",
       "700           0                      0        0  \n",
       "165           0                      0        0  \n",
       "\n",
       "[986 rows x 24 columns]"
      ]
     },
     "execution_count": 31,
     "metadata": {},
     "output_type": "execute_result"
    }
   ],
   "source": [
    "all_class_train"
   ]
  },
  {
   "cell_type": "code",
   "execution_count": 32,
   "id": "44dbcb1c",
   "metadata": {},
   "outputs": [
    {
     "name": "stdout",
     "output_type": "stream",
     "text": [
      "Feature: 0, Score: -0.24338\n",
      "Feature: 1, Score: -0.71602\n",
      "Feature: 2, Score: 2.45444\n",
      "Feature: 3, Score: -7.67318\n",
      "Feature: 4, Score: -0.17172\n",
      "Feature: 5, Score: 0.26902\n",
      "Feature: 6, Score: 0.07991\n",
      "Feature: 7, Score: 0.05837\n",
      "Feature: 8, Score: -0.39785\n",
      "Feature: 9, Score: 0.01056\n",
      "Feature: 10, Score: -0.32515\n",
      "Feature: 11, Score: -0.08779\n",
      "Feature: 12, Score: 0.10328\n",
      "Feature: 13, Score: 0.01650\n",
      "Feature: 14, Score: -0.22886\n",
      "Feature: 15, Score: 0.33666\n",
      "Feature: 16, Score: -0.18671\n",
      "Feature: 17, Score: -0.01034\n",
      "Feature: 18, Score: 0.07916\n",
      "Feature: 19, Score: -0.20233\n",
      "Feature: 20, Score: -0.24209\n",
      "Feature: 21, Score: 0.03600\n",
      "Feature: 22, Score: -0.08137\n"
     ]
    },
    {
     "data": {
      "image/png": "[encoded data removed]",
      "text/plain": [
       "<Figure size 640x480 with 1 Axes>"
      ]
     },
     "metadata": {},
     "output_type": "display_data"
    }
   ],
   "source": [
    "\n",
    "# logistic regression for feature importance\n",
    "from sklearn.datasets import make_classification\n",
    "from sklearn.linear_model import LogisticRegression\n",
    "from matplotlib import pyplot\n",
    "# define dataset\n",
    "# define the model\n",
    "model = LogisticRegression()\n",
    "# fit the model\n",
    "model.fit(X_train, Y_train)\n",
    "# get importance\n",
    "importance = model.coef_[0]\n",
    "# summarize feature importance\n",
    "for i,v in enumerate(importance):\n",
    " print('Feature: %0d, Score: %.5f' % (i,v))\n",
    "# plot feature importance\n",
    "pyplot.bar([x for x in range(len(importance))], importance)\n",
    "pyplot.show()"
   ]
  },
  {
   "cell_type": "code",
   "execution_count": 38,
   "id": "3d0a2bdb",
   "metadata": {},
   "outputs": [],
   "source": [
    "from sklearn.ensemble import GradientBoostingClassifier\n",
    "\n",
    "model = GradientBoostingClassifier()\n",
    "model.fit(X_train, Y_train)\n",
    "importances = pd.DataFrame(data={\n",
    "    'Attribute': all_class_train.drop(\"Body_Level\",axis=1).columns,\n",
    "    'Importance': model.feature_importances_\n",
    "})\n",
    "importances = importances.sort_values(by='Importance', ascending=False)"
   ]
  },
  {
   "cell_type": "code",
   "execution_count": 39,
   "id": "6e2ef2b7",
   "metadata": {},
   "outputs": [
    {
     "data": {
      "image/png": "[encoded data removed]",
      "text/plain": [
       "<Figure size 640x480 with 1 Axes>"
      ]
     },
     "metadata": {},
     "output_type": "display_data"
    }
   ],
   "source": [
    "plt.bar(x=importances['Attribute'], height=importances['Importance'], color='#087E8B')\n",
    "plt.title('Feature importances obtained from coefficients', size=20)\n",
    "plt.xticks(rotation='vertical')\n",
    "plt.show()"
   ]
  },
  {
   "cell_type": "code",
   "execution_count": 40,
   "id": "fd9f564d",
   "metadata": {},
   "outputs": [
    {
     "data": {
      "image/png": "[encoded data removed]",
      "text/plain": [
       "<Figure size 640x480 with 1 Axes>"
      ]
     },
     "metadata": {},
     "output_type": "display_data"
    }
   ],
   "source": [
    "from sklearn.decomposition import PCA\n",
    "\n",
    "pca = PCA().fit(X_train)\n",
    "\n",
    "plt.plot(pca.explained_variance_ratio_.cumsum(), lw=3, color='#087E8B')\n",
    "plt.title('Cumulative explained variance by number of principal components', size=20)\n",
    "plt.show()"
   ]
  },
  {
   "cell_type": "code",
   "execution_count": 43,
   "id": "ad5f92c9",
   "metadata": {},
   "outputs": [
    {
     "data": {
      "text/html": [
       "<div>\n",
       "<style scoped>\n",
       "    .dataframe tbody tr th:only-of-type {\n",
       "        vertical-align: middle;\n",
       "    }\n",
       "\n",
       "    .dataframe tbody tr th {\n",
       "        vertical-align: top;\n",
       "    }\n",
       "\n",
       "    .dataframe thead th {\n",
       "        text-align: right;\n",
       "    }\n",
       "</style>\n",
       "<table border=\"1\" class=\"dataframe\">\n",
       "  <thead>\n",
       "    <tr style=\"text-align: right;\">\n",
       "      <th></th>\n",
       "      <th>PC1</th>\n",
       "      <th>PC2</th>\n",
       "      <th>PC3</th>\n",
       "      <th>PC4</th>\n",
       "      <th>PC5</th>\n",
       "      <th>PC6</th>\n",
       "      <th>PC7</th>\n",
       "      <th>PC8</th>\n",
       "      <th>PC9</th>\n",
       "      <th>PC10</th>\n",
       "      <th>...</th>\n",
       "      <th>PC14</th>\n",
       "      <th>PC15</th>\n",
       "      <th>PC16</th>\n",
       "      <th>PC17</th>\n",
       "      <th>PC18</th>\n",
       "      <th>PC19</th>\n",
       "      <th>PC20</th>\n",
       "      <th>PC21</th>\n",
       "      <th>PC22</th>\n",
       "      <th>PC23</th>\n",
       "    </tr>\n",
       "  </thead>\n",
       "  <tbody>\n",
       "    <tr>\n",
       "      <th>Gender</th>\n",
       "      <td>-0.396745</td>\n",
       "      <td>0.049103</td>\n",
       "      <td>0.607589</td>\n",
       "      <td>-0.310031</td>\n",
       "      <td>0.253513</td>\n",
       "      <td>-0.184080</td>\n",
       "      <td>-0.086828</td>\n",
       "      <td>0.092670</td>\n",
       "      <td>-0.053343</td>\n",
       "      <td>0.044546</td>\n",
       "      <td>...</td>\n",
       "      <td>0.086236</td>\n",
       "      <td>-0.196279</td>\n",
       "      <td>0.011166</td>\n",
       "      <td>-0.120754</td>\n",
       "      <td>0.162789</td>\n",
       "      <td>-0.041325</td>\n",
       "      <td>0.308998</td>\n",
       "      <td>-0.173545</td>\n",
       "      <td>-5.474916e-32</td>\n",
       "      <td>1.202502e-32</td>\n",
       "    </tr>\n",
       "    <tr>\n",
       "      <th>Age</th>\n",
       "      <td>-0.423470</td>\n",
       "      <td>0.630343</td>\n",
       "      <td>-0.272876</td>\n",
       "      <td>0.127556</td>\n",
       "      <td>0.142972</td>\n",
       "      <td>0.039793</td>\n",
       "      <td>-0.006947</td>\n",
       "      <td>0.040253</td>\n",
       "      <td>-0.022395</td>\n",
       "      <td>-0.169926</td>\n",
       "      <td>...</td>\n",
       "      <td>0.027812</td>\n",
       "      <td>-0.070598</td>\n",
       "      <td>-0.027425</td>\n",
       "      <td>0.032254</td>\n",
       "      <td>-0.030221</td>\n",
       "      <td>0.445155</td>\n",
       "      <td>0.204545</td>\n",
       "      <td>0.143863</td>\n",
       "      <td>-5.036027e-32</td>\n",
       "      <td>3.611808e-32</td>\n",
       "    </tr>\n",
       "    <tr>\n",
       "      <th>Height</th>\n",
       "      <td>-0.552383</td>\n",
       "      <td>-0.143533</td>\n",
       "      <td>0.648148</td>\n",
       "      <td>0.056113</td>\n",
       "      <td>0.147943</td>\n",
       "      <td>-0.190258</td>\n",
       "      <td>-0.021397</td>\n",
       "      <td>-0.033871</td>\n",
       "      <td>-0.037912</td>\n",
       "      <td>0.102953</td>\n",
       "      <td>...</td>\n",
       "      <td>0.096491</td>\n",
       "      <td>-0.108476</td>\n",
       "      <td>0.030217</td>\n",
       "      <td>-0.046724</td>\n",
       "      <td>0.086819</td>\n",
       "      <td>-0.045061</td>\n",
       "      <td>-0.188544</td>\n",
       "      <td>0.307467</td>\n",
       "      <td>4.116763e-32</td>\n",
       "      <td>-3.345259e-32</td>\n",
       "    </tr>\n",
       "    <tr>\n",
       "      <th>Weight</th>\n",
       "      <td>-0.703114</td>\n",
       "      <td>-0.334482</td>\n",
       "      <td>0.034478</td>\n",
       "      <td>0.297402</td>\n",
       "      <td>0.153972</td>\n",
       "      <td>0.073465</td>\n",
       "      <td>0.036851</td>\n",
       "      <td>0.045765</td>\n",
       "      <td>0.085987</td>\n",
       "      <td>0.032180</td>\n",
       "      <td>...</td>\n",
       "      <td>0.019351</td>\n",
       "      <td>-0.102990</td>\n",
       "      <td>0.118419</td>\n",
       "      <td>-0.067564</td>\n",
       "      <td>-0.065813</td>\n",
       "      <td>0.255794</td>\n",
       "      <td>-0.288423</td>\n",
       "      <td>-0.219663</td>\n",
       "      <td>-5.728578e-33</td>\n",
       "      <td>4.567440e-32</td>\n",
       "    </tr>\n",
       "    <tr>\n",
       "      <th>H_Cal_Consump</th>\n",
       "      <td>-0.408027</td>\n",
       "      <td>-0.195058</td>\n",
       "      <td>-0.211005</td>\n",
       "      <td>-0.073683</td>\n",
       "      <td>0.214619</td>\n",
       "      <td>-0.271560</td>\n",
       "      <td>0.159574</td>\n",
       "      <td>-0.029083</td>\n",
       "      <td>0.095697</td>\n",
       "      <td>0.167912</td>\n",
       "      <td>...</td>\n",
       "      <td>0.284521</td>\n",
       "      <td>0.377498</td>\n",
       "      <td>0.250903</td>\n",
       "      <td>0.311656</td>\n",
       "      <td>-0.004594</td>\n",
       "      <td>0.020301</td>\n",
       "      <td>0.080681</td>\n",
       "      <td>-0.014569</td>\n",
       "      <td>-1.059332e-32</td>\n",
       "      <td>-8.716718e-33</td>\n",
       "    </tr>\n",
       "  </tbody>\n",
       "</table>\n",
       "<p>5 rows × 23 columns</p>\n",
       "</div>"
      ],
      "text/plain": [
       "                    PC1       PC2       PC3       PC4       PC5       PC6  \\\n",
       "Gender        -0.396745  0.049103  0.607589 -0.310031  0.253513 -0.184080   \n",
       "Age           -0.423470  0.630343 -0.272876  0.127556  0.142972  0.039793   \n",
       "Height        -0.552383 -0.143533  0.648148  0.056113  0.147943 -0.190258   \n",
       "Weight        -0.703114 -0.334482  0.034478  0.297402  0.153972  0.073465   \n",
       "H_Cal_Consump -0.408027 -0.195058 -0.211005 -0.073683  0.214619 -0.271560   \n",
       "\n",
       "                    PC7       PC8       PC9      PC10  ...      PC14  \\\n",
       "Gender        -0.086828  0.092670 -0.053343  0.044546  ...  0.086236   \n",
       "Age           -0.006947  0.040253 -0.022395 -0.169926  ...  0.027812   \n",
       "Height        -0.021397 -0.033871 -0.037912  0.102953  ...  0.096491   \n",
       "Weight         0.036851  0.045765  0.085987  0.032180  ...  0.019351   \n",
       "H_Cal_Consump  0.159574 -0.029083  0.095697  0.167912  ...  0.284521   \n",
       "\n",
       "                   PC15      PC16      PC17      PC18      PC19      PC20  \\\n",
       "Gender        -0.196279  0.011166 -0.120754  0.162789 -0.041325  0.308998   \n",
       "Age           -0.070598 -0.027425  0.032254 -0.030221  0.445155  0.204545   \n",
       "Height        -0.108476  0.030217 -0.046724  0.086819 -0.045061 -0.188544   \n",
       "Weight        -0.102990  0.118419 -0.067564 -0.065813  0.255794 -0.288423   \n",
       "H_Cal_Consump  0.377498  0.250903  0.311656 -0.004594  0.020301  0.080681   \n",
       "\n",
       "                   PC21          PC22          PC23  \n",
       "Gender        -0.173545 -5.474916e-32  1.202502e-32  \n",
       "Age            0.143863 -5.036027e-32  3.611808e-32  \n",
       "Height         0.307467  4.116763e-32 -3.345259e-32  \n",
       "Weight        -0.219663 -5.728578e-33  4.567440e-32  \n",
       "H_Cal_Consump -0.014569 -1.059332e-32 -8.716718e-33  \n",
       "\n",
       "[5 rows x 23 columns]"
      ]
     },
     "execution_count": 43,
     "metadata": {},
     "output_type": "execute_result"
    }
   ],
   "source": [
    "loadings = pd.DataFrame(\n",
    "    data=pca.components_.T * np.sqrt(pca.explained_variance_), \n",
    "    columns=[f'PC{i}' for i in range(1, len(all_class_train.drop(\"Body_Level\",axis=1).columns) + 1)],\n",
    "    index=all_class_train.drop(\"Body_Level\",axis=1).columns\n",
    ")\n",
    "loadings.head()"
   ]
  },
  {
   "cell_type": "code",
   "execution_count": 50,
   "id": "d3c20b6d",
   "metadata": {},
   "outputs": [
    {
     "data": {
      "image/png": "[encoded data removed]",
      "text/plain": [
       "<Figure size 640x480 with 1 Axes>"
      ]
     },
     "metadata": {},
     "output_type": "display_data"
    }
   ],
   "source": [
    "pc1_loadings = loadings.sort_values(by='PC1', ascending=False)[['PC1']]\n",
    "pc1_loadings = pc1_loadings.reset_index()\n",
    "pc1_loadings.columns = ['Attribute', 'CorrelationWithPC1']\n",
    "\n",
    "plt.bar(x=pc1_loadings['Attribute'], height=pc1_loadings['CorrelationWithPC1'], color='#087E8B')\n",
    "plt.title('PCA loading scores (first principal component)', size=20)\n",
    "plt.xticks(rotation='vertical')\n",
    "plt.show()\n"
   ]
  },
  {
   "cell_type": "code",
   "execution_count": null,
   "id": "c19b7d41",
   "metadata": {},
   "outputs": [],
   "source": []
  }
 ],
 "metadata": {
  "kernelspec": {
   "display_name": "Python 3 (ipykernel)",
   "language": "python",
   "name": "python3"
  },
  "language_info": {
   "codemirror_mode": {
    "name": "ipython",
    "version": 3
   },
   "file_extension": ".py",
   "mimetype": "text/x-python",
   "name": "python",
   "nbconvert_exporter": "python",
   "pygments_lexer": "ipython3",
   "version": "3.9.13"
  }
 },
 "nbformat": 4,
 "nbformat_minor": 5
}

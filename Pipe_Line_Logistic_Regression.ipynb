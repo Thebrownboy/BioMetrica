{
 "cells": [
  {
   "cell_type": "markdown",
   "id": "366b4301",
   "metadata": {},
   "source": [
    "# بسم الله الرحمن الرحيم"
   ]
  },
  {
   "cell_type": "code",
   "execution_count": 26,
   "id": "2144698b",
   "metadata": {},
   "outputs": [],
   "source": [
    "from utils import *\n",
    "import pandas as pd \n",
    "from sklearn.model_selection import train_test_split\n",
    "from sklearn.linear_model import LogisticRegression\n",
    "from sklearn.model_selection import GridSearchCV\n",
    "from sklearn.metrics import accuracy_score\n",
    "from matplotlib import pyplot as plt \n"
   ]
  },
  {
   "cell_type": "code",
   "execution_count": 27,
   "id": "3acb315d",
   "metadata": {},
   "outputs": [],
   "source": [
    "df = pd.read_csv(\"dataset/body_level_classification_train.csv\")"
   ]
  },
  {
   "cell_type": "code",
   "execution_count": 28,
   "id": "09063b7a",
   "metadata": {},
   "outputs": [],
   "source": [
    "df_original= cleaning_data(df).copy()"
   ]
  },
  {
   "cell_type": "code",
   "execution_count": 29,
   "id": "8323be7f",
   "metadata": {},
   "outputs": [],
   "source": [
    "all_class_train,all_class_test=data_spliting(df_original,1/3)\n",
    "## shuffling \n",
    "all_class_train = all_class_train.sample(frac=1.0, random_state=42)\n",
    "all_class_test = all_class_test.sample(frac=1.0, random_state=42)"
   ]
  },
  {
   "cell_type": "code",
   "execution_count": 30,
   "id": "4742b3ae",
   "metadata": {},
   "outputs": [],
   "source": [
    "X_train=all_class_train.drop([\"Body_Level\"],axis=1).to_numpy()\n",
    "Y_train=all_class_train[\"Body_Level\"].to_numpy()\n",
    "X_test =all_class_test.drop([\"Body_Level\"],axis=1).to_numpy()\n",
    "Y_test =all_class_test[\"Body_Level\"].to_numpy()"
   ]
  },
  {
   "cell_type": "code",
   "execution_count": 31,
   "id": "47964cd4",
   "metadata": {},
   "outputs": [],
   "source": [
    "class_weights = all_class_train[\"Body_Level\"].value_counts().to_dict()\n",
    "total_num = sum(class_weights.values())\n",
    "class_weights= { i : (total_num/(4* j )) for i ,j in zip(class_weights.keys(),class_weights.values())}"
   ]
  },
  {
   "cell_type": "code",
   "execution_count": 32,
   "id": "a42bc0bd",
   "metadata": {},
   "outputs": [],
   "source": [
    "X_train, scaler= data_scaling(X_train)\n"
   ]
  },
  {
   "cell_type": "code",
   "execution_count": 33,
   "id": "65948699",
   "metadata": {},
   "outputs": [],
   "source": [
    "X_val, X_test, Y_val, Y_test = train_test_split(X_test\n",
    "                                                     , Y_test, test_size=0.5, random_state=42)"
   ]
  },
  {
   "cell_type": "code",
   "execution_count": 34,
   "id": "099adff6",
   "metadata": {},
   "outputs": [],
   "source": [
    "X_val = scaler.transform(X_val)\n",
    "X_test=scaler.transform(X_test)"
   ]
  },
  {
   "cell_type": "code",
   "execution_count": 35,
   "id": "293e51a9",
   "metadata": {},
   "outputs": [
    {
     "name": "stdout",
     "output_type": "stream",
     "text": [
      "Fitting 5 folds for each of 22 candidates, totalling 110 fits\n",
      "[CV] END ................................C=0.001, penalty=l2; total time=   0.0s\n",
      "[CV] END ................................C=0.001, penalty=l2; total time=   0.0s\n",
      "[CV] END ................................C=0.001, penalty=l2; total time=   0.0s\n",
      "[CV] END ................................C=0.001, penalty=l2; total time=   0.0s\n",
      "[CV] END ................................C=0.001, penalty=l2; total time=   0.0s\n",
      "[CV] END .................................C=0.01, penalty=l2; total time=   0.0s\n",
      "[CV] END .................................C=0.01, penalty=l2; total time=   0.0s\n",
      "[CV] END .................................C=0.01, penalty=l2; total time=   0.0s\n",
      "[CV] END .................................C=0.01, penalty=l2; total time=   0.0s\n",
      "[CV] END .................................C=0.01, penalty=l2; total time=   0.0s\n",
      "[CV] END ..................................C=0.1, penalty=l2; total time=   0.0s\n",
      "[CV] END ..................................C=0.1, penalty=l2; total time=   0.0s\n",
      "[CV] END ..................................C=0.1, penalty=l2; total time=   0.0s\n",
      "[CV] END ..................................C=0.1, penalty=l2; total time=   0.0s\n",
      "[CV] END ..................................C=0.1, penalty=l2; total time=   0.0s\n",
      "[CV] END ....................................C=1, penalty=l2; total time=   0.0s\n",
      "[CV] END ....................................C=1, penalty=l2; total time=   0.0s\n",
      "[CV] END ....................................C=1, penalty=l2; total time=   0.0s\n",
      "[CV] END ....................................C=1, penalty=l2; total time=   0.0s\n",
      "[CV] END ....................................C=1, penalty=l2; total time=   0.0s\n",
      "[CV] END ...................................C=10, penalty=l2; total time=   0.1s\n",
      "[CV] END ...................................C=10, penalty=l2; total time=   0.1s\n",
      "[CV] END ...................................C=10, penalty=l2; total time=   0.1s\n",
      "[CV] END ...................................C=10, penalty=l2; total time=   0.1s\n",
      "[CV] END ...................................C=10, penalty=l2; total time=   0.1s\n",
      "[CV] END ..................................C=100, penalty=l2; total time=   0.2s\n",
      "[CV] END ..................................C=100, penalty=l2; total time=   0.2s\n",
      "[CV] END ..................................C=100, penalty=l2; total time=   0.2s\n",
      "[CV] END ..................................C=100, penalty=l2; total time=   0.2s\n",
      "[CV] END ..................................C=100, penalty=l2; total time=   0.2s\n",
      "[CV] END ..................................C=200, penalty=l2; total time=   0.2s\n",
      "[CV] END ..................................C=200, penalty=l2; total time=   0.2s\n",
      "[CV] END ..................................C=200, penalty=l2; total time=   0.2s\n",
      "[CV] END ..................................C=200, penalty=l2; total time=   0.2s\n",
      "[CV] END ..................................C=200, penalty=l2; total time=   0.2s\n",
      "[CV] END ..................................C=300, penalty=l2; total time=   0.2s\n",
      "[CV] END ..................................C=300, penalty=l2; total time=   0.3s\n",
      "[CV] END ..................................C=300, penalty=l2; total time=   0.3s\n",
      "[CV] END ..................................C=300, penalty=l2; total time=   0.3s\n",
      "[CV] END ..................................C=300, penalty=l2; total time=   0.3s\n",
      "[CV] END ..................................C=400, penalty=l2; total time=   0.3s\n",
      "[CV] END ..................................C=400, penalty=l2; total time=   0.3s\n",
      "[CV] END ..................................C=400, penalty=l2; total time=   0.3s\n",
      "[CV] END ..................................C=400, penalty=l2; total time=   0.2s\n",
      "[CV] END ..................................C=400, penalty=l2; total time=   0.2s\n",
      "[CV] END ..................................C=500, penalty=l2; total time=   0.3s\n",
      "[CV] END ..................................C=500, penalty=l2; total time=   0.3s\n",
      "[CV] END ..................................C=500, penalty=l2; total time=   0.3s\n",
      "[CV] END ..................................C=500, penalty=l2; total time=   0.3s\n",
      "[CV] END ..................................C=500, penalty=l2; total time=   0.3s\n",
      "[CV] END ..................................C=600, penalty=l2; total time=   0.3s\n",
      "[CV] END ..................................C=600, penalty=l2; total time=   0.4s\n",
      "[CV] END ..................................C=600, penalty=l2; total time=   0.3s\n",
      "[CV] END ..................................C=600, penalty=l2; total time=   0.3s\n",
      "[CV] END ..................................C=600, penalty=l2; total time=   0.3s\n",
      "[CV] END ..................................C=700, penalty=l2; total time=   0.3s\n",
      "[CV] END ..................................C=700, penalty=l2; total time=   0.4s\n",
      "[CV] END ..................................C=700, penalty=l2; total time=   0.3s\n",
      "[CV] END ..................................C=700, penalty=l2; total time=   0.3s\n",
      "[CV] END ..................................C=700, penalty=l2; total time=   0.3s\n",
      "[CV] END ..................................C=800, penalty=l2; total time=   0.4s\n",
      "[CV] END ..................................C=800, penalty=l2; total time=   0.3s\n",
      "[CV] END ..................................C=800, penalty=l2; total time=   0.3s\n",
      "[CV] END ..................................C=800, penalty=l2; total time=   0.4s\n",
      "[CV] END ..................................C=800, penalty=l2; total time=   0.3s\n",
      "[CV] END ..................................C=900, penalty=l2; total time=   0.3s\n",
      "[CV] END ..................................C=900, penalty=l2; total time=   0.5s\n",
      "[CV] END ..................................C=900, penalty=l2; total time=   0.3s\n",
      "[CV] END ..................................C=900, penalty=l2; total time=   0.3s\n",
      "[CV] END ..................................C=900, penalty=l2; total time=   0.4s\n",
      "[CV] END .................................C=1000, penalty=l2; total time=   0.3s\n",
      "[CV] END .................................C=1000, penalty=l2; total time=   0.4s\n",
      "[CV] END .................................C=1000, penalty=l2; total time=   0.4s\n",
      "[CV] END .................................C=1000, penalty=l2; total time=   0.3s\n",
      "[CV] END .................................C=1000, penalty=l2; total time=   0.3s\n",
      "[CV] END .................................C=2000, penalty=l2; total time=   0.5s\n",
      "[CV] END .................................C=2000, penalty=l2; total time=   0.4s\n",
      "[CV] END .................................C=2000, penalty=l2; total time=   0.4s\n",
      "[CV] END .................................C=2000, penalty=l2; total time=   0.4s\n",
      "[CV] END .................................C=2000, penalty=l2; total time=   0.5s\n",
      "[CV] END .................................C=3000, penalty=l2; total time=   0.6s\n",
      "[CV] END .................................C=3000, penalty=l2; total time=   0.4s\n",
      "[CV] END .................................C=3000, penalty=l2; total time=   0.4s\n",
      "[CV] END .................................C=3000, penalty=l2; total time=   0.3s\n",
      "[CV] END .................................C=3000, penalty=l2; total time=   0.4s\n",
      "[CV] END .................................C=4000, penalty=l2; total time=   0.5s\n",
      "[CV] END .................................C=4000, penalty=l2; total time=   0.5s\n",
      "[CV] END .................................C=4000, penalty=l2; total time=   0.4s\n",
      "[CV] END .................................C=4000, penalty=l2; total time=   0.4s\n",
      "[CV] END .................................C=4000, penalty=l2; total time=   0.5s\n",
      "[CV] END .................................C=5000, penalty=l2; total time=   0.5s\n",
      "[CV] END .................................C=5000, penalty=l2; total time=   0.5s\n",
      "[CV] END .................................C=5000, penalty=l2; total time=   0.5s\n",
      "[CV] END .................................C=5000, penalty=l2; total time=   0.3s\n",
      "[CV] END .................................C=5000, penalty=l2; total time=   0.4s\n",
      "[CV] END .................................C=6000, penalty=l2; total time=   0.6s\n",
      "[CV] END .................................C=6000, penalty=l2; total time=   0.6s\n",
      "[CV] END .................................C=6000, penalty=l2; total time=   0.5s\n",
      "[CV] END .................................C=6000, penalty=l2; total time=   0.4s\n",
      "[CV] END .................................C=6000, penalty=l2; total time=   0.5s\n",
      "[CV] END .................................C=7000, penalty=l2; total time=   0.7s\n"
     ]
    },
    {
     "name": "stdout",
     "output_type": "stream",
     "text": [
      "[CV] END .................................C=7000, penalty=l2; total time=   0.5s\n",
      "[CV] END .................................C=7000, penalty=l2; total time=   0.4s\n",
      "[CV] END .................................C=7000, penalty=l2; total time=   0.3s\n",
      "[CV] END .................................C=7000, penalty=l2; total time=   0.5s\n",
      "[CV] END ................................C=10000, penalty=l2; total time=   0.6s\n",
      "[CV] END ................................C=10000, penalty=l2; total time=   0.5s\n",
      "[CV] END ................................C=10000, penalty=l2; total time=   0.6s\n",
      "[CV] END ................................C=10000, penalty=l2; total time=   0.4s\n",
      "[CV] END ................................C=10000, penalty=l2; total time=   0.5s\n",
      "0.001 0.646059580577347\n",
      "0.01 0.7180279956929703\n",
      "0.1 0.8407783417935702\n",
      "1 0.9280008203866071\n",
      "10 0.9574168076706149\n",
      "100 0.9716146233912731\n",
      "200 0.973645080244065\n",
      "300 0.9716146233912731\n",
      "400 0.9695892939547761\n",
      "500 0.9695892939547761\n",
      "600 0.9685791929446751\n",
      "700 0.9685791929446751\n",
      "800 0.969594421371071\n",
      "900 0.969594421371071\n",
      "1000 0.969594421371071\n",
      "2000 0.969594421371071\n",
      "3000 0.969594421371071\n",
      "4000 0.970609649797467\n",
      "5000 0.970609649797467\n",
      "6000 0.970609649797467\n",
      "7000 0.970609649797467\n",
      "10000 0.970609649797467\n"
     ]
    }
   ],
   "source": [
    "\n",
    "reg_model = LogisticRegression(random_state=42,max_iter=3000,class_weight=class_weights)\n",
    "# Define the parameter grid to search over\n",
    "param_grid = {\n",
    "    'C': [0.001,0.01,0.1, 1, 10,100,200,300,400,500 ,600 ,700 ,800,900,1000,2000,\n",
    "         3000,4000,5000,6000,7000,10000],\n",
    "    'penalty': ['l2']\n",
    "}\n",
    "\n",
    "\n",
    "grid_search = GridSearchCV(estimator=reg_model, param_grid=param_grid,\n",
    "                           cv=None,verbose=2)\n",
    "\n",
    "grid_search.fit(X_train, Y_train)\n",
    "\n",
    "\n",
    "\n",
    "# Access the cv_results_ dictionary\n",
    "cv_results = grid_search.cv_results_\n",
    "\n",
    "# Print the mean test scores for each hyperparameter combination\n",
    "for mean_score, params in zip(cv_results['mean_test_score'], cv_results['params']):\n",
    "    print(params['C'], mean_score)\n",
    "\n"
   ]
  },
  {
   "cell_type": "code",
   "execution_count": 36,
   "id": "240e4f86",
   "metadata": {},
   "outputs": [],
   "source": [
    "# Print the mean test scores for each hyperparameter combination\n",
    "x_axis = []\n",
    "y_axis = []\n",
    "for mean_score, params in zip(cv_results['mean_test_score'], cv_results['params']):\n",
    "    x_axis.append(params[\"C\"])\n",
    "    y_axis.append(mean_score)\n",
    "    \n"
   ]
  },
  {
   "cell_type": "code",
   "execution_count": 37,
   "id": "214080f6",
   "metadata": {},
   "outputs": [
    {
     "data": {
      "image/png": "[encoded data removed]",
      "text/plain": [
       "<Figure size 640x480 with 1 Axes>"
      ]
     },
     "metadata": {},
     "output_type": "display_data"
    }
   ],
   "source": [
    "plt.plot(np.arange(1,len(x_axis)+1),y_axis)\n",
    "plt.show()"
   ]
  },
  {
   "cell_type": "code",
   "execution_count": 38,
   "id": "85f699d8",
   "metadata": {},
   "outputs": [],
   "source": [
    "accuracy, repo = test_model(grid_search.best_estimator_,X_train,Y_train ,axis=False)"
   ]
  },
  {
   "cell_type": "code",
   "execution_count": 39,
   "id": "8b34d1e3",
   "metadata": {},
   "outputs": [
    {
     "data": {
      "text/plain": [
       "0.9979716024340771"
      ]
     },
     "execution_count": 39,
     "metadata": {},
     "output_type": "execute_result"
    }
   ],
   "source": [
    "accuracy"
   ]
  },
  {
   "cell_type": "code",
   "execution_count": 40,
   "id": "ed2180ee",
   "metadata": {},
   "outputs": [
    {
     "name": "stdout",
     "output_type": "stream",
     "text": [
      "              precision    recall  f1-score   support\n",
      "\n",
      "           0       1.00      1.00      1.00       127\n",
      "           1       0.99      1.00      1.00       134\n",
      "           2       1.00      1.00      1.00       271\n",
      "           3       1.00      1.00      1.00       454\n",
      "\n",
      "    accuracy                           1.00       986\n",
      "   macro avg       1.00      1.00      1.00       986\n",
      "weighted avg       1.00      1.00      1.00       986\n",
      "\n"
     ]
    }
   ],
   "source": [
    "print(repo) "
   ]
  },
  {
   "cell_type": "code",
   "execution_count": 41,
   "id": "71f23843",
   "metadata": {},
   "outputs": [],
   "source": [
    "accuracy, repo = test_model(grid_search.best_estimator_,X_val,Y_val ,axis=False)"
   ]
  },
  {
   "cell_type": "code",
   "execution_count": 42,
   "id": "42ab0772",
   "metadata": {},
   "outputs": [
    {
     "data": {
      "text/plain": [
       "0.9795918367346939"
      ]
     },
     "execution_count": 42,
     "metadata": {},
     "output_type": "execute_result"
    }
   ],
   "source": [
    "accuracy"
   ]
  },
  {
   "cell_type": "code",
   "execution_count": 43,
   "id": "45d874d9",
   "metadata": {},
   "outputs": [
    {
     "name": "stdout",
     "output_type": "stream",
     "text": [
      "              precision    recall  f1-score   support\n",
      "\n",
      "           0       1.00      0.97      0.99        35\n",
      "           1       0.94      0.97      0.95        31\n",
      "           2       0.95      0.98      0.96        55\n",
      "           3       1.00      0.98      0.99       124\n",
      "\n",
      "    accuracy                           0.98       245\n",
      "   macro avg       0.97      0.98      0.97       245\n",
      "weighted avg       0.98      0.98      0.98       245\n",
      "\n"
     ]
    }
   ],
   "source": [
    "print(repo) "
   ]
  },
  {
   "cell_type": "code",
   "execution_count": 44,
   "id": "c04e839b",
   "metadata": {},
   "outputs": [],
   "source": [
    "accuracy, repo = test_model(grid_search.best_estimator_,X_test,Y_test ,axis=False)"
   ]
  },
  {
   "cell_type": "code",
   "execution_count": 45,
   "id": "e9b21110",
   "metadata": {},
   "outputs": [
    {
     "data": {
      "text/plain": [
       "0.9878048780487805"
      ]
     },
     "execution_count": 45,
     "metadata": {},
     "output_type": "execute_result"
    }
   ],
   "source": [
    "accuracy"
   ]
  },
  {
   "cell_type": "code",
   "execution_count": 46,
   "id": "c95d9ab8",
   "metadata": {},
   "outputs": [
    {
     "name": "stdout",
     "output_type": "stream",
     "text": [
      "              precision    recall  f1-score   support\n",
      "\n",
      "           0       1.00      1.00      1.00        28\n",
      "           1       0.97      1.00      0.99        36\n",
      "           2       0.99      0.97      0.98        80\n",
      "           3       0.99      0.99      0.99       102\n",
      "\n",
      "    accuracy                           0.99       246\n",
      "   macro avg       0.99      0.99      0.99       246\n",
      "weighted avg       0.99      0.99      0.99       246\n",
      "\n"
     ]
    }
   ],
   "source": [
    "print(repo)"
   ]
  },
  {
   "cell_type": "markdown",
   "id": "d748cfa4",
   "metadata": {},
   "source": [
    "# oversampling "
   ]
  },
  {
   "cell_type": "code",
   "execution_count": 47,
   "id": "cc58b918",
   "metadata": {},
   "outputs": [],
   "source": [
    "oversampled= over_sampling(all_class_train,sampling_ratio=0.5)"
   ]
  },
  {
   "cell_type": "code",
   "execution_count": 48,
   "id": "e3c7e779",
   "metadata": {},
   "outputs": [],
   "source": [
    "class_weights = oversampled[\"Body_Level\"].value_counts().to_dict()\n",
    "total_num = sum(class_weights.values())\n",
    "class_weights= { i : (total_num/(4* j )) for i ,j in zip(class_weights.keys(),class_weights.values())}"
   ]
  },
  {
   "cell_type": "code",
   "execution_count": 49,
   "id": "6ff5a061",
   "metadata": {},
   "outputs": [
    {
     "data": {
      "text/plain": [
       "{3: 0.7252202643171806,\n",
       " 2: 0.9571220930232558,\n",
       " 1: 1.256679389312977,\n",
       " 0: 1.2811284046692606}"
      ]
     },
     "execution_count": 49,
     "metadata": {},
     "output_type": "execute_result"
    }
   ],
   "source": [
    "class_weights"
   ]
  },
  {
   "cell_type": "code",
   "execution_count": 50,
   "id": "8dc52235",
   "metadata": {},
   "outputs": [],
   "source": [
    "X_train=oversampled.drop([\"Body_Level\"],axis=1).to_numpy()\n",
    "Y_train=oversampled[\"Body_Level\"].to_numpy()\n",
    "X_test =all_class_test.drop([\"Body_Level\"],axis=1).to_numpy()\n",
    "Y_test =all_class_test[\"Body_Level\"].to_numpy()"
   ]
  },
  {
   "cell_type": "code",
   "execution_count": 51,
   "id": "938a5761",
   "metadata": {},
   "outputs": [],
   "source": [
    "X_train, scaler= data_scaling(X_train)\n",
    "X_val, X_test, Y_val, Y_test = train_test_split(X_test\n",
    "                                                     , Y_test, test_size=0.5, random_state=42)\n",
    "X_val = scaler.transform(X_val)\n",
    "X_test=scaler.transform(X_test)"
   ]
  },
  {
   "cell_type": "code",
   "execution_count": 54,
   "id": "8f36b13b",
   "metadata": {},
   "outputs": [
    {
     "name": "stdout",
     "output_type": "stream",
     "text": [
      "{'C': 0.001, 'penalty': 'l2'} 0.6317144832353957\n",
      "{'C': 0.01, 'penalty': 'l2'} 0.712953681299689\n",
      "{'C': 0.1, 'penalty': 'l2'} 0.844336905173407\n",
      "{'C': 1, 'penalty': 'l2'} 0.936959903214656\n",
      "{'C': 10, 'penalty': 'l2'} 0.9688443369051732\n",
      "{'C': 100, 'penalty': 'l2'} 0.9825210277681762\n",
      "{'C': 200, 'penalty': 'l2'} 0.9832814840419404\n",
      "{'C': 300, 'penalty': 'l2'} 0.9840390597995162\n",
      "{'C': 400, 'penalty': 'l2'} 0.9840390597995162\n",
      "{'C': 500, 'penalty': 'l2'} 0.9847995160732804\n",
      "{'C': 600, 'penalty': 'l2'} 0.9840419403157046\n",
      "{'C': 700, 'penalty': 'l2'} 0.9832814840419404\n",
      "{'C': 800, 'penalty': 'l2'} 0.9832814840419404\n",
      "{'C': 900, 'penalty': 'l2'} 0.9832814840419404\n",
      "{'C': 1000, 'penalty': 'l2'} 0.9832814840419404\n",
      "{'C': 2000, 'penalty': 'l2'} 0.9840419403157046\n",
      "{'C': 3000, 'penalty': 'l2'} 0.9847995160732804\n",
      "{'C': 4000, 'penalty': 'l2'} 0.9855599723470446\n",
      "{'C': 5000, 'penalty': 'l2'} 0.9848023965894688\n",
      "{'C': 6000, 'penalty': 'l2'} 0.9848023965894688\n",
      "{'C': 7000, 'penalty': 'l2'} 0.9848023965894688\n",
      "{'C': 10000, 'penalty': 'l2'} 0.9848023965894688\n"
     ]
    }
   ],
   "source": [
    "from sklearn.linear_model import LogisticRegression\n",
    "from sklearn.model_selection import GridSearchCV\n",
    "from sklearn.datasets import make_classification\n",
    "from sklearn.metrics import accuracy_score\n",
    "\n",
    "\n",
    "\n",
    "reg_model = LogisticRegression(random_state=42,max_iter=3000,class_weight=class_weights)\n",
    "# Define the parameter grid to search over\n",
    "param_grid = {\n",
    "    'C': [0.001,0.01,0.1, 1, 10,100,200,300,400,500 ,600 ,700 ,800,900,1000,2000,\n",
    "         3000,4000,5000,6000,7000,10000],\n",
    "    'penalty': ['l2']\n",
    "}\n",
    "\n",
    "\n",
    "grid_search = GridSearchCV(estimator=reg_model, param_grid=param_grid, cv=None)\n",
    "\n",
    "grid_search.fit(X_train, Y_train)\n",
    "\n",
    "\n",
    "\n",
    "# Access the cv_results_ dictionary\n",
    "cv_results = grid_search.cv_results_\n",
    "\n",
    "# Print the mean test scores for each hyperparameter combination\n",
    "for mean_score, params in zip(cv_results['mean_test_score'], cv_results['params']):\n",
    "    print(params, mean_score)\n",
    "\n"
   ]
  },
  {
   "cell_type": "code",
   "execution_count": 55,
   "id": "afbf8a6a",
   "metadata": {},
   "outputs": [
    {
     "data": {
      "text/plain": [
       "(1.0,\n",
       " '              precision    recall  f1-score   support\\n\\n           0       1.00      1.00      1.00       257\\n           1       1.00      1.00      1.00       262\\n           2       1.00      1.00      1.00       344\\n           3       1.00      1.00      1.00       454\\n\\n    accuracy                           1.00      1317\\n   macro avg       1.00      1.00      1.00      1317\\nweighted avg       1.00      1.00      1.00      1317\\n')"
      ]
     },
     "execution_count": 55,
     "metadata": {},
     "output_type": "execute_result"
    }
   ],
   "source": [
    "test_model(grid_search.best_estimator_,X_train,Y_train ,axis=False)"
   ]
  },
  {
   "cell_type": "code",
   "execution_count": 56,
   "id": "b863987c",
   "metadata": {},
   "outputs": [],
   "source": [
    "accuracy1, repo1 = test_model(grid_search.best_estimator_,X_train,Y_train ,axis=False)\n",
    "accuracy2, repo2 = test_model(grid_search.best_estimator_,X_val,Y_val ,axis=False)\n",
    "accuracy3, repo3 = test_model(grid_search.best_estimator_,X_test,Y_test ,axis=False)"
   ]
  },
  {
   "cell_type": "code",
   "execution_count": 57,
   "id": "18044797",
   "metadata": {},
   "outputs": [
    {
     "data": {
      "text/plain": [
       "1.0"
      ]
     },
     "execution_count": 57,
     "metadata": {},
     "output_type": "execute_result"
    }
   ],
   "source": [
    "accuracy1"
   ]
  },
  {
   "cell_type": "code",
   "execution_count": 58,
   "id": "35ae8dc8",
   "metadata": {},
   "outputs": [
    {
     "name": "stdout",
     "output_type": "stream",
     "text": [
      "              precision    recall  f1-score   support\n",
      "\n",
      "           0       1.00      1.00      1.00       257\n",
      "           1       1.00      1.00      1.00       262\n",
      "           2       1.00      1.00      1.00       344\n",
      "           3       1.00      1.00      1.00       454\n",
      "\n",
      "    accuracy                           1.00      1317\n",
      "   macro avg       1.00      1.00      1.00      1317\n",
      "weighted avg       1.00      1.00      1.00      1317\n",
      "\n"
     ]
    }
   ],
   "source": [
    "print(repo1) "
   ]
  },
  {
   "cell_type": "code",
   "execution_count": 59,
   "id": "078e5abf",
   "metadata": {},
   "outputs": [
    {
     "data": {
      "text/plain": [
       "0.9836734693877551"
      ]
     },
     "execution_count": 59,
     "metadata": {},
     "output_type": "execute_result"
    }
   ],
   "source": [
    "accuracy2"
   ]
  },
  {
   "cell_type": "code",
   "execution_count": 60,
   "id": "b7cf7f16",
   "metadata": {},
   "outputs": [
    {
     "name": "stdout",
     "output_type": "stream",
     "text": [
      "              precision    recall  f1-score   support\n",
      "\n",
      "           0       1.00      0.97      0.99        35\n",
      "           1       0.97      0.94      0.95        31\n",
      "           2       0.95      1.00      0.97        55\n",
      "           3       1.00      0.99      1.00       124\n",
      "\n",
      "    accuracy                           0.98       245\n",
      "   macro avg       0.98      0.97      0.98       245\n",
      "weighted avg       0.98      0.98      0.98       245\n",
      "\n"
     ]
    }
   ],
   "source": [
    "print(repo2)"
   ]
  },
  {
   "cell_type": "code",
   "execution_count": 61,
   "id": "44ce6a85",
   "metadata": {},
   "outputs": [
    {
     "data": {
      "text/plain": [
       "0.9878048780487805"
      ]
     },
     "execution_count": 61,
     "metadata": {},
     "output_type": "execute_result"
    }
   ],
   "source": [
    "accuracy3"
   ]
  },
  {
   "cell_type": "code",
   "execution_count": 62,
   "id": "2ded60da",
   "metadata": {},
   "outputs": [
    {
     "name": "stdout",
     "output_type": "stream",
     "text": [
      "              precision    recall  f1-score   support\n",
      "\n",
      "           0       0.96      0.96      0.96        28\n",
      "           1       0.97      0.97      0.97        36\n",
      "           2       1.00      0.99      0.99        80\n",
      "           3       0.99      1.00      1.00       102\n",
      "\n",
      "    accuracy                           0.99       246\n",
      "   macro avg       0.98      0.98      0.98       246\n",
      "weighted avg       0.99      0.99      0.99       246\n",
      "\n"
     ]
    }
   ],
   "source": [
    "print(repo3)"
   ]
  },
  {
   "cell_type": "code",
   "execution_count": null,
   "id": "b68287ff",
   "metadata": {},
   "outputs": [],
   "source": []
  }
 ],
 "metadata": {
  "kernelspec": {
   "display_name": "Python 3 (ipykernel)",
   "language": "python",
   "name": "python3"
  },
  "language_info": {
   "codemirror_mode": {
    "name": "ipython",
    "version": 3
   },
   "file_extension": ".py",
   "mimetype": "text/x-python",
   "name": "python",
   "nbconvert_exporter": "python",
   "pygments_lexer": "ipython3",
   "version": "3.9.13"
  }
 },
 "nbformat": 4,
 "nbformat_minor": 5
}

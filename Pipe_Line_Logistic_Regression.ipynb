{
 "cells": [
  {
   "cell_type": "markdown",
   "id": "366b4301",
   "metadata": {},
   "source": [
    "# بسم الله الرحمن الرحيم"
   ]
  },
  {
   "cell_type": "code",
   "execution_count": null,
   "id": "2144698b",
   "metadata": {},
   "outputs": [
    {
     "name": "stderr",
     "output_type": "stream",
     "text": [
      "2023-05-16 20:26:04.623607: I tensorflow/core/platform/cpu_feature_guard.cc:193] This TensorFlow binary is optimized with oneAPI Deep Neural Network Library (oneDNN) to use the following CPU instructions in performance-critical operations:  AVX2 FMA\n",
      "To enable them in other operations, rebuild TensorFlow with the appropriate compiler flags.\n",
      "2023-05-16 20:26:04.797983: W tensorflow/compiler/xla/stream_executor/platform/default/dso_loader.cc:64] Could not load dynamic library 'libcudart.so.11.0'; dlerror: libcudart.so.11.0: cannot open shared object file: No such file or directory\n",
      "2023-05-16 20:26:04.798021: I tensorflow/compiler/xla/stream_executor/cuda/cudart_stub.cc:29] Ignore above cudart dlerror if you do not have a GPU set up on your machine.\n"
     ]
    }
   ],
   "source": [
    "from utils import *\n",
    "import pandas as pd \n",
    "from sklearn.model_selection import train_test_split\n",
    "from sklearn.linear_model import LogisticRegression\n",
    "from sklearn.model_selection import GridSearchCV\n",
    "from sklearn.metrics import accuracy_score\n",
    "from matplotlib import pyplot as plt \n"
   ]
  },
  {
   "cell_type": "code",
   "execution_count": null,
   "id": "3acb315d",
   "metadata": {},
   "outputs": [],
   "source": [
    "df = pd.read_csv(\"dataset/body_level_classification_train.csv\")"
   ]
  },
  {
   "cell_type": "code",
   "execution_count": null,
   "id": "09063b7a",
   "metadata": {},
   "outputs": [],
   "source": [
    "df_original= cleaning_data(df).copy()"
   ]
  },
  {
   "cell_type": "code",
   "execution_count": null,
   "id": "8323be7f",
   "metadata": {},
   "outputs": [],
   "source": [
    "all_class_train,all_class_test=data_spliting(df_original,1/3)\n",
    "## shuffling \n",
    "all_class_train = all_class_train.sample(frac=1.0, random_state=42)\n",
    "all_class_test = all_class_test.sample(frac=1.0, random_state=42)"
   ]
  },
  {
   "cell_type": "code",
   "execution_count": null,
   "id": "4742b3ae",
   "metadata": {},
   "outputs": [],
   "source": [
    "X_train=all_class_train.drop([\"Body_Level\"],axis=1).to_numpy()\n",
    "Y_train=all_class_train[\"Body_Level\"].to_numpy()\n",
    "X_test =all_class_test.drop([\"Body_Level\"],axis=1).to_numpy()\n",
    "Y_test =all_class_test[\"Body_Level\"].to_numpy()"
   ]
  },
  {
   "cell_type": "code",
   "execution_count": null,
   "id": "47964cd4",
   "metadata": {},
   "outputs": [],
   "source": [
    "class_weights = all_class_train[\"Body_Level\"].value_counts().to_dict()\n",
    "total_num = sum(class_weights.values())\n",
    "class_weights= { i : (total_num/(4* j )) for i ,j in zip(class_weights.keys(),class_weights.values())}"
   ]
  },
  {
   "cell_type": "code",
   "execution_count": null,
   "id": "a42bc0bd",
   "metadata": {},
   "outputs": [],
   "source": [
    "X_train, scaler= data_scaling(X_train)\n"
   ]
  },
  {
   "cell_type": "code",
   "execution_count": null,
   "id": "65948699",
   "metadata": {},
   "outputs": [],
   "source": [
    "X_val, X_test, Y_val, Y_test = train_test_split(X_test\n",
    "                                                     , Y_test, test_size=0.5, random_state=42)"
   ]
  },
  {
   "cell_type": "code",
   "execution_count": null,
   "id": "099adff6",
   "metadata": {},
   "outputs": [],
   "source": [
    "X_val = scaler.transform(X_val)\n",
    "X_test=scaler.transform(X_test)"
   ]
  },
  {
   "cell_type": "markdown",
   "id": "cd39d96f",
   "metadata": {},
   "source": [
    "# Bare Logistic Regression "
   ]
  },
  {
   "cell_type": "code",
   "execution_count": null,
   "id": "9a9cc944",
   "metadata": {},
   "outputs": [],
   "source": [
    "bare_reg_model = LogisticRegression()\n",
    "# concat the train and the val becuase it's the bare one \n",
    "bare_reg_model.fit(np.concatenate([X_train,X_val], axis=0)\n",
    "                   ,np.concatenate([Y_train,Y_val],axis=0))"
   ]
  },
  {
   "cell_type": "markdown",
   "id": "aa982512",
   "metadata": {},
   "source": [
    "## accuracy on test"
   ]
  },
  {
   "cell_type": "code",
   "execution_count": null,
   "id": "bc9971ad",
   "metadata": {},
   "outputs": [],
   "source": [
    "bare_accuracy , repo = test_model(bare_reg_model,X_test,Y_test,axis=False)"
   ]
  },
  {
   "cell_type": "code",
   "execution_count": null,
   "id": "4e3517e7",
   "metadata": {},
   "outputs": [],
   "source": [
    "print(bare_accuracy)"
   ]
  },
  {
   "cell_type": "code",
   "execution_count": null,
   "id": "1405b61a",
   "metadata": {},
   "outputs": [],
   "source": [
    "print(repo)"
   ]
  },
  {
   "cell_type": "markdown",
   "id": "48e645f5",
   "metadata": {},
   "source": [
    "## applying the hyperpamater tuning \n",
    "**In this model we get the best we can get from the Logistic regression by applying the Tuning and get the best hyperparameters**"
   ]
  },
  {
   "cell_type": "code",
   "execution_count": null,
   "id": "293e51a9",
   "metadata": {
    "scrolled": true
   },
   "outputs": [],
   "source": [
    "\n",
    "reg_model = LogisticRegression(random_state=42,max_iter=3000)\n",
    "# Define the parameter grid to search over\n",
    "param_grid = {\n",
    "    'C': [0.001,0.01,0.1, 1, 10,100,200,300,400,500 ,600 ,700 ],\n",
    "    'penalty': ['l2']\n",
    "}\n",
    "\n",
    "\n",
    "grid_search = GridSearchCV(estimator=reg_model, param_grid=param_grid,\n",
    "                           cv=2,verbose=2)\n",
    "\n",
    "# concat beacuase we use the K-Fold cross validation \n",
    "grid_search.fit(np.concatenate([X_train,X_val], axis=0)\n",
    "                   ,np.concatenate([Y_train,Y_val],axis=0))\n",
    "\n",
    "\n",
    "\n",
    "# Access the cv_results_ dictionary\n",
    "cv_results = grid_search.cv_results_\n",
    "\n",
    "# Print the mean test scores for each hyperparameter combination\n",
    "for mean_score, params in zip(cv_results['mean_test_score'], cv_results['params']):\n",
    "    print(params['C'], mean_score)\n",
    "\n"
   ]
  },
  {
   "cell_type": "code",
   "execution_count": null,
   "id": "11d8b4b7",
   "metadata": {},
   "outputs": [],
   "source": [
    "best_reg_model = grid_search.best_estimator_"
   ]
  },
  {
   "cell_type": "markdown",
   "id": "fcacc182",
   "metadata": {},
   "source": [
    "## accuracy on test on best reg model "
   ]
  },
  {
   "cell_type": "code",
   "execution_count": null,
   "id": "04624a84",
   "metadata": {},
   "outputs": [],
   "source": [
    "best_accuracy , repo = test_model(best_reg_model,X_test,Y_test,axis=False)"
   ]
  },
  {
   "cell_type": "code",
   "execution_count": null,
   "id": "89ee9930",
   "metadata": {},
   "outputs": [],
   "source": [
    "print(best_accuracy)\n",
    "print(repo)"
   ]
  },
  {
   "cell_type": "markdown",
   "id": "67666f38",
   "metadata": {},
   "source": [
    "## Plotting the change on accuracy tuning the 'C' hyperparameter"
   ]
  },
  {
   "cell_type": "code",
   "execution_count": null,
   "id": "f736b4f8",
   "metadata": {},
   "outputs": [],
   "source": [
    "# Print the mean test scores for each hyperparameter combination\n",
    "x_axis = []\n",
    "y_axis = []\n",
    "for mean_score, params in zip(cv_results['mean_test_score'], cv_results['params']):\n",
    "    x_axis.append(params[\"C\"])\n",
    "    y_axis.append(mean_score)\n",
    "    \n",
    "    \n",
    "plt.plot(np.arange(1,len(x_axis)+1),y_axis)\n",
    "plt.title('Changing the hyperparameter C vs accuracy')\n",
    "plt.xlabel('C')\n",
    "plt.ylabel('accuracy')\n",
    "plt.axvline(np.argmax(cv_results[\"mean_test_score\"]),\n",
    "            color='red',\n",
    "            label=f\"C={cv_results['params'][np.argmax(cv_results['mean_test_score'])]['C']}\")\n",
    "plt.legend()\n",
    "plt.show()"
   ]
  },
  {
   "cell_type": "markdown",
   "id": "e9003104",
   "metadata": {},
   "source": [
    "## Regression model with class weights only "
   ]
  },
  {
   "cell_type": "code",
   "execution_count": null,
   "id": "85f699d8",
   "metadata": {},
   "outputs": [],
   "source": [
    "only_weights_model = LogisticRegression(random_state=42,max_iter=3000\n",
    "                                        ,class_weight=class_weights)\n",
    "\n"
   ]
  },
  {
   "cell_type": "code",
   "execution_count": null,
   "id": "8b34d1e3",
   "metadata": {},
   "outputs": [],
   "source": [
    "only_weights_model.fit(np.concatenate([X_train,X_val], axis=0)\n",
    "                   ,np.concatenate([Y_train,Y_val],axis=0))"
   ]
  },
  {
   "cell_type": "code",
   "execution_count": null,
   "id": "9a202f64",
   "metadata": {},
   "outputs": [],
   "source": [
    "only_weights_accuracy , repo = test_model(only_weights_model,X_test,Y_test,axis=False)"
   ]
  },
  {
   "cell_type": "code",
   "execution_count": null,
   "id": "ed2180ee",
   "metadata": {},
   "outputs": [],
   "source": [
    "print(only_weights_accuracy)\n",
    "print(repo)"
   ]
  },
  {
   "cell_type": "markdown",
   "id": "b9e70e15",
   "metadata": {},
   "source": [
    "## Regression model with best C only\n"
   ]
  },
  {
   "cell_type": "code",
   "execution_count": null,
   "id": "42ab0772",
   "metadata": {},
   "outputs": [],
   "source": [
    "only_C_model = LogisticRegression(random_state=42,max_iter=3000\n",
    "                                        ,C=700)\n"
   ]
  },
  {
   "cell_type": "code",
   "execution_count": null,
   "id": "45d874d9",
   "metadata": {},
   "outputs": [],
   "source": [
    "only_C_model.fit(np.concatenate([X_train,X_val], axis=0)\n",
    "                   ,np.concatenate([Y_train,Y_val],axis=0))"
   ]
  },
  {
   "cell_type": "code",
   "execution_count": null,
   "id": "c04e839b",
   "metadata": {},
   "outputs": [],
   "source": [
    "only_C_accuracy , repo = test_model(only_C_model,X_test,Y_test,axis=False)"
   ]
  },
  {
   "cell_type": "code",
   "execution_count": null,
   "id": "e9b21110",
   "metadata": {},
   "outputs": [],
   "source": [
    "print(only_C_accuracy)\n",
    "print(repo)"
   ]
  },
  {
   "cell_type": "markdown",
   "id": "fab4751b",
   "metadata": {},
   "source": [
    "**As shown from above analysis , it's obvious that the Tuning the Parameter C alone , or providing class_weights alone is much better that apply both of them**"
   ]
  },
  {
   "cell_type": "markdown",
   "id": "d748cfa4",
   "metadata": {},
   "source": [
    "# oversampling "
   ]
  },
  {
   "cell_type": "code",
   "execution_count": null,
   "id": "cc58b918",
   "metadata": {},
   "outputs": [],
   "source": [
    "oversampled= over_sampling(all_class_train,sampling_ratio=0.5)"
   ]
  },
  {
   "cell_type": "code",
   "execution_count": null,
   "id": "e3c7e779",
   "metadata": {},
   "outputs": [],
   "source": [
    "class_weights = oversampled[\"Body_Level\"].value_counts().to_dict()\n",
    "total_num = sum(class_weights.values())\n",
    "class_weights= { i : (total_num/(4* j )) for i ,j in zip(class_weights.keys(),class_weights.values())}"
   ]
  },
  {
   "cell_type": "code",
   "execution_count": null,
   "id": "6ff5a061",
   "metadata": {},
   "outputs": [],
   "source": [
    "class_weights"
   ]
  },
  {
   "cell_type": "code",
   "execution_count": null,
   "id": "8dc52235",
   "metadata": {},
   "outputs": [],
   "source": [
    "X_train=oversampled.drop([\"Body_Level\"],axis=1).to_numpy()\n",
    "Y_train=oversampled[\"Body_Level\"].to_numpy()\n",
    "X_test =all_class_test.drop([\"Body_Level\"],axis=1).to_numpy()\n",
    "Y_test =all_class_test[\"Body_Level\"].to_numpy()"
   ]
  },
  {
   "cell_type": "code",
   "execution_count": null,
   "id": "938a5761",
   "metadata": {},
   "outputs": [],
   "source": [
    "X_train, scaler= data_scaling(X_train)\n",
    "X_val, X_test, Y_val, Y_test = train_test_split(X_test\n",
    "                                                     , Y_test, test_size=0.5, random_state=42)\n",
    "X_val = scaler.transform(X_val)\n",
    "X_test=scaler.transform(X_test)"
   ]
  },
  {
   "cell_type": "markdown",
   "id": "92cc7694",
   "metadata": {},
   "source": [
    "## Applying the bare Regression on Oversampled data "
   ]
  },
  {
   "cell_type": "code",
   "execution_count": null,
   "id": "4301f0bf",
   "metadata": {},
   "outputs": [],
   "source": [
    "bare_oversampled_reg = LogisticRegression(max_iter=1000)\n",
    "bare_oversampled_reg.fit(np.concatenate([X_train,X_val], axis=0)\n",
    "                   ,np.concatenate([Y_train,Y_val],axis=0))"
   ]
  },
  {
   "cell_type": "code",
   "execution_count": null,
   "id": "bcf604e5",
   "metadata": {},
   "outputs": [],
   "source": [
    "bare_oversampled_accuracy , repo = test_model(bare_oversampled_reg,X_test,Y_test,axis=False)"
   ]
  },
  {
   "cell_type": "code",
   "execution_count": null,
   "id": "38e06b31",
   "metadata": {},
   "outputs": [],
   "source": [
    "print(bare_oversampled_accuracy)\n",
    "print(repo)"
   ]
  },
  {
   "cell_type": "markdown",
   "id": "4d60952d",
   "metadata": {},
   "source": [
    "## Applying Regression On Over sampled data Class_weights only"
   ]
  },
  {
   "cell_type": "code",
   "execution_count": null,
   "id": "ea2d2af0",
   "metadata": {},
   "outputs": [],
   "source": [
    "oversampled_class_weights = LogisticRegression(max_iter=1000,class_weight=class_weights)\n",
    "oversampled_class_weights.fit(np.concatenate([X_train,X_val], axis=0)\n",
    "                   ,np.concatenate([Y_train,Y_val],axis=0))"
   ]
  },
  {
   "cell_type": "code",
   "execution_count": null,
   "id": "3bf91de8",
   "metadata": {},
   "outputs": [],
   "source": [
    "oversampled_class_weights_accuracy , repo = test_model(oversampled_class_weights,X_test,\n",
    "                                                       Y_test,axis=False)"
   ]
  },
  {
   "cell_type": "code",
   "execution_count": null,
   "id": "8c2fcca8",
   "metadata": {},
   "outputs": [],
   "source": [
    "print(oversampled_class_weights_accuracy)\n",
    "print(repo)"
   ]
  },
  {
   "cell_type": "markdown",
   "id": "b3fddad8",
   "metadata": {},
   "source": [
    "## Tuning the C value on oversampled data  "
   ]
  },
  {
   "cell_type": "code",
   "execution_count": null,
   "id": "911783c5",
   "metadata": {},
   "outputs": [],
   "source": [
    "from sklearn.linear_model import LogisticRegression\n",
    "from sklearn.model_selection import GridSearchCV\n",
    "from sklearn.datasets import make_classification\n",
    "from sklearn.metrics import accuracy_score\n",
    "\n",
    "\n",
    "\n",
    "reg_model = LogisticRegression(random_state=42,max_iter=3000)\n",
    "# Define the parameter grid to search over\n",
    "param_grid = {\n",
    "    'C': [0.001,0.01,0.1, 1, 10,100,200,300,400,500 ,600 ,700,800,900,1000],\n",
    "    'penalty': ['l2']\n",
    "}\n",
    "\n",
    "\n",
    "grid_search = GridSearchCV(estimator=reg_model, param_grid=param_grid, cv=5 , verbose=1 )\n",
    "\n",
    "grid_search.fit(np.concatenate([X_train,X_val], axis=0)\n",
    "                   ,np.concatenate([Y_train,Y_val],axis=0))\n",
    "\n",
    "\n",
    "\n",
    "# Access the cv_results_ dictionary\n",
    "cv_results = grid_search.cv_results_\n",
    "\n",
    "# Print the mean test scores for each hyperparameter combination\n",
    "for mean_score, params in zip(cv_results['mean_test_score'], cv_results['params']):\n",
    "    print(params, mean_score)\n",
    "\n"
   ]
  },
  {
   "cell_type": "code",
   "execution_count": null,
   "id": "e123fa53",
   "metadata": {},
   "outputs": [],
   "source": [
    "Oversampled_C_only_accuracy , repo = test_model(grid_search.best_estimator_,\n",
    "                                                X_test,Y_test,axis=False)"
   ]
  },
  {
   "cell_type": "code",
   "execution_count": null,
   "id": "8f36b13b",
   "metadata": {},
   "outputs": [],
   "source": [
    "print(Oversampled_C_only_accuracy)\n",
    "print(repo)"
   ]
  },
  {
   "cell_type": "markdown",
   "id": "e85df068",
   "metadata": {},
   "source": [
    "## Plot the different values of C "
   ]
  },
  {
   "cell_type": "code",
   "execution_count": null,
   "id": "ac9df260",
   "metadata": {},
   "outputs": [],
   "source": [
    "x_axis = []\n",
    "y_axis = []\n",
    "for mean_score, params in zip(cv_results['mean_test_score'], cv_results['params']):\n",
    "    x_axis.append(params[\"C\"])\n",
    "    y_axis.append(mean_score)\n",
    "    \n",
    "    \n",
    "plt.plot(np.arange(1,len(x_axis)+1),y_axis)\n",
    "plt.title('Changing the hyperparameter C vs accuracy')\n",
    "plt.xlabel('C')\n",
    "plt.ylabel('accuracy')\n",
    "plt.axvline(np.argmax(cv_results[\"mean_test_score\"]),\n",
    "            color='red',\n",
    "            label=f\"C={cv_results['params'][np.argmax(cv_results['mean_test_score'])]['C']}\")\n",
    "plt.legend()\n",
    "plt.show()"
   ]
  },
  {
   "cell_type": "markdown",
   "id": "8cb7599a",
   "metadata": {},
   "source": [
    "## Logistic Regression on best C and class weights on Oversampled data"
   ]
  },
  {
   "cell_type": "code",
   "execution_count": null,
   "id": "7b980237",
   "metadata": {},
   "outputs": [],
   "source": [
    "best_oversampled_class_weights = LogisticRegression(max_iter=1000,class_weight=class_weights,C=600)\n",
    "best_oversampled_class_weights.fit(np.concatenate([X_train,X_val], axis=0)\n",
    "                   ,np.concatenate([Y_train,Y_val],axis=0))"
   ]
  },
  {
   "cell_type": "code",
   "execution_count": null,
   "id": "d97437ea",
   "metadata": {},
   "outputs": [],
   "source": [
    "best_oversampled_class_weights_accuracy , repo = test_model(best_oversampled_class_weights,\n",
    "                                                            X_test,Y_test,axis=False)"
   ]
  },
  {
   "cell_type": "code",
   "execution_count": null,
   "id": "2c32a9b8",
   "metadata": {},
   "outputs": [],
   "source": [
    "print(best_oversampled_class_weights_accuracy)\n",
    "print(repo)"
   ]
  },
  {
   "cell_type": "code",
   "execution_count": null,
   "id": "f913b11f",
   "metadata": {},
   "outputs": [],
   "source": []
  },
  {
   "cell_type": "code",
   "execution_count": null,
   "id": "ccaf7715",
   "metadata": {},
   "outputs": [],
   "source": []
  }
 ],
 "metadata": {
  "kernelspec": {
   "display_name": "Python 3 (ipykernel)",
   "language": "python",
   "name": "python3"
  },
  "language_info": {
   "codemirror_mode": {
    "name": "ipython",
    "version": 3
   },
   "file_extension": ".py",
   "mimetype": "text/x-python",
   "name": "python",
   "nbconvert_exporter": "python",
   "pygments_lexer": "ipython3",
   "version": "3.9.13"
  }
 },
 "nbformat": 4,
 "nbformat_minor": 5
}

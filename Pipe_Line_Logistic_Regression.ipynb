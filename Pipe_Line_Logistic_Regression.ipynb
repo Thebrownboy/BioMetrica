{
 "cells": [
  {
   "cell_type": "markdown",
   "id": "366b4301",
   "metadata": {},
   "source": [
    "# بسم الله الرحمن الرحيم"
   ]
  },
  {
   "cell_type": "code",
   "execution_count": 1,
   "id": "2144698b",
   "metadata": {},
   "outputs": [
    {
     "name": "stderr",
     "output_type": "stream",
     "text": [
      "2023-05-16 20:29:38.876033: I tensorflow/core/platform/cpu_feature_guard.cc:193] This TensorFlow binary is optimized with oneAPI Deep Neural Network Library (oneDNN) to use the following CPU instructions in performance-critical operations:  AVX2 FMA\n",
      "To enable them in other operations, rebuild TensorFlow with the appropriate compiler flags.\n",
      "2023-05-16 20:29:39.046563: W tensorflow/compiler/xla/stream_executor/platform/default/dso_loader.cc:64] Could not load dynamic library 'libcudart.so.11.0'; dlerror: libcudart.so.11.0: cannot open shared object file: No such file or directory\n",
      "2023-05-16 20:29:39.046594: I tensorflow/compiler/xla/stream_executor/cuda/cudart_stub.cc:29] Ignore above cudart dlerror if you do not have a GPU set up on your machine.\n",
      "2023-05-16 20:29:39.897227: W tensorflow/compiler/xla/stream_executor/platform/default/dso_loader.cc:64] Could not load dynamic library 'libnvinfer.so.7'; dlerror: libnvinfer.so.7: cannot open shared object file: No such file or directory\n",
      "2023-05-16 20:29:39.897384: W tensorflow/compiler/xla/stream_executor/platform/default/dso_loader.cc:64] Could not load dynamic library 'libnvinfer_plugin.so.7'; dlerror: libnvinfer_plugin.so.7: cannot open shared object file: No such file or directory\n",
      "2023-05-16 20:29:39.897397: W tensorflow/compiler/tf2tensorrt/utils/py_utils.cc:38] TF-TRT Warning: Cannot dlopen some TensorRT libraries. If you would like to use Nvidia GPU with TensorRT, please make sure the missing libraries mentioned above are installed properly.\n",
      "/home/thebrownboy/anaconda3/lib/python3.9/site-packages/tensorflow_addons/utils/tfa_eol_msg.py:23: UserWarning: \n",
      "\n",
      "TensorFlow Addons (TFA) has ended development and introduction of new features.\n",
      "TFA has entered a minimal maintenance and release mode until a planned end of life in May 2024.\n",
      "Please modify downstream libraries to take dependencies from other repositories in our TensorFlow community (e.g. Keras, Keras-CV, and Keras-NLP). \n",
      "\n",
      "For more information see: https://github.com/tensorflow/addons/issues/2807 \n",
      "\n",
      "  warnings.warn(\n"
     ]
    }
   ],
   "source": [
    "from utils import *\n",
    "import pandas as pd \n",
    "from sklearn.model_selection import train_test_split\n",
    "from sklearn.linear_model import LogisticRegression\n",
    "from sklearn.model_selection import GridSearchCV\n",
    "from sklearn.metrics import accuracy_score\n",
    "from matplotlib import pyplot as plt \n"
   ]
  },
  {
   "cell_type": "code",
   "execution_count": 2,
   "id": "3acb315d",
   "metadata": {},
   "outputs": [],
   "source": [
    "df = pd.read_csv(\"dataset/body_level_classification_train.csv\")"
   ]
  },
  {
   "cell_type": "code",
   "execution_count": 3,
   "id": "09063b7a",
   "metadata": {},
   "outputs": [],
   "source": [
    "df_original= cleaning_data(df).copy()"
   ]
  },
  {
   "cell_type": "code",
   "execution_count": 4,
   "id": "8323be7f",
   "metadata": {},
   "outputs": [],
   "source": [
    "all_class_train,all_class_test=data_spliting(df_original,1/3)\n",
    "## shuffling \n",
    "all_class_train = all_class_train.sample(frac=1.0, random_state=42)\n",
    "all_class_test = all_class_test.sample(frac=1.0, random_state=42)"
   ]
  },
  {
   "cell_type": "code",
   "execution_count": 5,
   "id": "4742b3ae",
   "metadata": {},
   "outputs": [],
   "source": [
    "X_train=all_class_train.drop([\"Body_Level\"],axis=1).to_numpy()\n",
    "Y_train=all_class_train[\"Body_Level\"].to_numpy()\n",
    "X_test =all_class_test.drop([\"Body_Level\"],axis=1).to_numpy()\n",
    "Y_test =all_class_test[\"Body_Level\"].to_numpy()"
   ]
  },
  {
   "cell_type": "code",
   "execution_count": 6,
   "id": "47964cd4",
   "metadata": {},
   "outputs": [],
   "source": [
    "class_weights = all_class_train[\"Body_Level\"].value_counts().to_dict()\n",
    "total_num = sum(class_weights.values())\n",
    "class_weights= { i : (total_num/(4* j )) for i ,j in zip(class_weights.keys(),class_weights.values())}"
   ]
  },
  {
   "cell_type": "code",
   "execution_count": 7,
   "id": "a42bc0bd",
   "metadata": {},
   "outputs": [],
   "source": [
    "X_train, scaler= data_scaling(X_train)\n"
   ]
  },
  {
   "cell_type": "code",
   "execution_count": 8,
   "id": "65948699",
   "metadata": {},
   "outputs": [],
   "source": [
    "X_val, X_test, Y_val, Y_test = train_test_split(X_test\n",
    "                                                     , Y_test, test_size=0.5, random_state=42)"
   ]
  },
  {
   "cell_type": "code",
   "execution_count": 9,
   "id": "099adff6",
   "metadata": {},
   "outputs": [],
   "source": [
    "X_val = scaler.transform(X_val)\n",
    "X_test=scaler.transform(X_test)"
   ]
  },
  {
   "cell_type": "markdown",
   "id": "4d6e5e21",
   "metadata": {},
   "source": [
    "# Bare Logistic Regression "
   ]
  },
  {
   "cell_type": "code",
   "execution_count": 10,
   "id": "ce925de0",
   "metadata": {},
   "outputs": [
    {
     "data": {
      "text/plain": [
       "LogisticRegression()"
      ]
     },
     "execution_count": 10,
     "metadata": {},
     "output_type": "execute_result"
    }
   ],
   "source": [
    "bare_reg_model = LogisticRegression()\n",
    "# concat the train and the val becuase it's the bare one \n",
    "bare_reg_model.fit(np.concatenate([X_train,X_val], axis=0)\n",
    "                   ,np.concatenate([Y_train,Y_val],axis=0))"
   ]
  },
  {
   "cell_type": "markdown",
   "id": "382f7596",
   "metadata": {},
   "source": [
    "## accuracy on test"
   ]
  },
  {
   "cell_type": "code",
   "execution_count": 11,
   "id": "2d114096",
   "metadata": {},
   "outputs": [],
   "source": [
    "bare_accuracy , repo = test_model(bare_reg_model,X_test,Y_test,axis=False)"
   ]
  },
  {
   "cell_type": "code",
   "execution_count": 12,
   "id": "7c95ae46",
   "metadata": {},
   "outputs": [
    {
     "name": "stdout",
     "output_type": "stream",
     "text": [
      "0.9512195121951219\n"
     ]
    }
   ],
   "source": [
    "print(bare_accuracy)"
   ]
  },
  {
   "cell_type": "code",
   "execution_count": 13,
   "id": "20a5e8c0",
   "metadata": {},
   "outputs": [
    {
     "name": "stdout",
     "output_type": "stream",
     "text": [
      "              precision    recall  f1-score   support\n",
      "\n",
      "           0       0.87      0.96      0.92        28\n",
      "           1       0.96      0.72      0.83        36\n",
      "           2       0.93      0.99      0.96        80\n",
      "           3       0.99      1.00      1.00       102\n",
      "\n",
      "    accuracy                           0.95       246\n",
      "   macro avg       0.94      0.92      0.92       246\n",
      "weighted avg       0.95      0.95      0.95       246\n",
      "\n"
     ]
    }
   ],
   "source": [
    "print(repo)"
   ]
  },
  {
   "cell_type": "markdown",
   "id": "9abd1d4b",
   "metadata": {},
   "source": [
    "## Regression model with class weights only \n"
   ]
  },
  {
   "cell_type": "code",
   "execution_count": 47,
   "id": "58b05a31",
   "metadata": {},
   "outputs": [],
   "source": [
    "only_weights_model = LogisticRegression(random_state=42,max_iter=3000\n",
    "                                        ,class_weight=class_weights)\n",
    "\n"
   ]
  },
  {
   "cell_type": "code",
   "execution_count": 48,
   "id": "be8aaf95",
   "metadata": {},
   "outputs": [
    {
     "data": {
      "text/plain": [
       "LogisticRegression(class_weight={0: 1.2811284046692606, 1: 1.256679389312977,\n",
       "                                 2: 0.9571220930232558, 3: 0.7252202643171806},\n",
       "                   max_iter=3000, random_state=42)"
      ]
     },
     "execution_count": 48,
     "metadata": {},
     "output_type": "execute_result"
    }
   ],
   "source": [
    "only_weights_model.fit(np.concatenate([X_train,X_val], axis=0)\n",
    "                   ,np.concatenate([Y_train,Y_val],axis=0))\n"
   ]
  },
  {
   "cell_type": "code",
   "execution_count": 49,
   "id": "34724413",
   "metadata": {},
   "outputs": [],
   "source": [
    "only_weights_accuracy , repo = test_model(only_weights_model,X_test,Y_test,axis=False)\n"
   ]
  },
  {
   "cell_type": "code",
   "execution_count": 50,
   "id": "7fca9383",
   "metadata": {},
   "outputs": [
    {
     "name": "stdout",
     "output_type": "stream",
     "text": [
      "0.975609756097561\n",
      "              precision    recall  f1-score   support\n",
      "\n",
      "           0       0.96      0.96      0.96        28\n",
      "           1       0.97      0.92      0.94        36\n",
      "           2       0.96      0.99      0.98        80\n",
      "           3       0.99      0.99      0.99       102\n",
      "\n",
      "    accuracy                           0.98       246\n",
      "   macro avg       0.97      0.96      0.97       246\n",
      "weighted avg       0.98      0.98      0.98       246\n",
      "\n"
     ]
    }
   ],
   "source": [
    "print(only_weights_accuracy)\n",
    "print(repo)"
   ]
  },
  {
   "cell_type": "markdown",
   "id": "84b5fbe2",
   "metadata": {},
   "source": [
    "## applying the hyperpamater tuning \n",
    "**In this model we get the best we can get from the Logistic regression by applying the Tuning and get the best hyperparameters**"
   ]
  },
  {
   "cell_type": "code",
   "execution_count": 14,
   "id": "293e51a9",
   "metadata": {
    "scrolled": true
   },
   "outputs": [
    {
     "name": "stdout",
     "output_type": "stream",
     "text": [
      "Fitting 2 folds for each of 12 candidates, totalling 24 fits\n",
      "[CV] END ................................C=0.001, penalty=l2; total time=   0.0s\n",
      "[CV] END ................................C=0.001, penalty=l2; total time=   0.0s\n",
      "[CV] END .................................C=0.01, penalty=l2; total time=   0.0s\n",
      "[CV] END .................................C=0.01, penalty=l2; total time=   0.0s\n",
      "[CV] END ..................................C=0.1, penalty=l2; total time=   0.0s\n",
      "[CV] END ..................................C=0.1, penalty=l2; total time=   0.0s\n",
      "[CV] END ....................................C=1, penalty=l2; total time=   0.0s\n",
      "[CV] END ....................................C=1, penalty=l2; total time=   0.0s\n",
      "[CV] END ...................................C=10, penalty=l2; total time=   0.1s\n",
      "[CV] END ...................................C=10, penalty=l2; total time=   0.1s\n",
      "[CV] END ..................................C=100, penalty=l2; total time=   0.2s\n",
      "[CV] END ..................................C=100, penalty=l2; total time=   0.1s\n",
      "[CV] END ..................................C=200, penalty=l2; total time=   0.2s\n",
      "[CV] END ..................................C=200, penalty=l2; total time=   0.2s\n",
      "[CV] END ..................................C=300, penalty=l2; total time=   0.3s\n",
      "[CV] END ..................................C=300, penalty=l2; total time=   0.2s\n",
      "[CV] END ..................................C=400, penalty=l2; total time=   0.2s\n",
      "[CV] END ..................................C=400, penalty=l2; total time=   0.2s\n",
      "[CV] END ..................................C=500, penalty=l2; total time=   0.2s\n",
      "[CV] END ..................................C=500, penalty=l2; total time=   0.2s\n",
      "[CV] END ..................................C=600, penalty=l2; total time=   0.2s\n",
      "[CV] END ..................................C=600, penalty=l2; total time=   0.2s\n",
      "[CV] END ..................................C=700, penalty=l2; total time=   0.2s\n",
      "[CV] END ..................................C=700, penalty=l2; total time=   0.2s\n",
      "0.001 0.49878576707845\n",
      "0.01 0.6702077394150565\n",
      "0.1 0.8334798331749551\n",
      "1 0.8984558124802027\n",
      "10 0.946377098511245\n",
      "100 0.9642500791891035\n",
      "200 0.9650630873191849\n",
      "300 0.9675007918910358\n",
      "400 0.9675007918910358\n",
      "500 0.9683138000211171\n",
      "600 0.9691254883328054\n",
      "700 0.9691268081511983\n"
     ]
    }
   ],
   "source": [
    "\n",
    "reg_model = LogisticRegression(random_state=42,max_iter=3000)\n",
    "# Define the parameter grid to search over\n",
    "param_grid = {\n",
    "    'C': [0.001,0.01,0.1, 1, 10,100,200,300,400,500 ,600 ,700 ],\n",
    "    'penalty': ['l2']\n",
    "}\n",
    "\n",
    "\n",
    "grid_search = GridSearchCV(estimator=reg_model, param_grid=param_grid,\n",
    "                           cv=2,verbose=2)\n",
    "\n",
    "# concat beacuase we use the K-Fold cross validation \n",
    "grid_search.fit(np.concatenate([X_train,X_val], axis=0)\n",
    "                   ,np.concatenate([Y_train,Y_val],axis=0))\n",
    "\n",
    "\n",
    "\n",
    "# Access the cv_results_ dictionary\n",
    "cv_results = grid_search.cv_results_\n",
    "\n",
    "# Print the mean test scores for each hyperparameter combination\n",
    "for mean_score, params in zip(cv_results['mean_test_score'], cv_results['params']):\n",
    "    print(params['C'], mean_score)\n",
    "\n"
   ]
  },
  {
   "cell_type": "code",
   "execution_count": 15,
   "id": "11d8b4b7",
   "metadata": {},
   "outputs": [],
   "source": [
    "best_reg_model = grid_search.best_estimator_"
   ]
  },
  {
   "cell_type": "markdown",
   "id": "2377b68e",
   "metadata": {},
   "source": [
    "## accuracy on test on best reg model "
   ]
  },
  {
   "cell_type": "code",
   "execution_count": 16,
   "id": "7a8a240d",
   "metadata": {},
   "outputs": [],
   "source": [
    "best_accuracy , repo = test_model(best_reg_model,X_test,Y_test,axis=False)"
   ]
  },
  {
   "cell_type": "code",
   "execution_count": 17,
   "id": "f8da8533",
   "metadata": {},
   "outputs": [
    {
     "name": "stdout",
     "output_type": "stream",
     "text": [
      "0.983739837398374\n",
      "              precision    recall  f1-score   support\n",
      "\n",
      "           0       0.96      0.96      0.96        28\n",
      "           1       0.97      0.97      0.97        36\n",
      "           2       1.00      0.97      0.99        80\n",
      "           3       0.98      1.00      0.99       102\n",
      "\n",
      "    accuracy                           0.98       246\n",
      "   macro avg       0.98      0.98      0.98       246\n",
      "weighted avg       0.98      0.98      0.98       246\n",
      "\n"
     ]
    }
   ],
   "source": [
    "print(best_accuracy)\n",
    "print(repo)"
   ]
  },
  {
   "cell_type": "markdown",
   "id": "001bc369",
   "metadata": {},
   "source": [
    "## Plotting the change on accuracy tuning the 'C' hyperparameter"
   ]
  },
  {
   "cell_type": "code",
   "execution_count": 18,
   "id": "f04980ac",
   "metadata": {},
   "outputs": [
    {
     "data": {
      "image/png": "[encoded data removed]",
      "text/plain": [
       "<Figure size 640x480 with 1 Axes>"
      ]
     },
     "metadata": {},
     "output_type": "display_data"
    }
   ],
   "source": [
    "# Print the mean test scores for each hyperparameter combination\n",
    "x_axis = []\n",
    "y_axis = []\n",
    "for mean_score, params in zip(cv_results['mean_test_score'], cv_results['params']):\n",
    "    x_axis.append(params[\"C\"])\n",
    "    y_axis.append(mean_score)\n",
    "    \n",
    "    \n",
    "plt.plot(np.arange(1,len(x_axis)+1),y_axis)\n",
    "plt.title('Changing the hyperparameter C vs accuracy')\n",
    "plt.xlabel('C')\n",
    "plt.ylabel('accuracy')\n",
    "plt.axvline(np.argmax(cv_results[\"mean_test_score\"]),\n",
    "            color='red',\n",
    "            label=f\"C={cv_results['params'][np.argmax(cv_results['mean_test_score'])]['C']}\")\n",
    "plt.legend()\n",
    "plt.show()"
   ]
  },
  {
   "cell_type": "markdown",
   "id": "69be64ab",
   "metadata": {},
   "source": [
    "## Regression model with best C only\n"
   ]
  },
  {
   "cell_type": "code",
   "execution_count": 23,
   "id": "42ab0772",
   "metadata": {},
   "outputs": [],
   "source": [
    "only_C_model = LogisticRegression(random_state=42,max_iter=3000\n",
    "                                        ,C=700)\n"
   ]
  },
  {
   "cell_type": "code",
   "execution_count": 24,
   "id": "45d874d9",
   "metadata": {},
   "outputs": [
    {
     "data": {
      "text/plain": [
       "LogisticRegression(C=700, max_iter=3000, random_state=42)"
      ]
     },
     "execution_count": 24,
     "metadata": {},
     "output_type": "execute_result"
    }
   ],
   "source": [
    "only_C_model.fit(np.concatenate([X_train,X_val], axis=0)\n",
    "                   ,np.concatenate([Y_train,Y_val],axis=0))"
   ]
  },
  {
   "cell_type": "code",
   "execution_count": 25,
   "id": "c04e839b",
   "metadata": {},
   "outputs": [],
   "source": [
    "only_C_accuracy , repo = test_model(only_C_model,X_test,Y_test,axis=False)"
   ]
  },
  {
   "cell_type": "code",
   "execution_count": 26,
   "id": "e9b21110",
   "metadata": {},
   "outputs": [
    {
     "name": "stdout",
     "output_type": "stream",
     "text": [
      "0.983739837398374\n",
      "              precision    recall  f1-score   support\n",
      "\n",
      "           0       0.96      0.96      0.96        28\n",
      "           1       0.97      0.97      0.97        36\n",
      "           2       1.00      0.97      0.99        80\n",
      "           3       0.98      1.00      0.99       102\n",
      "\n",
      "    accuracy                           0.98       246\n",
      "   macro avg       0.98      0.98      0.98       246\n",
      "weighted avg       0.98      0.98      0.98       246\n",
      "\n"
     ]
    }
   ],
   "source": [
    "print(only_C_accuracy)\n",
    "print(repo)"
   ]
  },
  {
   "cell_type": "markdown",
   "id": "092b4370",
   "metadata": {},
   "source": [
    "**As shown from above analysis , it's obvious that the Tuning the Parameter C alone , or providing class_weights alone is much better that apply both of them**"
   ]
  },
  {
   "cell_type": "markdown",
   "id": "d748cfa4",
   "metadata": {},
   "source": [
    "# oversampling "
   ]
  },
  {
   "cell_type": "code",
   "execution_count": 27,
   "id": "cc58b918",
   "metadata": {},
   "outputs": [],
   "source": [
    "oversampled= over_sampling(all_class_train,sampling_ratio=0.5)"
   ]
  },
  {
   "cell_type": "code",
   "execution_count": 28,
   "id": "e3c7e779",
   "metadata": {},
   "outputs": [],
   "source": [
    "class_weights = oversampled[\"Body_Level\"].value_counts().to_dict()\n",
    "total_num = sum(class_weights.values())\n",
    "class_weights= { i : (total_num/(4* j )) for i ,j in zip(class_weights.keys(),class_weights.values())}"
   ]
  },
  {
   "cell_type": "code",
   "execution_count": 29,
   "id": "6ff5a061",
   "metadata": {},
   "outputs": [
    {
     "data": {
      "text/plain": [
       "{3: 0.7252202643171806,\n",
       " 2: 0.9571220930232558,\n",
       " 1: 1.256679389312977,\n",
       " 0: 1.2811284046692606}"
      ]
     },
     "execution_count": 29,
     "metadata": {},
     "output_type": "execute_result"
    }
   ],
   "source": [
    "class_weights"
   ]
  },
  {
   "cell_type": "code",
   "execution_count": 30,
   "id": "8dc52235",
   "metadata": {},
   "outputs": [],
   "source": [
    "X_train=oversampled.drop([\"Body_Level\"],axis=1).to_numpy()\n",
    "Y_train=oversampled[\"Body_Level\"].to_numpy()\n",
    "X_test =all_class_test.drop([\"Body_Level\"],axis=1).to_numpy()\n",
    "Y_test =all_class_test[\"Body_Level\"].to_numpy()"
   ]
  },
  {
   "cell_type": "code",
   "execution_count": 31,
   "id": "938a5761",
   "metadata": {},
   "outputs": [],
   "source": [
    "X_train, scaler= data_scaling(X_train)\n",
    "X_val, X_test, Y_val, Y_test = train_test_split(X_test\n",
    "                                                     , Y_test, test_size=0.5, random_state=42)\n",
    "X_val = scaler.transform(X_val)\n",
    "X_test=scaler.transform(X_test)"
   ]
  },
  {
   "cell_type": "markdown",
   "id": "5a22c9ec",
   "metadata": {},
   "source": [
    "## Applying the bare Regression on Oversampled data "
   ]
  },
  {
   "cell_type": "code",
   "execution_count": 32,
   "id": "e876c131",
   "metadata": {},
   "outputs": [
    {
     "data": {
      "text/plain": [
       "LogisticRegression(max_iter=1000)"
      ]
     },
     "execution_count": 32,
     "metadata": {},
     "output_type": "execute_result"
    }
   ],
   "source": [
    "bare_oversampled_reg = LogisticRegression(max_iter=1000)\n",
    "bare_oversampled_reg.fit(np.concatenate([X_train,X_val], axis=0)\n",
    "                   ,np.concatenate([Y_train,Y_val],axis=0))"
   ]
  },
  {
   "cell_type": "code",
   "execution_count": 33,
   "id": "d518d798",
   "metadata": {},
   "outputs": [],
   "source": [
    "bare_oversampled_accuracy , repo = test_model(bare_oversampled_reg,X_test,Y_test,axis=False)"
   ]
  },
  {
   "cell_type": "code",
   "execution_count": 34,
   "id": "37645aa8",
   "metadata": {},
   "outputs": [
    {
     "name": "stdout",
     "output_type": "stream",
     "text": [
      "0.975609756097561\n",
      "              precision    recall  f1-score   support\n",
      "\n",
      "           0       0.96      0.96      0.96        28\n",
      "           1       0.97      0.92      0.94        36\n",
      "           2       0.96      0.99      0.98        80\n",
      "           3       0.99      0.99      0.99       102\n",
      "\n",
      "    accuracy                           0.98       246\n",
      "   macro avg       0.97      0.96      0.97       246\n",
      "weighted avg       0.98      0.98      0.98       246\n",
      "\n"
     ]
    }
   ],
   "source": [
    "print(bare_oversampled_accuracy)\n",
    "print(repo)"
   ]
  },
  {
   "cell_type": "markdown",
   "id": "09091c9a",
   "metadata": {},
   "source": [
    "## Applying Regression On Over sampled data Class_weights only"
   ]
  },
  {
   "cell_type": "code",
   "execution_count": 35,
   "id": "9affc988",
   "metadata": {},
   "outputs": [
    {
     "data": {
      "text/plain": [
       "LogisticRegression(class_weight={0: 1.2811284046692606, 1: 1.256679389312977,\n",
       "                                 2: 0.9571220930232558, 3: 0.7252202643171806},\n",
       "                   max_iter=1000)"
      ]
     },
     "execution_count": 35,
     "metadata": {},
     "output_type": "execute_result"
    }
   ],
   "source": [
    "oversampled_class_weights = LogisticRegression(max_iter=1000,class_weight=class_weights)\n",
    "oversampled_class_weights.fit(np.concatenate([X_train,X_val], axis=0)\n",
    "                   ,np.concatenate([Y_train,Y_val],axis=0))"
   ]
  },
  {
   "cell_type": "code",
   "execution_count": 36,
   "id": "8b5c4ad4",
   "metadata": {},
   "outputs": [],
   "source": [
    "oversampled_class_weights_accuracy , repo = test_model(oversampled_class_weights,X_test,\n",
    "                                                       Y_test,axis=False)"
   ]
  },
  {
   "cell_type": "code",
   "execution_count": 37,
   "id": "0b01b544",
   "metadata": {},
   "outputs": [
    {
     "name": "stdout",
     "output_type": "stream",
     "text": [
      "0.975609756097561\n",
      "              precision    recall  f1-score   support\n",
      "\n",
      "           0       0.96      0.96      0.96        28\n",
      "           1       0.97      0.92      0.94        36\n",
      "           2       0.96      0.99      0.98        80\n",
      "           3       0.99      0.99      0.99       102\n",
      "\n",
      "    accuracy                           0.98       246\n",
      "   macro avg       0.97      0.96      0.97       246\n",
      "weighted avg       0.98      0.98      0.98       246\n",
      "\n"
     ]
    }
   ],
   "source": [
    "print(oversampled_class_weights_accuracy)\n",
    "print(repo)"
   ]
  },
  {
   "cell_type": "markdown",
   "id": "7e3ffcfb",
   "metadata": {},
   "source": [
    "## Tuning the C value on oversampled data  "
   ]
  },
  {
   "cell_type": "code",
   "execution_count": 38,
   "id": "368eac1b",
   "metadata": {},
   "outputs": [
    {
     "name": "stdout",
     "output_type": "stream",
     "text": [
      "Fitting 5 folds for each of 15 candidates, totalling 75 fits\n",
      "{'C': 0.001, 'penalty': 'l2'} 0.5659457688211681\n",
      "{'C': 0.01, 'penalty': 'l2'} 0.7182948308347669\n",
      "{'C': 0.1, 'penalty': 'l2'} 0.8655505038092898\n",
      "{'C': 1, 'penalty': 'l2'} 0.9391701482755795\n",
      "{'C': 10, 'penalty': 'l2'} 0.9705353485704924\n",
      "{'C': 100, 'penalty': 'l2'} 0.9807815188006881\n",
      "{'C': 200, 'penalty': 'l2'} 0.9820635700827394\n",
      "{'C': 300, 'penalty': 'l2'} 0.9833435733595477\n",
      "{'C': 400, 'penalty': 'l2'} 0.9839845990005734\n",
      "{'C': 500, 'penalty': 'l2'} 0.9839845990005734\n",
      "{'C': 600, 'penalty': 'l2'} 0.984625624641599\n",
      "{'C': 700, 'penalty': 'l2'} 0.984625624641599\n",
      "{'C': 800, 'penalty': 'l2'} 0.984625624641599\n",
      "{'C': 900, 'penalty': 'l2'} 0.9839866470058164\n",
      "{'C': 1000, 'penalty': 'l2'} 0.9839866470058164\n"
     ]
    }
   ],
   "source": [
    "from sklearn.linear_model import LogisticRegression\n",
    "from sklearn.model_selection import GridSearchCV\n",
    "from sklearn.datasets import make_classification\n",
    "from sklearn.metrics import accuracy_score\n",
    "\n",
    "\n",
    "\n",
    "reg_model = LogisticRegression(random_state=42,max_iter=3000)\n",
    "# Define the parameter grid to search over\n",
    "param_grid = {\n",
    "    'C': [0.001,0.01,0.1, 1, 10,100,200,300,400,500 ,600 ,700,800,900,1000],\n",
    "    'penalty': ['l2']\n",
    "}\n",
    "\n",
    "\n",
    "grid_search = GridSearchCV(estimator=reg_model, param_grid=param_grid, cv=5 , verbose=1 )\n",
    "\n",
    "grid_search.fit(np.concatenate([X_train,X_val], axis=0)\n",
    "                   ,np.concatenate([Y_train,Y_val],axis=0))\n",
    "\n",
    "\n",
    "\n",
    "# Access the cv_results_ dictionary\n",
    "cv_results = grid_search.cv_results_\n",
    "\n",
    "# Print the mean test scores for each hyperparameter combination\n",
    "for mean_score, params in zip(cv_results['mean_test_score'], cv_results['params']):\n",
    "    print(params, mean_score)\n",
    "\n"
   ]
  },
  {
   "cell_type": "code",
   "execution_count": 39,
   "id": "00809166",
   "metadata": {},
   "outputs": [],
   "source": [
    "Oversampled_C_only_accuracy , repo = test_model(grid_search.best_estimator_,\n",
    "                                                X_test,Y_test,axis=False)"
   ]
  },
  {
   "cell_type": "code",
   "execution_count": 40,
   "id": "8f36b13b",
   "metadata": {},
   "outputs": [
    {
     "name": "stdout",
     "output_type": "stream",
     "text": [
      "0.983739837398374\n",
      "              precision    recall  f1-score   support\n",
      "\n",
      "           0       0.96      0.96      0.96        28\n",
      "           1       0.97      0.97      0.97        36\n",
      "           2       1.00      0.97      0.99        80\n",
      "           3       0.98      1.00      0.99       102\n",
      "\n",
      "    accuracy                           0.98       246\n",
      "   macro avg       0.98      0.98      0.98       246\n",
      "weighted avg       0.98      0.98      0.98       246\n",
      "\n"
     ]
    }
   ],
   "source": [
    "print(Oversampled_C_only_accuracy)\n",
    "print(repo)"
   ]
  },
  {
   "cell_type": "markdown",
   "id": "92c4f0df",
   "metadata": {},
   "source": [
    "## Plot the different values of C "
   ]
  },
  {
   "cell_type": "code",
   "execution_count": 41,
   "id": "ac9df260",
   "metadata": {},
   "outputs": [
    {
     "data": {
      "image/png": "[encoded data removed]",
      "text/plain": [
       "<Figure size 640x480 with 1 Axes>"
      ]
     },
     "metadata": {},
     "output_type": "display_data"
    }
   ],
   "source": [
    "x_axis = []\n",
    "y_axis = []\n",
    "for mean_score, params in zip(cv_results['mean_test_score'], cv_results['params']):\n",
    "    x_axis.append(params[\"C\"])\n",
    "    y_axis.append(mean_score)\n",
    "    \n",
    "    \n",
    "plt.plot(np.arange(1,len(x_axis)+1),y_axis)\n",
    "plt.title('Changing the hyperparameter C vs accuracy')\n",
    "plt.xlabel('C')\n",
    "plt.ylabel('accuracy')\n",
    "plt.axvline(np.argmax(cv_results[\"mean_test_score\"]),\n",
    "            color='red',\n",
    "            label=f\"C={cv_results['params'][np.argmax(cv_results['mean_test_score'])]['C']}\")\n",
    "plt.legend()\n",
    "plt.show()"
   ]
  },
  {
   "cell_type": "markdown",
   "id": "bc50d56a",
   "metadata": {},
   "source": [
    "## Logistic Regression on best C and class weights on Oversampled data"
   ]
  },
  {
   "cell_type": "code",
   "execution_count": 42,
   "id": "9e7ab03f",
   "metadata": {},
   "outputs": [
    {
     "data": {
      "text/plain": [
       "LogisticRegression(C=600,\n",
       "                   class_weight={0: 1.2811284046692606, 1: 1.256679389312977,\n",
       "                                 2: 0.9571220930232558, 3: 0.7252202643171806},\n",
       "                   max_iter=1000)"
      ]
     },
     "execution_count": 42,
     "metadata": {},
     "output_type": "execute_result"
    }
   ],
   "source": [
    "best_oversampled_class_weights = LogisticRegression(max_iter=1000,class_weight=class_weights,C=600)\n",
    "best_oversampled_class_weights.fit(np.concatenate([X_train,X_val], axis=0)\n",
    "                   ,np.concatenate([Y_train,Y_val],axis=0))"
   ]
  },
  {
   "cell_type": "code",
   "execution_count": 43,
   "id": "2bddf26a",
   "metadata": {},
   "outputs": [],
   "source": [
    "best_oversampled_class_weights_accuracy , repo = test_model(best_oversampled_class_weights,\n",
    "                                                            X_test,Y_test,axis=False)"
   ]
  },
  {
   "cell_type": "code",
   "execution_count": 44,
   "id": "e1169e3b",
   "metadata": {},
   "outputs": [
    {
     "name": "stdout",
     "output_type": "stream",
     "text": [
      "0.9878048780487805\n",
      "              precision    recall  f1-score   support\n",
      "\n",
      "           0       0.97      1.00      0.98        28\n",
      "           1       1.00      0.97      0.99        36\n",
      "           2       1.00      0.97      0.99        80\n",
      "           3       0.98      1.00      0.99       102\n",
      "\n",
      "    accuracy                           0.99       246\n",
      "   macro avg       0.99      0.99      0.99       246\n",
      "weighted avg       0.99      0.99      0.99       246\n",
      "\n"
     ]
    }
   ],
   "source": [
    "print(best_oversampled_class_weights_accuracy)\n",
    "print(repo)"
   ]
  },
  {
   "cell_type": "code",
   "execution_count": 45,
   "id": "57f25b74",
   "metadata": {},
   "outputs": [],
   "source": [
    "with open(\"Best_Logistic_Regression_Model.h5\",\"wb\") as fb: \n",
    "            pickle.dump(best_oversampled_class_weights,fb)"
   ]
  },
  {
   "cell_type": "code",
   "execution_count": null,
   "id": "b3c9d836",
   "metadata": {},
   "outputs": [],
   "source": []
  }
 ],
 "metadata": {
  "kernelspec": {
   "display_name": "Python 3 (ipykernel)",
   "language": "python",
   "name": "python3"
  },
  "language_info": {
   "codemirror_mode": {
    "name": "ipython",
    "version": 3
   },
   "file_extension": ".py",
   "mimetype": "text/x-python",
   "name": "python",
   "nbconvert_exporter": "python",
   "pygments_lexer": "ipython3",
   "version": "3.9.13"
  }
 },
 "nbformat": 4,
 "nbformat_minor": 5
}

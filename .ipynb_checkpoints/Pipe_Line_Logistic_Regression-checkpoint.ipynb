{
 "cells": [
  {
   "cell_type": "markdown",
   "id": "366b4301",
   "metadata": {},
   "source": [
    "# بسم الله الرحمن الرحيم"
   ]
  },
  {
   "cell_type": "code",
   "execution_count": 86,
   "id": "2144698b",
   "metadata": {},
   "outputs": [],
   "source": [
    "from utils import *\n",
    "import pandas as pd \n",
    "from sklearn.model_selection import train_test_split\n",
    "from sklearn.linear_model import LogisticRegression\n",
    "from sklearn.model_selection import GridSearchCV\n",
    "from sklearn.metrics import accuracy_score\n",
    "from matplotlib import pyplot as plt \n"
   ]
  },
  {
   "cell_type": "code",
   "execution_count": 87,
   "id": "3acb315d",
   "metadata": {},
   "outputs": [],
   "source": [
    "df = pd.read_csv(\"dataset/body_level_classification_train.csv\")"
   ]
  },
  {
   "cell_type": "code",
   "execution_count": 88,
   "id": "09063b7a",
   "metadata": {},
   "outputs": [],
   "source": [
    "df_original= cleaning_data(df).copy()"
   ]
  },
  {
   "cell_type": "code",
   "execution_count": 89,
   "id": "8323be7f",
   "metadata": {},
   "outputs": [],
   "source": [
    "all_class_train,all_class_test=data_spliting(df_original,1/5)\n",
    "## shuffling \n",
    "all_class_train = all_class_train.sample(frac=1.0, random_state=42)\n",
    "all_class_test = all_class_test.sample(frac=1.0, random_state=42)"
   ]
  },
  {
   "cell_type": "code",
   "execution_count": 90,
   "id": "4742b3ae",
   "metadata": {},
   "outputs": [],
   "source": [
    "X_train=all_class_train.drop([\"Body_Level\"],axis=1).to_numpy()\n",
    "Y_train=all_class_train[\"Body_Level\"].to_numpy()\n",
    "X_test =all_class_test.drop([\"Body_Level\"],axis=1).to_numpy()\n",
    "Y_test =all_class_test[\"Body_Level\"].to_numpy()"
   ]
  },
  {
   "cell_type": "code",
   "execution_count": 91,
   "id": "6154ac90",
   "metadata": {},
   "outputs": [],
   "source": [
    "class_weights = all_class_train[\"Body_Level\"].value_counts().to_dict()\n",
    "total_num = sum(class_weights.values())\n",
    "class_weights= { i : (total_num/(4* j )) for i ,j in zip(class_weights.keys(),class_weights.values())}"
   ]
  },
  {
   "cell_type": "code",
   "execution_count": 92,
   "id": "a42bc0bd",
   "metadata": {},
   "outputs": [],
   "source": [
    "X_train, scaler= data_scaling(X_train)\n"
   ]
  },
  {
   "cell_type": "code",
   "execution_count": 93,
   "id": "65948699",
   "metadata": {},
   "outputs": [],
   "source": [
    "X_val, X_test, Y_val, Y_test = train_test_split(X_test\n",
    "                                                     , Y_test, test_size=0.5, random_state=42)"
   ]
  },
  {
   "cell_type": "code",
   "execution_count": 94,
   "id": "099adff6",
   "metadata": {},
   "outputs": [],
   "source": [
    "X_val = scaler.transform(X_val)\n",
    "X_test=scaler.transform(X_test)"
   ]
  },
  {
   "cell_type": "code",
   "execution_count": 95,
   "id": "293e51a9",
   "metadata": {},
   "outputs": [
    {
     "name": "stdout",
     "output_type": "stream",
     "text": [
      "Fitting 5 folds for each of 15 candidates, totalling 75 fits\n",
      "[CV] END ................................C=0.001, penalty=l2; total time=   0.0s\n",
      "[CV] END ................................C=0.001, penalty=l2; total time=   0.0s\n",
      "[CV] END ................................C=0.001, penalty=l2; total time=   0.0s\n",
      "[CV] END ................................C=0.001, penalty=l2; total time=   0.0s\n",
      "[CV] END ................................C=0.001, penalty=l2; total time=   0.0s\n",
      "[CV] END .................................C=0.01, penalty=l2; total time=   0.0s\n",
      "[CV] END .................................C=0.01, penalty=l2; total time=   0.0s\n",
      "[CV] END .................................C=0.01, penalty=l2; total time=   0.0s\n",
      "[CV] END .................................C=0.01, penalty=l2; total time=   0.0s\n",
      "[CV] END .................................C=0.01, penalty=l2; total time=   0.0s\n",
      "[CV] END ..................................C=0.1, penalty=l2; total time=   0.0s\n",
      "[CV] END ..................................C=0.1, penalty=l2; total time=   0.0s\n",
      "[CV] END ..................................C=0.1, penalty=l2; total time=   0.0s\n",
      "[CV] END ..................................C=0.1, penalty=l2; total time=   0.0s\n",
      "[CV] END ..................................C=0.1, penalty=l2; total time=   0.0s\n",
      "[CV] END ....................................C=1, penalty=l2; total time=   0.0s\n",
      "[CV] END ....................................C=1, penalty=l2; total time=   0.1s\n",
      "[CV] END ....................................C=1, penalty=l2; total time=   0.1s\n",
      "[CV] END ....................................C=1, penalty=l2; total time=   0.1s\n",
      "[CV] END ....................................C=1, penalty=l2; total time=   0.1s\n",
      "[CV] END ...................................C=10, penalty=l2; total time=   0.1s\n",
      "[CV] END ...................................C=10, penalty=l2; total time=   0.1s\n",
      "[CV] END ...................................C=10, penalty=l2; total time=   0.1s\n",
      "[CV] END ...................................C=10, penalty=l2; total time=   0.1s\n",
      "[CV] END ...................................C=10, penalty=l2; total time=   0.1s\n",
      "[CV] END ..................................C=100, penalty=l2; total time=   0.2s\n",
      "[CV] END ..................................C=100, penalty=l2; total time=   0.2s\n",
      "[CV] END ..................................C=100, penalty=l2; total time=   0.2s\n",
      "[CV] END ..................................C=100, penalty=l2; total time=   0.2s\n",
      "[CV] END ..................................C=100, penalty=l2; total time=   0.4s\n",
      "[CV] END ..................................C=200, penalty=l2; total time=   0.3s\n",
      "[CV] END ..................................C=200, penalty=l2; total time=   0.2s\n",
      "[CV] END ..................................C=200, penalty=l2; total time=   0.3s\n",
      "[CV] END ..................................C=200, penalty=l2; total time=   0.4s\n",
      "[CV] END ..................................C=200, penalty=l2; total time=   0.3s\n",
      "[CV] END ..................................C=300, penalty=l2; total time=   0.3s\n",
      "[CV] END ..................................C=300, penalty=l2; total time=   0.2s\n",
      "[CV] END ..................................C=300, penalty=l2; total time=   0.3s\n",
      "[CV] END ..................................C=300, penalty=l2; total time=   0.3s\n",
      "[CV] END ..................................C=300, penalty=l2; total time=   0.3s\n",
      "[CV] END ..................................C=400, penalty=l2; total time=   0.3s\n",
      "[CV] END ..................................C=400, penalty=l2; total time=   0.3s\n",
      "[CV] END ..................................C=400, penalty=l2; total time=   0.3s\n",
      "[CV] END ..................................C=400, penalty=l2; total time=   0.3s\n",
      "[CV] END ..................................C=400, penalty=l2; total time=   0.3s\n",
      "[CV] END ..................................C=500, penalty=l2; total time=   0.3s\n",
      "[CV] END ..................................C=500, penalty=l2; total time=   0.3s\n",
      "[CV] END ..................................C=500, penalty=l2; total time=   0.3s\n",
      "[CV] END ..................................C=500, penalty=l2; total time=   0.4s\n",
      "[CV] END ..................................C=500, penalty=l2; total time=   0.4s\n",
      "[CV] END ..................................C=600, penalty=l2; total time=   0.3s\n",
      "[CV] END ..................................C=600, penalty=l2; total time=   0.3s\n",
      "[CV] END ..................................C=600, penalty=l2; total time=   0.4s\n",
      "[CV] END ..................................C=600, penalty=l2; total time=   0.4s\n",
      "[CV] END ..................................C=600, penalty=l2; total time=   0.4s\n",
      "[CV] END ..................................C=700, penalty=l2; total time=   0.3s\n",
      "[CV] END ..................................C=700, penalty=l2; total time=   0.3s\n",
      "[CV] END ..................................C=700, penalty=l2; total time=   0.3s\n",
      "[CV] END ..................................C=700, penalty=l2; total time=   0.3s\n",
      "[CV] END ..................................C=700, penalty=l2; total time=   0.4s\n",
      "[CV] END ..................................C=800, penalty=l2; total time=   0.3s\n",
      "[CV] END ..................................C=800, penalty=l2; total time=   0.3s\n",
      "[CV] END ..................................C=800, penalty=l2; total time=   0.2s\n",
      "[CV] END ..................................C=800, penalty=l2; total time=   0.4s\n",
      "[CV] END ..................................C=800, penalty=l2; total time=   0.4s\n",
      "[CV] END ..................................C=900, penalty=l2; total time=   0.3s\n",
      "[CV] END ..................................C=900, penalty=l2; total time=   0.3s\n",
      "[CV] END ..................................C=900, penalty=l2; total time=   0.4s\n",
      "[CV] END ..................................C=900, penalty=l2; total time=   0.3s\n",
      "[CV] END ..................................C=900, penalty=l2; total time=   0.4s\n",
      "[CV] END .................................C=1000, penalty=l2; total time=   0.3s\n",
      "[CV] END .................................C=1000, penalty=l2; total time=   0.3s\n",
      "[CV] END .................................C=1000, penalty=l2; total time=   0.4s\n",
      "[CV] END .................................C=1000, penalty=l2; total time=   0.4s\n",
      "[CV] END .................................C=1000, penalty=l2; total time=   0.4s\n",
      "0.001 0.6539011657012087\n",
      "0.01 0.7385360795251377\n",
      "0.1 0.8620718014732175\n",
      "1 0.9348280054351713\n",
      "10 0.9636201101337338\n",
      "100 0.9746191804333835\n",
      "200 0.9729278409497247\n",
      "300 0.9720839590931846\n",
      "400 0.972087534863763\n",
      "500 0.9712400772366445\n",
      "600 0.9712400772366445\n",
      "700 0.9703926196095258\n",
      "800 0.9712400772366445\n",
      "900 0.9712400772366445\n",
      "1000 0.9703926196095258\n"
     ]
    }
   ],
   "source": [
    "\n",
    "reg_model = LogisticRegression(random_state=42,max_iter=3000,class_weight=class_weights)\n",
    "# Define the parameter grid to search over\n",
    "param_grid = {\n",
    "    'C': [0.001,0.01,0.1, 1, 10,100,200,300,400,500 ,600 ,700 ,800,900,1000],\n",
    "    'penalty': ['l2']\n",
    "}\n",
    "\n",
    "\n",
    "grid_search = GridSearchCV(estimator=reg_model, param_grid=param_grid,\n",
    "                           cv=None,verbose=2)\n",
    "\n",
    "grid_search.fit(X_train, Y_train)\n",
    "\n",
    "\n",
    "\n",
    "# Access the cv_results_ dictionary\n",
    "cv_results = grid_search.cv_results_\n",
    "\n",
    "# Print the mean test scores for each hyperparameter combination\n",
    "for mean_score, params in zip(cv_results['mean_test_score'], cv_results['params']):\n",
    "    print(params['C'], mean_score)\n",
    "\n"
   ]
  },
  {
   "cell_type": "code",
   "execution_count": 96,
   "id": "df8e7b70",
   "metadata": {},
   "outputs": [],
   "source": [
    "# Print the mean test scores for each hyperparameter combination\n",
    "x_axis = []\n",
    "y_axis = []\n",
    "for mean_score, params in zip(cv_results['mean_test_score'], cv_results['params']):\n",
    "    x_axis.append(params[\"C\"])\n",
    "    y_axis.append(mean_score)\n",
    "    \n"
   ]
  },
  {
   "cell_type": "code",
   "execution_count": 97,
   "id": "9bee3c40",
   "metadata": {},
   "outputs": [
    {
     "data": {
      "image/png": "[encoded data removed]",
      "text/plain": [
       "<Figure size 640x480 with 1 Axes>"
      ]
     },
     "metadata": {},
     "output_type": "display_data"
    }
   ],
   "source": [
    "plt.plot(np.arange(1,len(x_axis)+1),y_axis)\n",
    "plt.show()"
   ]
  },
  {
   "cell_type": "code",
   "execution_count": 98,
   "id": "85f699d8",
   "metadata": {},
   "outputs": [
    {
     "data": {
      "text/plain": [
       "0.9864864864864865"
      ]
     },
     "execution_count": 98,
     "metadata": {},
     "output_type": "execute_result"
    }
   ],
   "source": [
    "np.sum(grid_search.best_estimator_.predict(X_test) == Y_test) / Y_test.shape[0]"
   ]
  },
  {
   "cell_type": "code",
   "execution_count": 99,
   "id": "87c1b601",
   "metadata": {},
   "outputs": [
    {
     "data": {
      "text/plain": [
       "1.0"
      ]
     },
     "execution_count": 99,
     "metadata": {},
     "output_type": "execute_result"
    }
   ],
   "source": [
    "np.sum(grid_search.best_estimator_.predict(X_val) == Y_val) / Y_val.shape[0]"
   ]
  },
  {
   "cell_type": "code",
   "execution_count": 100,
   "id": "cc58b918",
   "metadata": {},
   "outputs": [],
   "source": [
    "oversampled= over_sampling(all_class_train,sampling_ratio=0.5)"
   ]
  },
  {
   "cell_type": "code",
   "execution_count": 101,
   "id": "db83a121",
   "metadata": {},
   "outputs": [],
   "source": [
    "class_weights = oversampled[\"Body_Level\"].value_counts().to_dict()\n",
    "total_num = sum(class_weights.values())\n",
    "class_weights= { i : (total_num/(4* j )) for i ,j in zip(class_weights.keys(),class_weights.values())}"
   ]
  },
  {
   "cell_type": "code",
   "execution_count": 102,
   "id": "7c61b7fd",
   "metadata": {},
   "outputs": [
    {
     "data": {
      "text/plain": [
       "{3: 0.6755514705882353,\n",
       " 2: 0.9773936170212766,\n",
       " 1: 1.3219424460431655,\n",
       " 0: 1.3511029411764706}"
      ]
     },
     "execution_count": 102,
     "metadata": {},
     "output_type": "execute_result"
    }
   ],
   "source": [
    "class_weights"
   ]
  },
  {
   "cell_type": "code",
   "execution_count": 103,
   "id": "8dc52235",
   "metadata": {},
   "outputs": [],
   "source": [
    "X_train=oversampled.drop([\"Body_Level\"],axis=1).to_numpy()\n",
    "Y_train=oversampled[\"Body_Level\"].to_numpy()\n",
    "X_test =all_class_test.drop([\"Body_Level\"],axis=1).to_numpy()\n",
    "Y_test =all_class_test[\"Body_Level\"].to_numpy()"
   ]
  },
  {
   "cell_type": "code",
   "execution_count": 104,
   "id": "938a5761",
   "metadata": {},
   "outputs": [],
   "source": [
    "X_train, scaler= data_scaling(X_train)\n",
    "X_val, X_test, Y_val, Y_test = train_test_split(X_test\n",
    "                                                     , Y_test, test_size=0.5, random_state=42)\n",
    "X_val = scaler.transform(X_val)\n",
    "X_test=scaler.transform(X_test)"
   ]
  },
  {
   "cell_type": "code",
   "execution_count": 105,
   "id": "8f36b13b",
   "metadata": {},
   "outputs": [
    {
     "name": "stdout",
     "output_type": "stream",
     "text": [
      "{'C': 0.001, 'penalty': 'l2'} 0.6625850340136055\n",
      "{'C': 0.01, 'penalty': 'l2'} 0.7435374149659864\n",
      "{'C': 0.1, 'penalty': 'l2'} 0.8775510204081634\n",
      "{'C': 1, 'penalty': 'l2'} 0.9421768707482994\n",
      "{'C': 10, 'penalty': 'l2'} 0.9687074829931971\n",
      "{'C': 100, 'penalty': 'l2'} 0.982312925170068\n",
      "{'C': 200, 'penalty': 'l2'} 0.9843537414965986\n",
      "{'C': 300, 'penalty': 'l2'} 0.9843537414965986\n",
      "{'C': 400, 'penalty': 'l2'} 0.9843537414965986\n",
      "{'C': 500, 'penalty': 'l2'} 0.9843537414965986\n",
      "{'C': 600, 'penalty': 'l2'} 0.9850340136054422\n",
      "{'C': 700, 'penalty': 'l2'} 0.9857142857142858\n"
     ]
    }
   ],
   "source": [
    "from sklearn.linear_model import LogisticRegression\n",
    "from sklearn.model_selection import GridSearchCV\n",
    "from sklearn.datasets import make_classification\n",
    "from sklearn.metrics import accuracy_score\n",
    "\n",
    "\n",
    "\n",
    "reg_model = LogisticRegression(random_state=42,max_iter=1000,class_weight=class_weights)\n",
    "# Define the parameter grid to search over\n",
    "param_grid = {\n",
    "    'C': [0.001,0.01,0.1, 1, 10,100,200,300,400,500 ,600 ,700 ],\n",
    "    'penalty': ['l2']\n",
    "}\n",
    "\n",
    "\n",
    "grid_search = GridSearchCV(estimator=reg_model, param_grid=param_grid, cv=None)\n",
    "\n",
    "grid_search.fit(X_train, Y_train)\n",
    "\n",
    "\n",
    "\n",
    "# Access the cv_results_ dictionary\n",
    "cv_results = grid_search.cv_results_\n",
    "\n",
    "# Print the mean test scores for each hyperparameter combination\n",
    "for mean_score, params in zip(cv_results['mean_test_score'], cv_results['params']):\n",
    "    print(params, mean_score)\n",
    "\n"
   ]
  },
  {
   "cell_type": "code",
   "execution_count": 109,
   "id": "afbf8a6a",
   "metadata": {},
   "outputs": [
    {
     "ename": "AxisError",
     "evalue": "axis 1 is out of bounds for array of dimension 1",
     "output_type": "error",
     "traceback": [
      "\u001b[0;31m---------------------------------------------------------------------------\u001b[0m",
      "\u001b[0;31mAxisError\u001b[0m                                 Traceback (most recent call last)",
      "\u001b[0;32m/tmp/ipykernel_94647/3107210539.py\u001b[0m in \u001b[0;36m<module>\u001b[0;34m\u001b[0m\n\u001b[0;32m----> 1\u001b[0;31m \u001b[0mtest_model\u001b[0m\u001b[0;34m(\u001b[0m\u001b[0mgrid_search\u001b[0m\u001b[0;34m.\u001b[0m\u001b[0mbest_estimator_\u001b[0m\u001b[0;34m,\u001b[0m\u001b[0mX_train\u001b[0m\u001b[0;34m,\u001b[0m\u001b[0mY_train\u001b[0m\u001b[0;34m)\u001b[0m\u001b[0;34m\u001b[0m\u001b[0;34m\u001b[0m\u001b[0m\n\u001b[0m",
      "\u001b[0;32m~/Desktop/ML_project/Github/ML_Project/utils.py\u001b[0m in \u001b[0;36mtest_model\u001b[0;34m(model, X_test, Y_test)\u001b[0m\n\u001b[1;32m    157\u001b[0m \u001b[0;32mdef\u001b[0m \u001b[0mtest_model\u001b[0m\u001b[0;34m(\u001b[0m\u001b[0mmodel\u001b[0m\u001b[0;34m,\u001b[0m\u001b[0mX_test\u001b[0m\u001b[0;34m,\u001b[0m\u001b[0mY_test\u001b[0m\u001b[0;34m)\u001b[0m\u001b[0;34m:\u001b[0m\u001b[0;34m\u001b[0m\u001b[0;34m\u001b[0m\u001b[0m\n\u001b[1;32m    158\u001b[0m     \u001b[0mY_test_pred\u001b[0m\u001b[0;34m=\u001b[0m\u001b[0mmodel\u001b[0m\u001b[0;34m.\u001b[0m\u001b[0mpredict\u001b[0m\u001b[0;34m(\u001b[0m\u001b[0mX_test\u001b[0m\u001b[0;34m)\u001b[0m\u001b[0;34m\u001b[0m\u001b[0;34m\u001b[0m\u001b[0m\n\u001b[0;32m--> 159\u001b[0;31m     \u001b[0mY_test_pred\u001b[0m\u001b[0;34m=\u001b[0m\u001b[0mnp\u001b[0m\u001b[0;34m.\u001b[0m\u001b[0margmax\u001b[0m\u001b[0;34m(\u001b[0m\u001b[0mY_test_pred\u001b[0m\u001b[0;34m,\u001b[0m\u001b[0maxis\u001b[0m\u001b[0;34m=\u001b[0m\u001b[0;36m1\u001b[0m\u001b[0;34m)\u001b[0m\u001b[0;34m\u001b[0m\u001b[0;34m\u001b[0m\u001b[0m\n\u001b[0m\u001b[1;32m    160\u001b[0m     \u001b[0maccurate_accuracy\u001b[0m\u001b[0;34m=\u001b[0m \u001b[0mnp\u001b[0m\u001b[0;34m.\u001b[0m\u001b[0msum\u001b[0m\u001b[0;34m(\u001b[0m\u001b[0mY_test_pred\u001b[0m\u001b[0;34m==\u001b[0m\u001b[0mY_test\u001b[0m\u001b[0;34m)\u001b[0m\u001b[0;34m/\u001b[0m\u001b[0mY_test\u001b[0m\u001b[0;34m.\u001b[0m\u001b[0mshape\u001b[0m\u001b[0;34m[\u001b[0m\u001b[0;36m0\u001b[0m\u001b[0;34m]\u001b[0m\u001b[0;34m\u001b[0m\u001b[0;34m\u001b[0m\u001b[0m\n\u001b[1;32m    161\u001b[0m     \u001b[0mclassify_repo\u001b[0m \u001b[0;34m=\u001b[0m \u001b[0mclassification_report\u001b[0m\u001b[0;34m(\u001b[0m\u001b[0mY_test\u001b[0m\u001b[0;34m,\u001b[0m \u001b[0mY_test_pred\u001b[0m\u001b[0;34m)\u001b[0m\u001b[0;34m\u001b[0m\u001b[0;34m\u001b[0m\u001b[0m\n",
      "\u001b[0;32m~/anaconda3/lib/python3.9/site-packages/numpy/core/overrides.py\u001b[0m in \u001b[0;36margmax\u001b[0;34m(*args, **kwargs)\u001b[0m\n",
      "\u001b[0;32m~/anaconda3/lib/python3.9/site-packages/numpy/core/fromnumeric.py\u001b[0m in \u001b[0;36margmax\u001b[0;34m(a, axis, out, keepdims)\u001b[0m\n\u001b[1;32m   1240\u001b[0m     \"\"\"\n\u001b[1;32m   1241\u001b[0m     \u001b[0mkwds\u001b[0m \u001b[0;34m=\u001b[0m \u001b[0;34m{\u001b[0m\u001b[0;34m'keepdims'\u001b[0m\u001b[0;34m:\u001b[0m \u001b[0mkeepdims\u001b[0m\u001b[0;34m}\u001b[0m \u001b[0;32mif\u001b[0m \u001b[0mkeepdims\u001b[0m \u001b[0;32mis\u001b[0m \u001b[0;32mnot\u001b[0m \u001b[0mnp\u001b[0m\u001b[0;34m.\u001b[0m\u001b[0m_NoValue\u001b[0m \u001b[0;32melse\u001b[0m \u001b[0;34m{\u001b[0m\u001b[0;34m}\u001b[0m\u001b[0;34m\u001b[0m\u001b[0;34m\u001b[0m\u001b[0m\n\u001b[0;32m-> 1242\u001b[0;31m     \u001b[0;32mreturn\u001b[0m \u001b[0m_wrapfunc\u001b[0m\u001b[0;34m(\u001b[0m\u001b[0ma\u001b[0m\u001b[0;34m,\u001b[0m \u001b[0;34m'argmax'\u001b[0m\u001b[0;34m,\u001b[0m \u001b[0maxis\u001b[0m\u001b[0;34m=\u001b[0m\u001b[0maxis\u001b[0m\u001b[0;34m,\u001b[0m \u001b[0mout\u001b[0m\u001b[0;34m=\u001b[0m\u001b[0mout\u001b[0m\u001b[0;34m,\u001b[0m \u001b[0;34m**\u001b[0m\u001b[0mkwds\u001b[0m\u001b[0;34m)\u001b[0m\u001b[0;34m\u001b[0m\u001b[0;34m\u001b[0m\u001b[0m\n\u001b[0m\u001b[1;32m   1243\u001b[0m \u001b[0;34m\u001b[0m\u001b[0m\n\u001b[1;32m   1244\u001b[0m \u001b[0;34m\u001b[0m\u001b[0m\n",
      "\u001b[0;32m~/anaconda3/lib/python3.9/site-packages/numpy/core/fromnumeric.py\u001b[0m in \u001b[0;36m_wrapfunc\u001b[0;34m(obj, method, *args, **kwds)\u001b[0m\n\u001b[1;32m     55\u001b[0m \u001b[0;34m\u001b[0m\u001b[0m\n\u001b[1;32m     56\u001b[0m     \u001b[0;32mtry\u001b[0m\u001b[0;34m:\u001b[0m\u001b[0;34m\u001b[0m\u001b[0;34m\u001b[0m\u001b[0m\n\u001b[0;32m---> 57\u001b[0;31m         \u001b[0;32mreturn\u001b[0m \u001b[0mbound\u001b[0m\u001b[0;34m(\u001b[0m\u001b[0;34m*\u001b[0m\u001b[0margs\u001b[0m\u001b[0;34m,\u001b[0m \u001b[0;34m**\u001b[0m\u001b[0mkwds\u001b[0m\u001b[0;34m)\u001b[0m\u001b[0;34m\u001b[0m\u001b[0;34m\u001b[0m\u001b[0m\n\u001b[0m\u001b[1;32m     58\u001b[0m     \u001b[0;32mexcept\u001b[0m \u001b[0mTypeError\u001b[0m\u001b[0;34m:\u001b[0m\u001b[0;34m\u001b[0m\u001b[0;34m\u001b[0m\u001b[0m\n\u001b[1;32m     59\u001b[0m         \u001b[0;31m# A TypeError occurs if the object does have such a method in its\u001b[0m\u001b[0;34m\u001b[0m\u001b[0;34m\u001b[0m\u001b[0m\n",
      "\u001b[0;31mAxisError\u001b[0m: axis 1 is out of bounds for array of dimension 1"
     ]
    }
   ],
   "source": [
    "test_model(grid_search.best_estimator_,X_train,Y_train ,axis=False)"
   ]
  },
  {
   "cell_type": "code",
   "execution_count": 107,
   "id": "b863987c",
   "metadata": {},
   "outputs": [
    {
     "data": {
      "text/plain": [
       "0.9797297297297297"
      ]
     },
     "execution_count": 107,
     "metadata": {},
     "output_type": "execute_result"
    }
   ],
   "source": [
    "np.sum(grid_search.best_estimator_.predict(X_test) == Y_test) / Y_test.shape[0]"
   ]
  },
  {
   "cell_type": "code",
   "execution_count": null,
   "id": "ed679d90",
   "metadata": {},
   "outputs": [],
   "source": []
  },
  {
   "cell_type": "code",
   "execution_count": null,
   "id": "43ec49c6",
   "metadata": {},
   "outputs": [],
   "source": []
  }
 ],
 "metadata": {
  "kernelspec": {
   "display_name": "Python 3 (ipykernel)",
   "language": "python",
   "name": "python3"
  },
  "language_info": {
   "codemirror_mode": {
    "name": "ipython",
    "version": 3
   },
   "file_extension": ".py",
   "mimetype": "text/x-python",
   "name": "python",
   "nbconvert_exporter": "python",
   "pygments_lexer": "ipython3",
   "version": "3.9.13"
  }
 },
 "nbformat": 4,
 "nbformat_minor": 5
}

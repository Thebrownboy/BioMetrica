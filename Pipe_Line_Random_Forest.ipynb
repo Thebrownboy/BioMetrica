{
 "cells": [
  {
   "cell_type": "markdown",
   "id": "cd91071d",
   "metadata": {},
   "source": [
    "# بسم الله الرحمن الرحيم"
   ]
  },
  {
   "cell_type": "code",
   "execution_count": 1,
   "id": "b9f50056",
   "metadata": {},
   "outputs": [
    {
     "name": "stderr",
     "output_type": "stream",
     "text": [
      "2023-05-16 22:08:27.785512: I tensorflow/core/platform/cpu_feature_guard.cc:193] This TensorFlow binary is optimized with oneAPI Deep Neural Network Library (oneDNN) to use the following CPU instructions in performance-critical operations:  AVX2 FMA\n",
      "To enable them in other operations, rebuild TensorFlow with the appropriate compiler flags.\n",
      "2023-05-16 22:08:27.953788: W tensorflow/compiler/xla/stream_executor/platform/default/dso_loader.cc:64] Could not load dynamic library 'libcudart.so.11.0'; dlerror: libcudart.so.11.0: cannot open shared object file: No such file or directory\n",
      "2023-05-16 22:08:27.953808: I tensorflow/compiler/xla/stream_executor/cuda/cudart_stub.cc:29] Ignore above cudart dlerror if you do not have a GPU set up on your machine.\n",
      "2023-05-16 22:08:29.086445: W tensorflow/compiler/xla/stream_executor/platform/default/dso_loader.cc:64] Could not load dynamic library 'libnvinfer.so.7'; dlerror: libnvinfer.so.7: cannot open shared object file: No such file or directory\n",
      "2023-05-16 22:08:29.086566: W tensorflow/compiler/xla/stream_executor/platform/default/dso_loader.cc:64] Could not load dynamic library 'libnvinfer_plugin.so.7'; dlerror: libnvinfer_plugin.so.7: cannot open shared object file: No such file or directory\n",
      "2023-05-16 22:08:29.086582: W tensorflow/compiler/tf2tensorrt/utils/py_utils.cc:38] TF-TRT Warning: Cannot dlopen some TensorRT libraries. If you would like to use Nvidia GPU with TensorRT, please make sure the missing libraries mentioned above are installed properly.\n",
      "/home/thebrownboy/anaconda3/lib/python3.9/site-packages/tensorflow_addons/utils/tfa_eol_msg.py:23: UserWarning: \n",
      "\n",
      "TensorFlow Addons (TFA) has ended development and introduction of new features.\n",
      "TFA has entered a minimal maintenance and release mode until a planned end of life in May 2024.\n",
      "Please modify downstream libraries to take dependencies from other repositories in our TensorFlow community (e.g. Keras, Keras-CV, and Keras-NLP). \n",
      "\n",
      "For more information see: https://github.com/tensorflow/addons/issues/2807 \n",
      "\n",
      "  warnings.warn(\n"
     ]
    }
   ],
   "source": [
    "from utils import *\n",
    "import pandas as pd \n",
    "from sklearn.model_selection import train_test_split\n",
    "from sklearn.ensemble import RandomForestClassifier\n",
    "from sklearn.ensemble import RandomForestClassifier\n",
    "from sklearn.model_selection import GridSearchCV\n",
    "from matplotlib import pyplot as plt \n"
   ]
  },
  {
   "cell_type": "code",
   "execution_count": 3,
   "id": "9f472df1",
   "metadata": {},
   "outputs": [],
   "source": [
    "df = pd.read_csv(\"dataset/body_level_classification_train.csv\")\n",
    "df_original= cleaning_data(df).copy()\n",
    "all_class_train,all_class_test=data_spliting(df_original,1/3)\n",
    "## shuffling \n",
    "all_class_train = all_class_train.sample(frac=1.0, random_state=42)\n",
    "all_class_test = all_class_test.sample(frac=1.0, random_state=42)\n",
    "X_train=all_class_train.drop([\"Body_Level\"],axis=1).to_numpy()\n",
    "Y_train=all_class_train[\"Body_Level\"].to_numpy()\n",
    "X_test =all_class_test.drop([\"Body_Level\"],axis=1).to_numpy()\n",
    "Y_test =all_class_test[\"Body_Level\"].to_numpy()\n",
    "\n",
    "\n",
    "X_train, scaler= data_scaling(X_train)\n",
    "X_val, X_test, Y_val, Y_test = train_test_split(X_test\n",
    "                                                     , Y_test, test_size=0.5, random_state=42)\n",
    "X_val = scaler.transform(X_val)\n",
    "X_test=scaler.transform(X_test)"
   ]
  },
  {
   "cell_type": "code",
   "execution_count": 4,
   "id": "36909894",
   "metadata": {},
   "outputs": [
    {
     "data": {
      "text/plain": [
       "{3: 0.5429515418502202,\n",
       " 2: 0.9095940959409594,\n",
       " 1: 1.8395522388059702,\n",
       " 0: 1.9409448818897639}"
      ]
     },
     "execution_count": 4,
     "metadata": {},
     "output_type": "execute_result"
    }
   ],
   "source": [
    "class_weights = all_class_train[\"Body_Level\"].value_counts().to_dict()\n",
    "total_num = sum(class_weights.values())\n",
    "class_weights= { i : (total_num/(4* j )) for i ,j in zip(class_weights.keys(),class_weights.values())}\n",
    "class_weights"
   ]
  },
  {
   "cell_type": "markdown",
   "id": "eb54bbaf",
   "metadata": {},
   "source": [
    "# Applying bare Random Forest "
   ]
  },
  {
   "cell_type": "code",
   "execution_count": 5,
   "id": "ef60e071",
   "metadata": {},
   "outputs": [
    {
     "data": {
      "text/plain": [
       "RandomForestClassifier(random_state=42)"
      ]
     },
     "execution_count": 5,
     "metadata": {},
     "output_type": "execute_result"
    }
   ],
   "source": [
    "bare_RF = RandomForestClassifier(random_state=42)\n",
    "bare_RF.fit(np.concatenate([X_train,X_val], axis=0)\n",
    "                   ,np.concatenate([Y_train,Y_val],axis=0))"
   ]
  },
  {
   "cell_type": "code",
   "execution_count": 6,
   "id": "15863b60",
   "metadata": {},
   "outputs": [],
   "source": [
    "bare_RF_accuracy , repo = test_model(bare_RF,X_train,Y_train,axis=False)"
   ]
  },
  {
   "cell_type": "code",
   "execution_count": 7,
   "id": "8d3ab18f",
   "metadata": {},
   "outputs": [
    {
     "name": "stdout",
     "output_type": "stream",
     "text": [
      "1.0\n",
      "              precision    recall  f1-score   support\n",
      "\n",
      "           0       1.00      1.00      1.00       127\n",
      "           1       1.00      1.00      1.00       134\n",
      "           2       1.00      1.00      1.00       271\n",
      "           3       1.00      1.00      1.00       454\n",
      "\n",
      "    accuracy                           1.00       986\n",
      "   macro avg       1.00      1.00      1.00       986\n",
      "weighted avg       1.00      1.00      1.00       986\n",
      "\n"
     ]
    }
   ],
   "source": [
    "print(bare_RF_accuracy)\n",
    "print(repo)"
   ]
  },
  {
   "cell_type": "markdown",
   "id": "56226ead",
   "metadata": {},
   "source": [
    "## Applying Random Forest With Class Weights"
   ]
  },
  {
   "cell_type": "code",
   "execution_count": 8,
   "id": "593bfadb",
   "metadata": {},
   "outputs": [
    {
     "data": {
      "text/plain": [
       "RandomForestClassifier(class_weight={0: 1.9409448818897639,\n",
       "                                     1: 1.8395522388059702,\n",
       "                                     2: 0.9095940959409594,\n",
       "                                     3: 0.5429515418502202},\n",
       "                       random_state=42)"
      ]
     },
     "execution_count": 8,
     "metadata": {},
     "output_type": "execute_result"
    }
   ],
   "source": [
    "weights_RF = RandomForestClassifier(random_state=42,class_weight=class_weights)\n",
    "weights_RF.fit(np.concatenate([X_train,X_val], axis=0)\n",
    "                   ,np.concatenate([Y_train,Y_val],axis=0))"
   ]
  },
  {
   "cell_type": "code",
   "execution_count": 9,
   "id": "fcd4f66c",
   "metadata": {},
   "outputs": [],
   "source": [
    "weights_RF , repo = test_model(weights_RF,X_train,Y_train,axis=False)"
   ]
  },
  {
   "cell_type": "code",
   "execution_count": 10,
   "id": "9c5c01cb",
   "metadata": {},
   "outputs": [
    {
     "name": "stdout",
     "output_type": "stream",
     "text": [
      "1.0\n",
      "              precision    recall  f1-score   support\n",
      "\n",
      "           0       1.00      1.00      1.00       127\n",
      "           1       1.00      1.00      1.00       134\n",
      "           2       1.00      1.00      1.00       271\n",
      "           3       1.00      1.00      1.00       454\n",
      "\n",
      "    accuracy                           1.00       986\n",
      "   macro avg       1.00      1.00      1.00       986\n",
      "weighted avg       1.00      1.00      1.00       986\n",
      "\n"
     ]
    }
   ],
   "source": [
    "print(weights_RF)\n",
    "print(repo)"
   ]
  },
  {
   "cell_type": "markdown",
   "id": "014dcc87",
   "metadata": {},
   "source": [
    "## HyperParameter Tuning on Random Forest "
   ]
  },
  {
   "cell_type": "code",
   "execution_count": 20,
   "id": "48c78ac2",
   "metadata": {
    "scrolled": true
   },
   "outputs": [
    {
     "name": "stdout",
     "output_type": "stream",
     "text": [
      "Fitting 5 folds for each of 28 candidates, totalling 140 fits\n",
      "[CV] END ......................max_depth=10, n_estimators=50; total time=   0.1s\n",
      "[CV] END ......................max_depth=10, n_estimators=50; total time=   0.1s\n",
      "[CV] END ......................max_depth=10, n_estimators=50; total time=   0.1s\n",
      "[CV] END ......................max_depth=10, n_estimators=50; total time=   0.1s\n",
      "[CV] END ......................max_depth=10, n_estimators=50; total time=   0.1s\n",
      "[CV] END .....................max_depth=10, n_estimators=100; total time=   0.2s\n",
      "[CV] END .....................max_depth=10, n_estimators=100; total time=   0.2s\n",
      "[CV] END .....................max_depth=10, n_estimators=100; total time=   0.2s\n",
      "[CV] END .....................max_depth=10, n_estimators=100; total time=   0.2s\n",
      "[CV] END .....................max_depth=10, n_estimators=100; total time=   0.2s\n",
      "[CV] END .....................max_depth=10, n_estimators=200; total time=   0.3s\n",
      "[CV] END .....................max_depth=10, n_estimators=200; total time=   0.4s\n",
      "[CV] END .....................max_depth=10, n_estimators=200; total time=   0.4s\n",
      "[CV] END .....................max_depth=10, n_estimators=200; total time=   0.4s\n",
      "[CV] END .....................max_depth=10, n_estimators=200; total time=   0.5s\n",
      "[CV] END .....................max_depth=10, n_estimators=300; total time=   0.6s\n",
      "[CV] END .....................max_depth=10, n_estimators=300; total time=   0.6s\n",
      "[CV] END .....................max_depth=10, n_estimators=300; total time=   0.5s\n",
      "[CV] END .....................max_depth=10, n_estimators=300; total time=   0.6s\n",
      "[CV] END .....................max_depth=10, n_estimators=300; total time=   0.6s\n",
      "[CV] END .....................max_depth=10, n_estimators=400; total time=   0.6s\n",
      "[CV] END .....................max_depth=10, n_estimators=400; total time=   0.6s\n",
      "[CV] END .....................max_depth=10, n_estimators=400; total time=   0.6s\n",
      "[CV] END .....................max_depth=10, n_estimators=400; total time=   0.6s\n",
      "[CV] END .....................max_depth=10, n_estimators=400; total time=   0.8s\n",
      "[CV] END .....................max_depth=10, n_estimators=500; total time=   1.0s\n",
      "[CV] END .....................max_depth=10, n_estimators=500; total time=   0.8s\n",
      "[CV] END .....................max_depth=10, n_estimators=500; total time=   0.9s\n",
      "[CV] END .....................max_depth=10, n_estimators=500; total time=   0.9s\n",
      "[CV] END .....................max_depth=10, n_estimators=500; total time=   0.8s\n",
      "[CV] END .....................max_depth=10, n_estimators=600; total time=   1.0s\n",
      "[CV] END .....................max_depth=10, n_estimators=600; total time=   1.2s\n",
      "[CV] END .....................max_depth=10, n_estimators=600; total time=   1.1s\n",
      "[CV] END .....................max_depth=10, n_estimators=600; total time=   1.0s\n",
      "[CV] END .....................max_depth=10, n_estimators=600; total time=   1.6s\n",
      "[CV] END ......................max_depth=20, n_estimators=50; total time=   0.1s\n",
      "[CV] END ......................max_depth=20, n_estimators=50; total time=   0.1s\n",
      "[CV] END ......................max_depth=20, n_estimators=50; total time=   0.1s\n",
      "[CV] END ......................max_depth=20, n_estimators=50; total time=   0.1s\n",
      "[CV] END ......................max_depth=20, n_estimators=50; total time=   0.1s\n",
      "[CV] END .....................max_depth=20, n_estimators=100; total time=   0.2s\n",
      "[CV] END .....................max_depth=20, n_estimators=100; total time=   0.2s\n",
      "[CV] END .....................max_depth=20, n_estimators=100; total time=   0.2s\n",
      "[CV] END .....................max_depth=20, n_estimators=100; total time=   0.2s\n",
      "[CV] END .....................max_depth=20, n_estimators=100; total time=   0.2s\n",
      "[CV] END .....................max_depth=20, n_estimators=200; total time=   0.5s\n",
      "[CV] END .....................max_depth=20, n_estimators=200; total time=   0.4s\n",
      "[CV] END .....................max_depth=20, n_estimators=200; total time=   0.3s\n",
      "[CV] END .....................max_depth=20, n_estimators=200; total time=   0.3s\n",
      "[CV] END .....................max_depth=20, n_estimators=200; total time=   0.3s\n",
      "[CV] END .....................max_depth=20, n_estimators=300; total time=   0.5s\n",
      "[CV] END .....................max_depth=20, n_estimators=300; total time=   0.5s\n",
      "[CV] END .....................max_depth=20, n_estimators=300; total time=   0.5s\n",
      "[CV] END .....................max_depth=20, n_estimators=300; total time=   0.6s\n",
      "[CV] END .....................max_depth=20, n_estimators=300; total time=   0.6s\n",
      "[CV] END .....................max_depth=20, n_estimators=400; total time=   0.8s\n",
      "[CV] END .....................max_depth=20, n_estimators=400; total time=   0.8s\n",
      "[CV] END .....................max_depth=20, n_estimators=400; total time=   0.8s\n",
      "[CV] END .....................max_depth=20, n_estimators=400; total time=   0.8s\n",
      "[CV] END .....................max_depth=20, n_estimators=400; total time=   0.9s\n",
      "[CV] END .....................max_depth=20, n_estimators=500; total time=   1.0s\n",
      "[CV] END .....................max_depth=20, n_estimators=500; total time=   1.0s\n",
      "[CV] END .....................max_depth=20, n_estimators=500; total time=   1.0s\n",
      "[CV] END .....................max_depth=20, n_estimators=500; total time=   1.0s\n",
      "[CV] END .....................max_depth=20, n_estimators=500; total time=   1.0s\n",
      "[CV] END .....................max_depth=20, n_estimators=600; total time=   1.2s\n",
      "[CV] END .....................max_depth=20, n_estimators=600; total time=   1.2s\n",
      "[CV] END .....................max_depth=20, n_estimators=600; total time=   1.2s\n",
      "[CV] END .....................max_depth=20, n_estimators=600; total time=   1.2s\n",
      "[CV] END .....................max_depth=20, n_estimators=600; total time=   1.3s\n",
      "[CV] END ......................max_depth=30, n_estimators=50; total time=   0.1s\n",
      "[CV] END ......................max_depth=30, n_estimators=50; total time=   0.1s\n",
      "[CV] END ......................max_depth=30, n_estimators=50; total time=   0.1s\n",
      "[CV] END ......................max_depth=30, n_estimators=50; total time=   0.1s\n",
      "[CV] END ......................max_depth=30, n_estimators=50; total time=   0.1s\n",
      "[CV] END .....................max_depth=30, n_estimators=100; total time=   0.2s\n",
      "[CV] END .....................max_depth=30, n_estimators=100; total time=   0.2s\n",
      "[CV] END .....................max_depth=30, n_estimators=100; total time=   0.2s\n",
      "[CV] END .....................max_depth=30, n_estimators=100; total time=   0.2s\n",
      "[CV] END .....................max_depth=30, n_estimators=100; total time=   0.2s\n",
      "[CV] END .....................max_depth=30, n_estimators=200; total time=   0.4s\n",
      "[CV] END .....................max_depth=30, n_estimators=200; total time=   0.4s\n",
      "[CV] END .....................max_depth=30, n_estimators=200; total time=   0.4s\n",
      "[CV] END .....................max_depth=30, n_estimators=200; total time=   0.4s\n",
      "[CV] END .....................max_depth=30, n_estimators=200; total time=   0.4s\n",
      "[CV] END .....................max_depth=30, n_estimators=300; total time=   0.5s\n",
      "[CV] END .....................max_depth=30, n_estimators=300; total time=   0.5s\n",
      "[CV] END .....................max_depth=30, n_estimators=300; total time=   0.5s\n",
      "[CV] END .....................max_depth=30, n_estimators=300; total time=   0.6s\n",
      "[CV] END .....................max_depth=30, n_estimators=300; total time=   0.6s\n",
      "[CV] END .....................max_depth=30, n_estimators=400; total time=   0.8s\n",
      "[CV] END .....................max_depth=30, n_estimators=400; total time=   0.8s\n",
      "[CV] END .....................max_depth=30, n_estimators=400; total time=   0.7s\n",
      "[CV] END .....................max_depth=30, n_estimators=400; total time=   0.7s\n",
      "[CV] END .....................max_depth=30, n_estimators=400; total time=   0.9s\n",
      "[CV] END .....................max_depth=30, n_estimators=500; total time=   1.0s\n",
      "[CV] END .....................max_depth=30, n_estimators=500; total time=   0.9s\n",
      "[CV] END .....................max_depth=30, n_estimators=500; total time=   1.0s\n",
      "[CV] END .....................max_depth=30, n_estimators=500; total time=   1.0s\n",
      "[CV] END .....................max_depth=30, n_estimators=500; total time=   1.1s\n",
      "[CV] END .....................max_depth=30, n_estimators=600; total time=   1.3s\n"
     ]
    },
    {
     "name": "stdout",
     "output_type": "stream",
     "text": [
      "[CV] END .....................max_depth=30, n_estimators=600; total time=   1.2s\n",
      "[CV] END .....................max_depth=30, n_estimators=600; total time=   1.3s\n",
      "[CV] END .....................max_depth=30, n_estimators=600; total time=   1.1s\n",
      "[CV] END .....................max_depth=30, n_estimators=600; total time=   1.2s\n",
      "[CV] END ....................max_depth=None, n_estimators=50; total time=   0.1s\n",
      "[CV] END ....................max_depth=None, n_estimators=50; total time=   0.1s\n",
      "[CV] END ....................max_depth=None, n_estimators=50; total time=   0.1s\n",
      "[CV] END ....................max_depth=None, n_estimators=50; total time=   0.1s\n",
      "[CV] END ....................max_depth=None, n_estimators=50; total time=   0.1s\n",
      "[CV] END ...................max_depth=None, n_estimators=100; total time=   0.2s\n",
      "[CV] END ...................max_depth=None, n_estimators=100; total time=   0.2s\n",
      "[CV] END ...................max_depth=None, n_estimators=100; total time=   0.2s\n",
      "[CV] END ...................max_depth=None, n_estimators=100; total time=   0.3s\n",
      "[CV] END ...................max_depth=None, n_estimators=100; total time=   0.3s\n",
      "[CV] END ...................max_depth=None, n_estimators=200; total time=   0.5s\n",
      "[CV] END ...................max_depth=None, n_estimators=200; total time=   0.4s\n",
      "[CV] END ...................max_depth=None, n_estimators=200; total time=   0.5s\n",
      "[CV] END ...................max_depth=None, n_estimators=200; total time=   0.5s\n",
      "[CV] END ...................max_depth=None, n_estimators=200; total time=   0.6s\n",
      "[CV] END ...................max_depth=None, n_estimators=300; total time=   0.7s\n",
      "[CV] END ...................max_depth=None, n_estimators=300; total time=   0.8s\n",
      "[CV] END ...................max_depth=None, n_estimators=300; total time=   0.7s\n",
      "[CV] END ...................max_depth=None, n_estimators=300; total time=   0.6s\n",
      "[CV] END ...................max_depth=None, n_estimators=300; total time=   0.6s\n",
      "[CV] END ...................max_depth=None, n_estimators=400; total time=   0.8s\n",
      "[CV] END ...................max_depth=None, n_estimators=400; total time=   0.7s\n",
      "[CV] END ...................max_depth=None, n_estimators=400; total time=   0.8s\n",
      "[CV] END ...................max_depth=None, n_estimators=400; total time=   0.9s\n",
      "[CV] END ...................max_depth=None, n_estimators=400; total time=   0.8s\n",
      "[CV] END ...................max_depth=None, n_estimators=500; total time=   1.0s\n",
      "[CV] END ...................max_depth=None, n_estimators=500; total time=   1.3s\n",
      "[CV] END ...................max_depth=None, n_estimators=500; total time=   1.2s\n",
      "[CV] END ...................max_depth=None, n_estimators=500; total time=   1.1s\n",
      "[CV] END ...................max_depth=None, n_estimators=500; total time=   1.2s\n",
      "[CV] END ...................max_depth=None, n_estimators=600; total time=   1.4s\n",
      "[CV] END ...................max_depth=None, n_estimators=600; total time=   1.3s\n",
      "[CV] END ...................max_depth=None, n_estimators=600; total time=   1.3s\n",
      "[CV] END ...................max_depth=None, n_estimators=600; total time=   1.2s\n",
      "[CV] END ...................max_depth=None, n_estimators=600; total time=   1.2s\n",
      "Best parameters:  {'max_depth': 20, 'n_estimators': 200}\n",
      "Best score:  0.9471873868536257\n"
     ]
    }
   ],
   "source": [
    "\n",
    "# Define the random forest model\n",
    "best_RF_model = RandomForestClassifier(random_state=42)\n",
    "\n",
    "# Define the parameter grid to search over\n",
    "param_grid = {\n",
    "    'n_estimators': [50, 100, 200,300,400,500,600],\n",
    "    'max_depth': [10, 20, 30, None],\n",
    "}\n",
    "\n",
    "# Define the grid search object\n",
    "grid_search = GridSearchCV(estimator=best_RF_model, param_grid=param_grid, cv=5,verbose=2)\n",
    "\n",
    "# Fit the grid search object to the data\n",
    "grid_search.fit(np.concatenate([X_train,X_val], axis=0)\n",
    "                   ,np.concatenate([Y_train,Y_val],axis=0))\n",
    "\n",
    "# Print the best parameters and best score\n",
    "print(\"Best parameters: \", grid_search.best_params_)\n",
    "print(\"Best score: \", grid_search.best_score_)"
   ]
  },
  {
   "cell_type": "code",
   "execution_count": 25,
   "id": "6934f3b2",
   "metadata": {},
   "outputs": [],
   "source": [
    "cv_results = grid_search.cv_results_"
   ]
  },
  {
   "cell_type": "code",
   "execution_count": 26,
   "id": "eb720c19",
   "metadata": {},
   "outputs": [],
   "source": [
    "best_RF_model_accuracy , repo = test_model(grid_search.best_estimator_,X_test,Y_test,axis=False)"
   ]
  },
  {
   "cell_type": "code",
   "execution_count": 27,
   "id": "194e9857",
   "metadata": {},
   "outputs": [
    {
     "name": "stdout",
     "output_type": "stream",
     "text": [
      "0.9308943089430894\n",
      "              precision    recall  f1-score   support\n",
      "\n",
      "           0       1.00      0.93      0.96        28\n",
      "           1       0.86      0.86      0.86        36\n",
      "           2       0.90      0.93      0.91        80\n",
      "           3       0.96      0.96      0.96       102\n",
      "\n",
      "    accuracy                           0.93       246\n",
      "   macro avg       0.93      0.92      0.92       246\n",
      "weighted avg       0.93      0.93      0.93       246\n",
      "\n"
     ]
    }
   ],
   "source": [
    "print(best_RF_model_accuracy )\n",
    "print(repo)"
   ]
  },
  {
   "cell_type": "code",
   "execution_count": 30,
   "id": "f7eb7b1a",
   "metadata": {},
   "outputs": [
    {
     "name": "stdout",
     "output_type": "stream",
     "text": [
      "0.929301207991837 {'max_depth': 10, 'n_estimators': 50}\n",
      "0.9317468154438628 {'max_depth': 10, 'n_estimators': 100}\n",
      "0.9349922649024061 {'max_depth': 10, 'n_estimators': 200}\n",
      "0.9341792567723248 {'max_depth': 10, 'n_estimators': 300}\n",
      "0.9390540140219216 {'max_depth': 10, 'n_estimators': 400}\n",
      "0.9398670221520028 {'max_depth': 10, 'n_estimators': 500}\n",
      "0.9382442974227312 {'max_depth': 10, 'n_estimators': 600}\n"
     ]
    },
    {
     "data": {
      "image/png": "[encoded data removed]",
      "text/plain": [
       "<Figure size 640x480 with 1 Axes>"
      ]
     },
     "metadata": {},
     "output_type": "display_data"
    }
   ],
   "source": [
    "cv_results = grid_search.cv_results_\n",
    "estimators_max_depth_10 = []\n",
    "accuracies_max_depth_10 = []\n",
    "\n",
    "for mean_score, params in zip(cv_results['mean_test_score'], cv_results['params']):\n",
    "    if(params[\"max_depth\"]==10):\n",
    "        estimators_max_depth_10.append(params[\"n_estimators\"])\n",
    "        accuracies_max_depth_10.append(mean_score)\n",
    "        print(mean_score,params)\n",
    "        \n",
    "estimators_max_depth_10\n",
    "accuracies_max_depth_10\n",
    "\n",
    "plt.plot(estimators_max_depth_10,accuracies_max_depth_10)\n",
    "plt.show()\n"
   ]
  },
  {
   "cell_type": "code",
   "execution_count": 31,
   "id": "a30adb73",
   "metadata": {},
   "outputs": [
    {
     "name": "stdout",
     "output_type": "stream",
     "text": [
      "0.9366281557552419 {'max_depth': 20, 'n_estimators': 50}\n",
      "0.9415029130048385 {'max_depth': 20, 'n_estimators': 100}\n",
      "0.9471873868536257 {'max_depth': 20, 'n_estimators': 200}\n",
      "0.9382508804845134 {'max_depth': 20, 'n_estimators': 300}\n",
      "0.9439353543333004 {'max_depth': 20, 'n_estimators': 400}\n",
      "0.9431223462032191 {'max_depth': 20, 'n_estimators': 500}\n",
      "0.94312563773411 {'max_depth': 20, 'n_estimators': 600}\n"
     ]
    },
    {
     "data": {
      "image/png": "[encoded data removed]",
      "text/plain": [
       "<Figure size 640x480 with 1 Axes>"
      ]
     },
     "metadata": {},
     "output_type": "display_data"
    }
   ],
   "source": [
    "estimators_max_depth_20 = []\n",
    "accuracies_max_depth_20 = []\n",
    "\n",
    "for mean_score, params in zip(cv_results['mean_test_score'], cv_results['params']):\n",
    "    if(params[\"max_depth\"]==20):\n",
    "        estimators_max_depth_20.append(params[\"n_estimators\"])\n",
    "        accuracies_max_depth_20.append(mean_score)\n",
    "        print(mean_score,params)\n",
    "\n",
    "        \n",
    "\n",
    "\n",
    "plt.plot(estimators_max_depth_20,accuracies_max_depth_20)\n",
    "plt.show()"
   ]
  },
  {
   "cell_type": "code",
   "execution_count": 32,
   "id": "d17b1d6a",
   "metadata": {},
   "outputs": [
    {
     "name": "stdout",
     "output_type": "stream",
     "text": [
      "0.9366281557552419 {'max_depth': 30, 'n_estimators': 50}\n",
      "0.9406899048747572 {'max_depth': 30, 'n_estimators': 100}\n",
      "0.9471873868536257 {'max_depth': 30, 'n_estimators': 200}\n",
      "0.9382508804845134 {'max_depth': 30, 'n_estimators': 300}\n",
      "0.9439353543333004 {'max_depth': 30, 'n_estimators': 400}\n",
      "0.9431223462032191 {'max_depth': 30, 'n_estimators': 500}\n",
      "0.94312563773411 {'max_depth': 30, 'n_estimators': 600}\n"
     ]
    },
    {
     "data": {
      "image/png": "[encoded data removed]",
      "text/plain": [
       "<Figure size 640x480 with 1 Axes>"
      ]
     },
     "metadata": {},
     "output_type": "display_data"
    }
   ],
   "source": [
    "estimators_max_depth_30 = []\n",
    "accuracies_max_depth_30 = []\n",
    "\n",
    "for mean_score, params in zip(cv_results['mean_test_score'], cv_results['params']):\n",
    "    if(params[\"max_depth\"]==30):\n",
    "        estimators_max_depth_30.append(params[\"n_estimators\"])\n",
    "        accuracies_max_depth_30.append(mean_score)\n",
    "        print(mean_score,params)\n",
    "\n",
    "\n",
    "\n",
    "plt.plot(estimators_max_depth_30,accuracies_max_depth_30)\n",
    "plt.show()\n",
    "\n"
   ]
  },
  {
   "cell_type": "code",
   "execution_count": 34,
   "id": "521cd8de",
   "metadata": {},
   "outputs": [
    {
     "name": "stdout",
     "output_type": "stream",
     "text": [
      "0.9366281557552419 {'max_depth': None, 'n_estimators': 50}\n",
      "0.9406899048747572 {'max_depth': None, 'n_estimators': 100}\n",
      "0.9471873868536257 {'max_depth': None, 'n_estimators': 200}\n",
      "0.9382508804845134 {'max_depth': None, 'n_estimators': 300}\n",
      "0.9439353543333004 {'max_depth': None, 'n_estimators': 400}\n",
      "0.9431223462032191 {'max_depth': None, 'n_estimators': 500}\n",
      "0.94312563773411 {'max_depth': None, 'n_estimators': 600}\n"
     ]
    },
    {
     "data": {
      "image/png": "[encoded data removed]",
      "text/plain": [
       "<Figure size 640x480 with 1 Axes>"
      ]
     },
     "metadata": {},
     "output_type": "display_data"
    }
   ],
   "source": [
    "estimators_max_depth_None = []\n",
    "accuracies_max_depth_None = []\n",
    "\n",
    "for mean_score, params in zip(cv_results['mean_test_score'], cv_results['params']):\n",
    "    if(params[\"max_depth\"]==None):\n",
    "        estimators_max_depth_None.append(params[\"n_estimators\"])\n",
    "        accuracies_max_depth_None.append(mean_score)\n",
    "        print(mean_score,params)\n",
    "\n",
    "\n",
    "\n",
    "plt.plot(estimators_max_depth_None,accuracies_max_depth_None)\n",
    "plt.show()\n",
    "\n"
   ]
  },
  {
   "cell_type": "code",
   "execution_count": 35,
   "id": "d2763ce1",
   "metadata": {},
   "outputs": [
    {
     "name": "stdout",
     "output_type": "stream",
     "text": [
      "20\n",
      "200\n"
     ]
    }
   ],
   "source": [
    "print(cv_results[\"params\"][np.argmax(cv_results[\"mean_test_score\"])][\"max_depth\"])\n",
    "print(cv_results[\"params\"][np.argmax(cv_results[\"mean_test_score\"])][\"n_estimators\"])"
   ]
  },
  {
   "cell_type": "code",
   "execution_count": 36,
   "id": "ae151c15",
   "metadata": {},
   "outputs": [
    {
     "data": {
      "text/plain": [
       "RandomForestClassifier(class_weight={0: 1.9409448818897639,\n",
       "                                     1: 1.8395522388059702,\n",
       "                                     2: 0.9095940959409594,\n",
       "                                     3: 0.5429515418502202},\n",
       "                       max_depth=20, n_estimators=400)"
      ]
     },
     "execution_count": 36,
     "metadata": {},
     "output_type": "execute_result"
    }
   ],
   "source": [
    "best_model_RF= RandomForestClassifier(n_estimators=400,max_depth=20,class_weight=class_weights)\n",
    "# concat class weights with it \n",
    "best_model_RF.fit(np.concatenate([X_train,X_val], axis=0)\n",
    "                   ,np.concatenate([Y_train,Y_val],axis=0))\n"
   ]
  },
  {
   "cell_type": "code",
   "execution_count": 37,
   "id": "4d139bd5",
   "metadata": {},
   "outputs": [],
   "source": [
    "best_RF_model_accuracy , repo = test_model(best_model_RF,X_test,Y_test,axis=False)"
   ]
  },
  {
   "cell_type": "code",
   "execution_count": 38,
   "id": "b1453c1e",
   "metadata": {},
   "outputs": [
    {
     "name": "stdout",
     "output_type": "stream",
     "text": [
      "0.9349593495934959\n",
      "              precision    recall  f1-score   support\n",
      "\n",
      "           0       0.96      0.93      0.95        28\n",
      "           1       0.89      0.86      0.87        36\n",
      "           2       0.91      0.94      0.93        80\n",
      "           3       0.96      0.96      0.96       102\n",
      "\n",
      "    accuracy                           0.93       246\n",
      "   macro avg       0.93      0.92      0.93       246\n",
      "weighted avg       0.94      0.93      0.93       246\n",
      "\n"
     ]
    }
   ],
   "source": [
    "print(best_RF_model_accuracy)\n",
    "print(repo)"
   ]
  },
  {
   "cell_type": "markdown",
   "id": "bd6097cd",
   "metadata": {},
   "source": [
    "# oversampling "
   ]
  },
  {
   "cell_type": "code",
   "execution_count": 39,
   "id": "0c777ed0",
   "metadata": {},
   "outputs": [],
   "source": [
    "oversampled= over_sampling(all_class_train,sampling_ratio=0.5)\n",
    "class_weights = oversampled[\"Body_Level\"].value_counts().to_dict()\n",
    "total_num = sum(class_weights.values())\n",
    "class_weights= { i : (total_num/(4* j )) for i ,j in zip(class_weights.keys(),class_weights.values())}\n",
    "class_weights\n",
    "\n",
    "X_train=oversampled.drop([\"Body_Level\"],axis=1).to_numpy()\n",
    "Y_train=oversampled[\"Body_Level\"].to_numpy()\n",
    "X_test =all_class_test.drop([\"Body_Level\"],axis=1).to_numpy()\n",
    "Y_test =all_class_test[\"Body_Level\"].to_numpy()\n",
    "X_train, scaler= data_scaling(X_train)\n",
    "X_val, X_test, Y_val, Y_test = train_test_split(X_test\n",
    "                                                     , Y_test, test_size=0.5, random_state=42)\n",
    "X_val = scaler.transform(X_val)\n",
    "X_test=scaler.transform(X_test)"
   ]
  },
  {
   "cell_type": "markdown",
   "id": "b747d794",
   "metadata": {},
   "source": [
    "# Applying bare Random Forest after oversampling"
   ]
  },
  {
   "cell_type": "code",
   "execution_count": 40,
   "id": "d0b15a9b",
   "metadata": {},
   "outputs": [
    {
     "data": {
      "text/plain": [
       "RandomForestClassifier(random_state=42)"
      ]
     },
     "execution_count": 40,
     "metadata": {},
     "output_type": "execute_result"
    }
   ],
   "source": [
    "bare_RF_oversampled = RandomForestClassifier(random_state=42)\n",
    "bare_RF_oversampled.fit(np.concatenate([X_train,X_val], axis=0)\n",
    "                   ,np.concatenate([Y_train,Y_val],axis=0))"
   ]
  },
  {
   "cell_type": "code",
   "execution_count": 41,
   "id": "903d76e7",
   "metadata": {},
   "outputs": [],
   "source": [
    "bare_RF_oversampled_accuracy , repo = test_model(bare_RF,X_train,Y_train,axis=False)\n"
   ]
  },
  {
   "cell_type": "code",
   "execution_count": 42,
   "id": "1ff88032",
   "metadata": {},
   "outputs": [
    {
     "name": "stdout",
     "output_type": "stream",
     "text": [
      "0.929384965831435\n",
      "              precision    recall  f1-score   support\n",
      "\n",
      "           0       1.00      1.00      1.00       257\n",
      "           1       1.00      0.81      0.89       262\n",
      "           2       0.86      0.88      0.87       344\n",
      "           3       0.92      1.00      0.96       454\n",
      "\n",
      "    accuracy                           0.93      1317\n",
      "   macro avg       0.94      0.92      0.93      1317\n",
      "weighted avg       0.93      0.93      0.93      1317\n",
      "\n"
     ]
    }
   ],
   "source": [
    "print(bare_RF_oversampled_accuracy)\n",
    "print(repo)"
   ]
  },
  {
   "cell_type": "code",
   "execution_count": 43,
   "id": "129782ea",
   "metadata": {},
   "outputs": [
    {
     "data": {
      "text/plain": [
       "RandomForestClassifier(class_weight={0: 1.2811284046692606,\n",
       "                                     1: 1.256679389312977,\n",
       "                                     2: 0.9571220930232558,\n",
       "                                     3: 0.7252202643171806},\n",
       "                       random_state=42)"
      ]
     },
     "execution_count": 43,
     "metadata": {},
     "output_type": "execute_result"
    }
   ],
   "source": [
    "weights_RF_oversampled = RandomForestClassifier(random_state=42, class_weight=class_weights)\n",
    "weights_RF_oversampled.fit(np.concatenate([X_train,X_val], axis=0)\n",
    "                   ,np.concatenate([Y_train,Y_val],axis=0))"
   ]
  },
  {
   "cell_type": "code",
   "execution_count": 44,
   "id": "bdbe5462",
   "metadata": {},
   "outputs": [],
   "source": [
    "weights_RF_oversampled_accuracy , repo = test_model(weights_RF_oversampled,\n",
    "                                                    X_train,Y_train,axis=False)\n"
   ]
  },
  {
   "cell_type": "code",
   "execution_count": 45,
   "id": "cc4052b4",
   "metadata": {},
   "outputs": [
    {
     "name": "stdout",
     "output_type": "stream",
     "text": [
      "1.0\n",
      "              precision    recall  f1-score   support\n",
      "\n",
      "           0       1.00      1.00      1.00       257\n",
      "           1       1.00      1.00      1.00       262\n",
      "           2       1.00      1.00      1.00       344\n",
      "           3       1.00      1.00      1.00       454\n",
      "\n",
      "    accuracy                           1.00      1317\n",
      "   macro avg       1.00      1.00      1.00      1317\n",
      "weighted avg       1.00      1.00      1.00      1317\n",
      "\n"
     ]
    }
   ],
   "source": [
    "print(weights_RF_oversampled_accuracy)\n",
    "print(repo)"
   ]
  },
  {
   "cell_type": "code",
   "execution_count": 46,
   "id": "d65fbd0a",
   "metadata": {
    "scrolled": true
   },
   "outputs": [
    {
     "name": "stdout",
     "output_type": "stream",
     "text": [
      "Fitting 5 folds for each of 28 candidates, totalling 140 fits\n",
      "[CV] END ......................max_depth=10, n_estimators=50; total time=   0.1s\n",
      "[CV] END ......................max_depth=10, n_estimators=50; total time=   0.1s\n",
      "[CV] END ......................max_depth=10, n_estimators=50; total time=   0.1s\n",
      "[CV] END ......................max_depth=10, n_estimators=50; total time=   0.1s\n",
      "[CV] END ......................max_depth=10, n_estimators=50; total time=   0.1s\n",
      "[CV] END .....................max_depth=10, n_estimators=100; total time=   0.2s\n",
      "[CV] END .....................max_depth=10, n_estimators=100; total time=   0.3s\n",
      "[CV] END .....................max_depth=10, n_estimators=100; total time=   0.3s\n",
      "[CV] END .....................max_depth=10, n_estimators=100; total time=   0.2s\n",
      "[CV] END .....................max_depth=10, n_estimators=100; total time=   0.2s\n",
      "[CV] END .....................max_depth=10, n_estimators=200; total time=   0.5s\n",
      "[CV] END .....................max_depth=10, n_estimators=200; total time=   0.5s\n",
      "[CV] END .....................max_depth=10, n_estimators=200; total time=   0.4s\n",
      "[CV] END .....................max_depth=10, n_estimators=200; total time=   0.5s\n",
      "[CV] END .....................max_depth=10, n_estimators=200; total time=   0.4s\n",
      "[CV] END .....................max_depth=10, n_estimators=300; total time=   0.7s\n",
      "[CV] END .....................max_depth=10, n_estimators=300; total time=   0.8s\n",
      "[CV] END .....................max_depth=10, n_estimators=300; total time=   0.7s\n",
      "[CV] END .....................max_depth=10, n_estimators=300; total time=   0.8s\n",
      "[CV] END .....................max_depth=10, n_estimators=300; total time=   0.8s\n",
      "[CV] END .....................max_depth=10, n_estimators=400; total time=   1.1s\n",
      "[CV] END .....................max_depth=10, n_estimators=400; total time=   0.7s\n",
      "[CV] END .....................max_depth=10, n_estimators=400; total time=   1.0s\n",
      "[CV] END .....................max_depth=10, n_estimators=400; total time=   1.0s\n",
      "[CV] END .....................max_depth=10, n_estimators=400; total time=   1.4s\n",
      "[CV] END .....................max_depth=10, n_estimators=500; total time=   1.6s\n",
      "[CV] END .....................max_depth=10, n_estimators=500; total time=   1.6s\n",
      "[CV] END .....................max_depth=10, n_estimators=500; total time=   1.3s\n",
      "[CV] END .....................max_depth=10, n_estimators=500; total time=   1.3s\n",
      "[CV] END .....................max_depth=10, n_estimators=500; total time=   1.0s\n",
      "[CV] END .....................max_depth=10, n_estimators=600; total time=   1.3s\n",
      "[CV] END .....................max_depth=10, n_estimators=600; total time=   1.7s\n",
      "[CV] END .....................max_depth=10, n_estimators=600; total time=   1.5s\n",
      "[CV] END .....................max_depth=10, n_estimators=600; total time=   1.9s\n",
      "[CV] END .....................max_depth=10, n_estimators=600; total time=   1.7s\n",
      "[CV] END ......................max_depth=20, n_estimators=50; total time=   0.1s\n",
      "[CV] END ......................max_depth=20, n_estimators=50; total time=   0.1s\n",
      "[CV] END ......................max_depth=20, n_estimators=50; total time=   0.1s\n",
      "[CV] END ......................max_depth=20, n_estimators=50; total time=   0.1s\n",
      "[CV] END ......................max_depth=20, n_estimators=50; total time=   0.1s\n",
      "[CV] END .....................max_depth=20, n_estimators=100; total time=   0.2s\n",
      "[CV] END .....................max_depth=20, n_estimators=100; total time=   0.2s\n",
      "[CV] END .....................max_depth=20, n_estimators=100; total time=   0.2s\n",
      "[CV] END .....................max_depth=20, n_estimators=100; total time=   0.2s\n",
      "[CV] END .....................max_depth=20, n_estimators=100; total time=   0.2s\n",
      "[CV] END .....................max_depth=20, n_estimators=200; total time=   0.5s\n",
      "[CV] END .....................max_depth=20, n_estimators=200; total time=   0.5s\n",
      "[CV] END .....................max_depth=20, n_estimators=200; total time=   0.5s\n",
      "[CV] END .....................max_depth=20, n_estimators=200; total time=   0.5s\n",
      "[CV] END .....................max_depth=20, n_estimators=200; total time=   0.4s\n",
      "[CV] END .....................max_depth=20, n_estimators=300; total time=   0.7s\n",
      "[CV] END .....................max_depth=20, n_estimators=300; total time=   0.6s\n",
      "[CV] END .....................max_depth=20, n_estimators=300; total time=   0.6s\n",
      "[CV] END .....................max_depth=20, n_estimators=300; total time=   0.5s\n",
      "[CV] END .....................max_depth=20, n_estimators=300; total time=   0.6s\n",
      "[CV] END .....................max_depth=20, n_estimators=400; total time=   0.8s\n",
      "[CV] END .....................max_depth=20, n_estimators=400; total time=   0.9s\n",
      "[CV] END .....................max_depth=20, n_estimators=400; total time=   1.0s\n",
      "[CV] END .....................max_depth=20, n_estimators=400; total time=   1.2s\n",
      "[CV] END .....................max_depth=20, n_estimators=400; total time=   0.9s\n",
      "[CV] END .....................max_depth=20, n_estimators=500; total time=   1.3s\n",
      "[CV] END .....................max_depth=20, n_estimators=500; total time=   1.3s\n",
      "[CV] END .....................max_depth=20, n_estimators=500; total time=   1.1s\n",
      "[CV] END .....................max_depth=20, n_estimators=500; total time=   1.3s\n",
      "[CV] END .....................max_depth=20, n_estimators=500; total time=   1.2s\n",
      "[CV] END .....................max_depth=20, n_estimators=600; total time=   1.1s\n",
      "[CV] END .....................max_depth=20, n_estimators=600; total time=   1.1s\n",
      "[CV] END .....................max_depth=20, n_estimators=600; total time=   1.3s\n",
      "[CV] END .....................max_depth=20, n_estimators=600; total time=   1.1s\n",
      "[CV] END .....................max_depth=20, n_estimators=600; total time=   1.1s\n",
      "[CV] END ......................max_depth=30, n_estimators=50; total time=   0.1s\n",
      "[CV] END ......................max_depth=30, n_estimators=50; total time=   0.1s\n",
      "[CV] END ......................max_depth=30, n_estimators=50; total time=   0.1s\n",
      "[CV] END ......................max_depth=30, n_estimators=50; total time=   0.1s\n",
      "[CV] END ......................max_depth=30, n_estimators=50; total time=   0.1s\n",
      "[CV] END .....................max_depth=30, n_estimators=100; total time=   0.2s\n",
      "[CV] END .....................max_depth=30, n_estimators=100; total time=   0.2s\n",
      "[CV] END .....................max_depth=30, n_estimators=100; total time=   0.2s\n",
      "[CV] END .....................max_depth=30, n_estimators=100; total time=   0.2s\n",
      "[CV] END .....................max_depth=30, n_estimators=100; total time=   0.2s\n",
      "[CV] END .....................max_depth=30, n_estimators=200; total time=   0.4s\n",
      "[CV] END .....................max_depth=30, n_estimators=200; total time=   0.4s\n",
      "[CV] END .....................max_depth=30, n_estimators=200; total time=   0.4s\n",
      "[CV] END .....................max_depth=30, n_estimators=200; total time=   0.4s\n",
      "[CV] END .....................max_depth=30, n_estimators=200; total time=   0.4s\n",
      "[CV] END .....................max_depth=30, n_estimators=300; total time=   0.8s\n",
      "[CV] END .....................max_depth=30, n_estimators=300; total time=   0.7s\n",
      "[CV] END .....................max_depth=30, n_estimators=300; total time=   0.6s\n",
      "[CV] END .....................max_depth=30, n_estimators=300; total time=   0.5s\n",
      "[CV] END .....................max_depth=30, n_estimators=300; total time=   0.5s\n",
      "[CV] END .....................max_depth=30, n_estimators=400; total time=   0.7s\n",
      "[CV] END .....................max_depth=30, n_estimators=400; total time=   0.7s\n",
      "[CV] END .....................max_depth=30, n_estimators=400; total time=   0.8s\n",
      "[CV] END .....................max_depth=30, n_estimators=400; total time=   0.8s\n",
      "[CV] END .....................max_depth=30, n_estimators=400; total time=   0.7s\n",
      "[CV] END .....................max_depth=30, n_estimators=500; total time=   0.9s\n",
      "[CV] END .....................max_depth=30, n_estimators=500; total time=   0.9s\n",
      "[CV] END .....................max_depth=30, n_estimators=500; total time=   1.0s\n",
      "[CV] END .....................max_depth=30, n_estimators=500; total time=   1.2s\n",
      "[CV] END .....................max_depth=30, n_estimators=500; total time=   1.1s\n",
      "[CV] END .....................max_depth=30, n_estimators=600; total time=   1.3s\n"
     ]
    },
    {
     "name": "stdout",
     "output_type": "stream",
     "text": [
      "[CV] END .....................max_depth=30, n_estimators=600; total time=   1.2s\n",
      "[CV] END .....................max_depth=30, n_estimators=600; total time=   1.3s\n",
      "[CV] END .....................max_depth=30, n_estimators=600; total time=   1.2s\n",
      "[CV] END .....................max_depth=30, n_estimators=600; total time=   1.2s\n",
      "[CV] END ....................max_depth=None, n_estimators=50; total time=   0.1s\n",
      "[CV] END ....................max_depth=None, n_estimators=50; total time=   0.1s\n",
      "[CV] END ....................max_depth=None, n_estimators=50; total time=   0.1s\n",
      "[CV] END ....................max_depth=None, n_estimators=50; total time=   0.1s\n",
      "[CV] END ....................max_depth=None, n_estimators=50; total time=   0.1s\n",
      "[CV] END ...................max_depth=None, n_estimators=100; total time=   0.2s\n",
      "[CV] END ...................max_depth=None, n_estimators=100; total time=   0.2s\n",
      "[CV] END ...................max_depth=None, n_estimators=100; total time=   0.2s\n",
      "[CV] END ...................max_depth=None, n_estimators=100; total time=   0.2s\n",
      "[CV] END ...................max_depth=None, n_estimators=100; total time=   0.2s\n",
      "[CV] END ...................max_depth=None, n_estimators=200; total time=   0.4s\n",
      "[CV] END ...................max_depth=None, n_estimators=200; total time=   0.4s\n",
      "[CV] END ...................max_depth=None, n_estimators=200; total time=   0.5s\n",
      "[CV] END ...................max_depth=None, n_estimators=200; total time=   0.5s\n",
      "[CV] END ...................max_depth=None, n_estimators=200; total time=   0.4s\n",
      "[CV] END ...................max_depth=None, n_estimators=300; total time=   0.6s\n",
      "[CV] END ...................max_depth=None, n_estimators=300; total time=   0.6s\n",
      "[CV] END ...................max_depth=None, n_estimators=300; total time=   0.6s\n",
      "[CV] END ...................max_depth=None, n_estimators=300; total time=   0.6s\n",
      "[CV] END ...................max_depth=None, n_estimators=300; total time=   0.6s\n",
      "[CV] END ...................max_depth=None, n_estimators=400; total time=   0.9s\n",
      "[CV] END ...................max_depth=None, n_estimators=400; total time=   0.9s\n",
      "[CV] END ...................max_depth=None, n_estimators=400; total time=   0.8s\n",
      "[CV] END ...................max_depth=None, n_estimators=400; total time=   0.9s\n",
      "[CV] END ...................max_depth=None, n_estimators=400; total time=   0.9s\n",
      "[CV] END ...................max_depth=None, n_estimators=500; total time=   1.2s\n",
      "[CV] END ...................max_depth=None, n_estimators=500; total time=   1.2s\n",
      "[CV] END ...................max_depth=None, n_estimators=500; total time=   1.2s\n",
      "[CV] END ...................max_depth=None, n_estimators=500; total time=   1.1s\n",
      "[CV] END ...................max_depth=None, n_estimators=500; total time=   1.0s\n",
      "[CV] END ...................max_depth=None, n_estimators=600; total time=   1.5s\n",
      "[CV] END ...................max_depth=None, n_estimators=600; total time=   1.7s\n",
      "[CV] END ...................max_depth=None, n_estimators=600; total time=   1.5s\n",
      "[CV] END ...................max_depth=None, n_estimators=600; total time=   1.6s\n",
      "[CV] END ...................max_depth=None, n_estimators=600; total time=   1.4s\n",
      "Best parameters:  {'max_depth': 30, 'n_estimators': 600}\n",
      "Best score:  0.9698779388875236\n"
     ]
    }
   ],
   "source": [
    "\n",
    "# Define the random forest model\n",
    "best_RF_oversampled_model = RandomForestClassifier(random_state=42,class_weight=class_weights)\n",
    "\n",
    "# Define the parameter grid to search over\n",
    "param_grid = {\n",
    "    'n_estimators': [50, 100, 200,300,400,500,600],\n",
    "    'max_depth': [10, 20, 30, None],\n",
    "}\n",
    "\n",
    "# Define the grid search object\n",
    "grid_search = GridSearchCV(estimator=best_RF_oversampled_model, param_grid=param_grid, cv=5,verbose=2)\n",
    "\n",
    "# Fit the grid search object to the data\n",
    "grid_search.fit(np.concatenate([X_train,X_val], axis=0)\n",
    "                   ,np.concatenate([Y_train,Y_val],axis=0))\n",
    "\n",
    "# Print the best parameters and best score\n",
    "print(\"Best parameters: \", grid_search.best_params_)\n",
    "print(\"Best score: \", grid_search.best_score_)"
   ]
  },
  {
   "cell_type": "code",
   "execution_count": null,
   "id": "2f1aa571",
   "metadata": {},
   "outputs": [],
   "source": [
    "best_RF_oversampled_model_accuracy , repo = test_model(grid_search.best_estimator_\n",
    "                                                       ,X_test,Y_test,axis=False)"
   ]
  },
  {
   "cell_type": "code",
   "execution_count": null,
   "id": "2b6c2e17",
   "metadata": {},
   "outputs": [],
   "source": [
    "print(best_RF_oversampled_model_accuracy )\n",
    "print(repo)"
   ]
  }
 ],
 "metadata": {
  "kernelspec": {
   "display_name": "Python 3 (ipykernel)",
   "language": "python",
   "name": "python3"
  },
  "language_info": {
   "codemirror_mode": {
    "name": "ipython",
    "version": 3
   },
   "file_extension": ".py",
   "mimetype": "text/x-python",
   "name": "python",
   "nbconvert_exporter": "python",
   "pygments_lexer": "ipython3",
   "version": "3.9.13"
  }
 },
 "nbformat": 4,
 "nbformat_minor": 5
}

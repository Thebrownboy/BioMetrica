{
 "cells": [
  {
   "cell_type": "markdown",
   "id": "cd91071d",
   "metadata": {},
   "source": [
    "# بسم الله الرحمن الرحيم"
   ]
  },
  {
   "cell_type": "code",
   "execution_count": 31,
   "id": "b9f50056",
   "metadata": {},
   "outputs": [],
   "source": [
    "from utils import *\n",
    "import pandas as pd \n",
    "from sklearn.model_selection import train_test_split\n",
    "from sklearn.ensemble import RandomForestClassifier\n",
    "from sklearn.ensemble import RandomForestClassifier\n",
    "from sklearn.model_selection import GridSearchCV\n",
    "from matplotlib import pyplot as plt \n"
   ]
  },
  {
   "cell_type": "code",
   "execution_count": 32,
   "id": "9f472df1",
   "metadata": {},
   "outputs": [],
   "source": [
    "df = pd.read_csv(\"dataset/body_level_classification_train.csv\")\n",
    "df_original= cleaning_data(df).copy()\n",
    "all_class_train,all_class_test=data_spliting(df_original,1/3)\n",
    "## shuffling \n",
    "all_class_train = all_class_train.sample(frac=1.0, random_state=42)\n",
    "all_class_test = all_class_test.sample(frac=1.0, random_state=42)\n",
    "X_train=all_class_train.drop([\"Body_Level\"],axis=1).to_numpy()\n",
    "Y_train=all_class_train[\"Body_Level\"].to_numpy()\n",
    "X_test =all_class_test.drop([\"Body_Level\"],axis=1).to_numpy()\n",
    "Y_test =all_class_test[\"Body_Level\"].to_numpy()\n",
    "\n",
    "\n",
    "X_train, scaler= data_scaling(X_train)\n",
    "X_val, X_test, Y_val, Y_test = train_test_split(X_test\n",
    "                                                     , Y_test, test_size=0.5, random_state=42)\n",
    "X_val = scaler.transform(X_val)\n",
    "X_test=scaler.transform(X_test)"
   ]
  },
  {
   "cell_type": "code",
   "execution_count": 33,
   "id": "36909894",
   "metadata": {},
   "outputs": [
    {
     "data": {
      "text/plain": [
       "{3: 0.5429515418502202,\n",
       " 2: 0.9095940959409594,\n",
       " 1: 1.8395522388059702,\n",
       " 0: 1.9409448818897639}"
      ]
     },
     "execution_count": 33,
     "metadata": {},
     "output_type": "execute_result"
    }
   ],
   "source": [
    "class_weights = all_class_train[\"Body_Level\"].value_counts().to_dict()\n",
    "total_num = sum(class_weights.values())\n",
    "class_weights= { i : (total_num/(4* j )) for i ,j in zip(class_weights.keys(),class_weights.values())}\n",
    "class_weights"
   ]
  },
  {
   "cell_type": "markdown",
   "id": "eb54bbaf",
   "metadata": {},
   "source": [
    "# Applying bare Random Forest "
   ]
  },
  {
   "cell_type": "code",
   "execution_count": 34,
   "id": "ef60e071",
   "metadata": {},
   "outputs": [
    {
     "data": {
      "text/plain": [
       "RandomForestClassifier(random_state=42)"
      ]
     },
     "execution_count": 34,
     "metadata": {},
     "output_type": "execute_result"
    }
   ],
   "source": [
    "bare_RF = RandomForestClassifier(random_state=42)\n",
    "bare_RF.fit(np.concatenate([X_train,X_val], axis=0)\n",
    "                   ,np.concatenate([Y_train,Y_val],axis=0))"
   ]
  },
  {
   "cell_type": "code",
   "execution_count": 35,
   "id": "15863b60",
   "metadata": {},
   "outputs": [],
   "source": [
    "bare_RF_accuracy , repo = test_model(bare_RF,X_test,Y_test,axis=False)"
   ]
  },
  {
   "cell_type": "code",
   "execution_count": 36,
   "id": "8d3ab18f",
   "metadata": {},
   "outputs": [
    {
     "name": "stdout",
     "output_type": "stream",
     "text": [
      "0.9308943089430894\n",
      "              precision    recall  f1-score   support\n",
      "\n",
      "           0       1.00      0.93      0.96        28\n",
      "           1       0.88      0.83      0.86        36\n",
      "           2       0.89      0.94      0.91        80\n",
      "           3       0.96      0.96      0.96       102\n",
      "\n",
      "    accuracy                           0.93       246\n",
      "   macro avg       0.93      0.92      0.92       246\n",
      "weighted avg       0.93      0.93      0.93       246\n",
      "\n"
     ]
    }
   ],
   "source": [
    "print(bare_RF_accuracy)\n",
    "print(repo)"
   ]
  },
  {
   "cell_type": "markdown",
   "id": "56226ead",
   "metadata": {},
   "source": [
    "## Applying Random Forest With Class Weights"
   ]
  },
  {
   "cell_type": "code",
   "execution_count": 37,
   "id": "593bfadb",
   "metadata": {},
   "outputs": [
    {
     "data": {
      "text/plain": [
       "RandomForestClassifier(class_weight={0: 1.9409448818897639,\n",
       "                                     1: 1.8395522388059702,\n",
       "                                     2: 0.9095940959409594,\n",
       "                                     3: 0.5429515418502202},\n",
       "                       random_state=42)"
      ]
     },
     "execution_count": 37,
     "metadata": {},
     "output_type": "execute_result"
    }
   ],
   "source": [
    "weights_RF = RandomForestClassifier(random_state=42,class_weight=class_weights)\n",
    "weights_RF.fit(np.concatenate([X_train,X_val], axis=0)\n",
    "                   ,np.concatenate([Y_train,Y_val],axis=0))"
   ]
  },
  {
   "cell_type": "code",
   "execution_count": 38,
   "id": "fcd4f66c",
   "metadata": {},
   "outputs": [],
   "source": [
    "weights_RF , repo = test_model(weights_RF,X_test,Y_test,axis=False)"
   ]
  },
  {
   "cell_type": "code",
   "execution_count": 39,
   "id": "9c5c01cb",
   "metadata": {},
   "outputs": [
    {
     "name": "stdout",
     "output_type": "stream",
     "text": [
      "0.926829268292683\n",
      "              precision    recall  f1-score   support\n",
      "\n",
      "           0       0.96      0.89      0.93        28\n",
      "           1       0.86      0.83      0.85        36\n",
      "           2       0.90      0.94      0.92        80\n",
      "           3       0.96      0.96      0.96       102\n",
      "\n",
      "    accuracy                           0.93       246\n",
      "   macro avg       0.92      0.91      0.91       246\n",
      "weighted avg       0.93      0.93      0.93       246\n",
      "\n"
     ]
    }
   ],
   "source": [
    "print(weights_RF)\n",
    "print(repo)"
   ]
  },
  {
   "cell_type": "markdown",
   "id": "014dcc87",
   "metadata": {},
   "source": [
    "## HyperParameter Tuning on Random Forest "
   ]
  },
  {
   "cell_type": "code",
   "execution_count": 40,
   "id": "48c78ac2",
   "metadata": {
    "scrolled": true
   },
   "outputs": [
    {
     "name": "stdout",
     "output_type": "stream",
     "text": [
      "Fitting 5 folds for each of 28 candidates, totalling 140 fits\n",
      "[CV] END ......................max_depth=10, n_estimators=50; total time=   0.1s\n",
      "[CV] END ......................max_depth=10, n_estimators=50; total time=   0.1s\n",
      "[CV] END ......................max_depth=10, n_estimators=50; total time=   0.1s\n",
      "[CV] END ......................max_depth=10, n_estimators=50; total time=   0.1s\n",
      "[CV] END ......................max_depth=10, n_estimators=50; total time=   0.1s\n",
      "[CV] END .....................max_depth=10, n_estimators=100; total time=   0.2s\n",
      "[CV] END .....................max_depth=10, n_estimators=100; total time=   0.2s\n",
      "[CV] END .....................max_depth=10, n_estimators=100; total time=   0.2s\n",
      "[CV] END .....................max_depth=10, n_estimators=100; total time=   0.2s\n",
      "[CV] END .....................max_depth=10, n_estimators=100; total time=   0.2s\n",
      "[CV] END .....................max_depth=10, n_estimators=200; total time=   0.4s\n",
      "[CV] END .....................max_depth=10, n_estimators=200; total time=   0.3s\n",
      "[CV] END .....................max_depth=10, n_estimators=200; total time=   0.3s\n",
      "[CV] END .....................max_depth=10, n_estimators=200; total time=   0.4s\n",
      "[CV] END .....................max_depth=10, n_estimators=200; total time=   0.4s\n",
      "[CV] END .....................max_depth=10, n_estimators=300; total time=   0.6s\n",
      "[CV] END .....................max_depth=10, n_estimators=300; total time=   0.5s\n",
      "[CV] END .....................max_depth=10, n_estimators=300; total time=   0.6s\n",
      "[CV] END .....................max_depth=10, n_estimators=300; total time=   0.5s\n",
      "[CV] END .....................max_depth=10, n_estimators=300; total time=   0.5s\n",
      "[CV] END .....................max_depth=10, n_estimators=400; total time=   0.6s\n",
      "[CV] END .....................max_depth=10, n_estimators=400; total time=   0.7s\n",
      "[CV] END .....................max_depth=10, n_estimators=400; total time=   0.8s\n",
      "[CV] END .....................max_depth=10, n_estimators=400; total time=   0.7s\n",
      "[CV] END .....................max_depth=10, n_estimators=400; total time=   0.8s\n",
      "[CV] END .....................max_depth=10, n_estimators=500; total time=   1.0s\n",
      "[CV] END .....................max_depth=10, n_estimators=500; total time=   1.0s\n",
      "[CV] END .....................max_depth=10, n_estimators=500; total time=   0.8s\n",
      "[CV] END .....................max_depth=10, n_estimators=500; total time=   1.0s\n",
      "[CV] END .....................max_depth=10, n_estimators=500; total time=   0.8s\n",
      "[CV] END .....................max_depth=10, n_estimators=600; total time=   1.5s\n",
      "[CV] END .....................max_depth=10, n_estimators=600; total time=   1.4s\n",
      "[CV] END .....................max_depth=10, n_estimators=600; total time=   1.7s\n",
      "[CV] END .....................max_depth=10, n_estimators=600; total time=   1.2s\n",
      "[CV] END .....................max_depth=10, n_estimators=600; total time=   1.4s\n",
      "[CV] END ......................max_depth=20, n_estimators=50; total time=   0.2s\n",
      "[CV] END ......................max_depth=20, n_estimators=50; total time=   0.2s\n",
      "[CV] END ......................max_depth=20, n_estimators=50; total time=   0.2s\n",
      "[CV] END ......................max_depth=20, n_estimators=50; total time=   0.1s\n",
      "[CV] END ......................max_depth=20, n_estimators=50; total time=   0.1s\n",
      "[CV] END .....................max_depth=20, n_estimators=100; total time=   0.3s\n",
      "[CV] END .....................max_depth=20, n_estimators=100; total time=   0.3s\n",
      "[CV] END .....................max_depth=20, n_estimators=100; total time=   0.2s\n",
      "[CV] END .....................max_depth=20, n_estimators=100; total time=   0.2s\n",
      "[CV] END .....................max_depth=20, n_estimators=100; total time=   0.2s\n",
      "[CV] END .....................max_depth=20, n_estimators=200; total time=   0.4s\n",
      "[CV] END .....................max_depth=20, n_estimators=200; total time=   0.3s\n",
      "[CV] END .....................max_depth=20, n_estimators=200; total time=   0.4s\n",
      "[CV] END .....................max_depth=20, n_estimators=200; total time=   0.4s\n",
      "[CV] END .....................max_depth=20, n_estimators=200; total time=   0.4s\n",
      "[CV] END .....................max_depth=20, n_estimators=300; total time=   0.6s\n",
      "[CV] END .....................max_depth=20, n_estimators=300; total time=   0.5s\n",
      "[CV] END .....................max_depth=20, n_estimators=300; total time=   0.5s\n",
      "[CV] END .....................max_depth=20, n_estimators=300; total time=   0.5s\n",
      "[CV] END .....................max_depth=20, n_estimators=300; total time=   0.5s\n",
      "[CV] END .....................max_depth=20, n_estimators=400; total time=   0.6s\n",
      "[CV] END .....................max_depth=20, n_estimators=400; total time=   0.7s\n",
      "[CV] END .....................max_depth=20, n_estimators=400; total time=   0.7s\n",
      "[CV] END .....................max_depth=20, n_estimators=400; total time=   0.6s\n",
      "[CV] END .....................max_depth=20, n_estimators=400; total time=   0.7s\n",
      "[CV] END .....................max_depth=20, n_estimators=500; total time=   0.8s\n",
      "[CV] END .....................max_depth=20, n_estimators=500; total time=   0.8s\n",
      "[CV] END .....................max_depth=20, n_estimators=500; total time=   0.9s\n",
      "[CV] END .....................max_depth=20, n_estimators=500; total time=   0.9s\n",
      "[CV] END .....................max_depth=20, n_estimators=500; total time=   1.1s\n",
      "[CV] END .....................max_depth=20, n_estimators=600; total time=   1.2s\n",
      "[CV] END .....................max_depth=20, n_estimators=600; total time=   1.1s\n",
      "[CV] END .....................max_depth=20, n_estimators=600; total time=   1.1s\n",
      "[CV] END .....................max_depth=20, n_estimators=600; total time=   1.0s\n",
      "[CV] END .....................max_depth=20, n_estimators=600; total time=   1.2s\n",
      "[CV] END ......................max_depth=30, n_estimators=50; total time=   0.1s\n",
      "[CV] END ......................max_depth=30, n_estimators=50; total time=   0.1s\n",
      "[CV] END ......................max_depth=30, n_estimators=50; total time=   0.1s\n",
      "[CV] END ......................max_depth=30, n_estimators=50; total time=   0.1s\n",
      "[CV] END ......................max_depth=30, n_estimators=50; total time=   0.1s\n",
      "[CV] END .....................max_depth=30, n_estimators=100; total time=   0.2s\n",
      "[CV] END .....................max_depth=30, n_estimators=100; total time=   0.2s\n",
      "[CV] END .....................max_depth=30, n_estimators=100; total time=   0.2s\n",
      "[CV] END .....................max_depth=30, n_estimators=100; total time=   0.2s\n",
      "[CV] END .....................max_depth=30, n_estimators=100; total time=   0.2s\n",
      "[CV] END .....................max_depth=30, n_estimators=200; total time=   0.4s\n",
      "[CV] END .....................max_depth=30, n_estimators=200; total time=   0.4s\n",
      "[CV] END .....................max_depth=30, n_estimators=200; total time=   0.4s\n",
      "[CV] END .....................max_depth=30, n_estimators=200; total time=   0.3s\n",
      "[CV] END .....................max_depth=30, n_estimators=200; total time=   0.4s\n",
      "[CV] END .....................max_depth=30, n_estimators=300; total time=   0.5s\n",
      "[CV] END .....................max_depth=30, n_estimators=300; total time=   0.6s\n",
      "[CV] END .....................max_depth=30, n_estimators=300; total time=   0.5s\n",
      "[CV] END .....................max_depth=30, n_estimators=300; total time=   0.6s\n",
      "[CV] END .....................max_depth=30, n_estimators=300; total time=   0.6s\n",
      "[CV] END .....................max_depth=30, n_estimators=400; total time=   1.0s\n",
      "[CV] END .....................max_depth=30, n_estimators=400; total time=   0.9s\n",
      "[CV] END .....................max_depth=30, n_estimators=400; total time=   1.0s\n",
      "[CV] END .....................max_depth=30, n_estimators=400; total time=   1.2s\n",
      "[CV] END .....................max_depth=30, n_estimators=400; total time=   1.0s\n",
      "[CV] END .....................max_depth=30, n_estimators=500; total time=   1.3s\n",
      "[CV] END .....................max_depth=30, n_estimators=500; total time=   1.4s\n",
      "[CV] END .....................max_depth=30, n_estimators=500; total time=   1.2s\n",
      "[CV] END .....................max_depth=30, n_estimators=500; total time=   1.2s\n",
      "[CV] END .....................max_depth=30, n_estimators=500; total time=   1.1s\n",
      "[CV] END .....................max_depth=30, n_estimators=600; total time=   1.3s\n"
     ]
    },
    {
     "name": "stdout",
     "output_type": "stream",
     "text": [
      "[CV] END .....................max_depth=30, n_estimators=600; total time=   1.4s\n",
      "[CV] END .....................max_depth=30, n_estimators=600; total time=   1.0s\n",
      "[CV] END .....................max_depth=30, n_estimators=600; total time=   1.0s\n",
      "[CV] END .....................max_depth=30, n_estimators=600; total time=   0.9s\n",
      "[CV] END ....................max_depth=None, n_estimators=50; total time=   0.1s\n",
      "[CV] END ....................max_depth=None, n_estimators=50; total time=   0.1s\n",
      "[CV] END ....................max_depth=None, n_estimators=50; total time=   0.1s\n",
      "[CV] END ....................max_depth=None, n_estimators=50; total time=   0.1s\n",
      "[CV] END ....................max_depth=None, n_estimators=50; total time=   0.1s\n",
      "[CV] END ...................max_depth=None, n_estimators=100; total time=   0.2s\n",
      "[CV] END ...................max_depth=None, n_estimators=100; total time=   0.2s\n",
      "[CV] END ...................max_depth=None, n_estimators=100; total time=   0.2s\n",
      "[CV] END ...................max_depth=None, n_estimators=100; total time=   0.2s\n",
      "[CV] END ...................max_depth=None, n_estimators=100; total time=   0.2s\n",
      "[CV] END ...................max_depth=None, n_estimators=200; total time=   0.3s\n",
      "[CV] END ...................max_depth=None, n_estimators=200; total time=   0.3s\n",
      "[CV] END ...................max_depth=None, n_estimators=200; total time=   0.3s\n",
      "[CV] END ...................max_depth=None, n_estimators=200; total time=   0.4s\n",
      "[CV] END ...................max_depth=None, n_estimators=200; total time=   0.3s\n",
      "[CV] END ...................max_depth=None, n_estimators=300; total time=   0.6s\n",
      "[CV] END ...................max_depth=None, n_estimators=300; total time=   0.5s\n",
      "[CV] END ...................max_depth=None, n_estimators=300; total time=   0.6s\n",
      "[CV] END ...................max_depth=None, n_estimators=300; total time=   0.5s\n",
      "[CV] END ...................max_depth=None, n_estimators=300; total time=   0.5s\n",
      "[CV] END ...................max_depth=None, n_estimators=400; total time=   0.7s\n",
      "[CV] END ...................max_depth=None, n_estimators=400; total time=   0.7s\n",
      "[CV] END ...................max_depth=None, n_estimators=400; total time=   0.7s\n",
      "[CV] END ...................max_depth=None, n_estimators=400; total time=   0.7s\n",
      "[CV] END ...................max_depth=None, n_estimators=400; total time=   0.7s\n",
      "[CV] END ...................max_depth=None, n_estimators=500; total time=   0.8s\n",
      "[CV] END ...................max_depth=None, n_estimators=500; total time=   0.9s\n",
      "[CV] END ...................max_depth=None, n_estimators=500; total time=   0.8s\n",
      "[CV] END ...................max_depth=None, n_estimators=500; total time=   0.8s\n",
      "[CV] END ...................max_depth=None, n_estimators=500; total time=   1.0s\n",
      "[CV] END ...................max_depth=None, n_estimators=600; total time=   1.4s\n",
      "[CV] END ...................max_depth=None, n_estimators=600; total time=   1.7s\n",
      "[CV] END ...................max_depth=None, n_estimators=600; total time=   1.4s\n",
      "[CV] END ...................max_depth=None, n_estimators=600; total time=   1.5s\n",
      "[CV] END ...................max_depth=None, n_estimators=600; total time=   1.8s\n",
      "Best parameters:  {'max_depth': 20, 'n_estimators': 400}\n",
      "Best score:  0.9447483624633817\n"
     ]
    }
   ],
   "source": [
    "\n",
    "# Define the random forest model\n",
    "best_RF_model = RandomForestClassifier(random_state=42)\n",
    "\n",
    "# Define the parameter grid to search over\n",
    "param_grid = {\n",
    "    'n_estimators': [50, 100, 200,300,400,500,600],\n",
    "    'max_depth': [10, 20, 30, None],\n",
    "}\n",
    "\n",
    "# Define the grid search object\n",
    "grid_search = GridSearchCV(estimator=best_RF_model, param_grid=param_grid, cv=5,verbose=2)\n",
    "\n",
    "# Fit the grid search object to the data\n",
    "grid_search.fit(np.concatenate([X_train,X_val], axis=0)\n",
    "                   ,np.concatenate([Y_train,Y_val],axis=0))\n",
    "\n",
    "# Print the best parameters and best score\n",
    "print(\"Best parameters: \", grid_search.best_params_)\n",
    "print(\"Best score: \", grid_search.best_score_)"
   ]
  },
  {
   "cell_type": "code",
   "execution_count": 42,
   "id": "eb720c19",
   "metadata": {},
   "outputs": [],
   "source": [
    "best_RF_model_accuracy , repo = test_model(grid_search.best_estimator_,X_test,Y_test,axis=False)"
   ]
  },
  {
   "cell_type": "code",
   "execution_count": 43,
   "id": "194e9857",
   "metadata": {},
   "outputs": [
    {
     "name": "stdout",
     "output_type": "stream",
     "text": [
      "0.9349593495934959\n",
      "              precision    recall  f1-score   support\n",
      "\n",
      "           0       1.00      0.93      0.96        28\n",
      "           1       0.86      0.86      0.86        36\n",
      "           2       0.91      0.93      0.92        80\n",
      "           3       0.96      0.97      0.97       102\n",
      "\n",
      "    accuracy                           0.93       246\n",
      "   macro avg       0.93      0.92      0.93       246\n",
      "weighted avg       0.94      0.93      0.94       246\n",
      "\n"
     ]
    }
   ],
   "source": [
    "print(best_RF_model_accuracy )\n",
    "print(repo)"
   ]
  },
  {
   "cell_type": "code",
   "execution_count": 44,
   "id": "f7eb7b1a",
   "metadata": {},
   "outputs": [
    {
     "data": {
      "image/png": "[encoded data removed]",
      "text/plain": [
       "<Figure size 640x480 with 1 Axes>"
      ]
     },
     "metadata": {},
     "output_type": "display_data"
    }
   ],
   "source": [
    "estimators_max_depth_10 = []\n",
    "accuracies_max_depth_10 = []\n",
    "\n",
    "for mean_score, params in zip(cv_results['mean_test_score'], cv_results['params']):\n",
    "    if(params[\"max_depth\"]==10):\n",
    "        estimators_max_depth_10.append(params[\"n_estimators\"])\n",
    "        accuracies_max_depth_10.append(mean_score)\n",
    "        \n",
    "estimators_max_depth_10\n",
    "accuracies_max_depth_10\n",
    "\n",
    "plt.plot(estimators_max_depth_10,accuracies_max_depth_10)\n",
    "plt.show()\n"
   ]
  },
  {
   "cell_type": "code",
   "execution_count": 45,
   "id": "a30adb73",
   "metadata": {},
   "outputs": [
    {
     "data": {
      "image/png": "[encoded data removed]",
      "text/plain": [
       "<Figure size 640x480 with 1 Axes>"
      ]
     },
     "metadata": {},
     "output_type": "display_data"
    }
   ],
   "source": [
    "estimators_max_depth_20 = []\n",
    "accuracies_max_depth_20 = []\n",
    "\n",
    "for mean_score, params in zip(cv_results['mean_test_score'], cv_results['params']):\n",
    "    if(params[\"max_depth\"]==20):\n",
    "        estimators_max_depth_20.append(params[\"n_estimators\"])\n",
    "        accuracies_max_depth_20.append(mean_score)\n",
    "        \n",
    "\n",
    "\n",
    "plt.plot(estimators_max_depth_20,accuracies_max_depth_20)\n",
    "plt.show()"
   ]
  },
  {
   "cell_type": "code",
   "execution_count": 46,
   "id": "d17b1d6a",
   "metadata": {},
   "outputs": [
    {
     "data": {
      "image/png": "[encoded data removed]",
      "text/plain": [
       "<Figure size 640x480 with 1 Axes>"
      ]
     },
     "metadata": {},
     "output_type": "display_data"
    }
   ],
   "source": [
    "estimators_max_depth_30 = []\n",
    "accuracies_max_depth_30 = []\n",
    "\n",
    "for mean_score, params in zip(cv_results['mean_test_score'], cv_results['params']):\n",
    "    if(params[\"max_depth\"]==30):\n",
    "        estimators_max_depth_30.append(params[\"n_estimators\"])\n",
    "        accuracies_max_depth_30.append(mean_score)\n",
    "        \n",
    "\n",
    "\n",
    "plt.plot(estimators_max_depth_30,accuracies_max_depth_30)\n",
    "plt.show()\n",
    "\n"
   ]
  },
  {
   "cell_type": "code",
   "execution_count": 47,
   "id": "521cd8de",
   "metadata": {},
   "outputs": [
    {
     "data": {
      "image/png": "[encoded data removed]",
      "text/plain": [
       "<Figure size 640x480 with 1 Axes>"
      ]
     },
     "metadata": {},
     "output_type": "display_data"
    }
   ],
   "source": [
    "estimators_max_depth_None = []\n",
    "accuracies_max_depth_None = []\n",
    "\n",
    "for mean_score, params in zip(cv_results['mean_test_score'], cv_results['params']):\n",
    "    if(params[\"max_depth\"]==None):\n",
    "        estimators_max_depth_None.append(params[\"n_estimators\"])\n",
    "        accuracies_max_depth_None.append(mean_score)\n",
    "        \n",
    "\n",
    "\n",
    "plt.plot(estimators_max_depth_None,accuracies_max_depth_None)\n",
    "plt.show()\n",
    "\n"
   ]
  },
  {
   "cell_type": "code",
   "execution_count": 54,
   "id": "d2763ce1",
   "metadata": {},
   "outputs": [
    {
     "name": "stdout",
     "output_type": "stream",
     "text": [
      "20\n",
      "400\n"
     ]
    }
   ],
   "source": [
    "print(cv_results[\"params\"][np.argmax(cv_results[\"mean_test_score\"])][\"max_depth\"])\n",
    "print(cv_results[\"params\"][np.argmax(cv_results[\"mean_test_score\"])][\"n_estimators\"])"
   ]
  },
  {
   "cell_type": "code",
   "execution_count": 57,
   "id": "ae151c15",
   "metadata": {},
   "outputs": [
    {
     "data": {
      "text/plain": [
       "RandomForestClassifier(class_weight={0: 1.9409448818897639,\n",
       "                                     1: 1.8395522388059702,\n",
       "                                     2: 0.9095940959409594,\n",
       "                                     3: 0.5429515418502202},\n",
       "                       max_depth=20, n_estimators=400)"
      ]
     },
     "execution_count": 57,
     "metadata": {},
     "output_type": "execute_result"
    }
   ],
   "source": [
    "best_model_RF= RandomForestClassifier(n_estimators=400,max_depth=20,class_weight=class_weights)\n",
    "# concat class weights with it \n",
    "best_model_RF.fit(np.concatenate([X_train,X_val], axis=0)\n",
    "                   ,np.concatenate([Y_train,Y_val],axis=0))\n"
   ]
  },
  {
   "cell_type": "code",
   "execution_count": 58,
   "id": "4d139bd5",
   "metadata": {},
   "outputs": [],
   "source": [
    "best_RF_model_accuracy , repo = test_model(best_model_RF,X_test,Y_test,axis=False)"
   ]
  },
  {
   "cell_type": "code",
   "execution_count": 61,
   "id": "b1453c1e",
   "metadata": {},
   "outputs": [
    {
     "name": "stdout",
     "output_type": "stream",
     "text": [
      "0.9308943089430894\n",
      "              precision    recall  f1-score   support\n",
      "\n",
      "           0       1.00      0.93      0.96        28\n",
      "           1       0.88      0.83      0.86        36\n",
      "           2       0.90      0.93      0.91        80\n",
      "           3       0.95      0.97      0.96       102\n",
      "\n",
      "    accuracy                           0.93       246\n",
      "   macro avg       0.93      0.91      0.92       246\n",
      "weighted avg       0.93      0.93      0.93       246\n",
      "\n"
     ]
    }
   ],
   "source": [
    "print(best_RF_model_accuracy)\n",
    "print(repo)"
   ]
  },
  {
   "cell_type": "markdown",
   "id": "bd6097cd",
   "metadata": {},
   "source": [
    "# oversampling "
   ]
  },
  {
   "cell_type": "code",
   "execution_count": 71,
   "id": "0c777ed0",
   "metadata": {},
   "outputs": [],
   "source": [
    "oversampled= over_sampling(all_class_train,sampling_ratio=0.5)\n",
    "class_weights = oversampled[\"Body_Level\"].value_counts().to_dict()\n",
    "total_num = sum(class_weights.values())\n",
    "class_weights= { i : (total_num/(4* j )) for i ,j in zip(class_weights.keys(),class_weights.values())}\n",
    "class_weights\n",
    "\n",
    "X_train=oversampled.drop([\"Body_Level\"],axis=1).to_numpy()\n",
    "Y_train=oversampled[\"Body_Level\"].to_numpy()\n",
    "X_test =all_class_test.drop([\"Body_Level\"],axis=1).to_numpy()\n",
    "Y_test =all_class_test[\"Body_Level\"].to_numpy()\n",
    "X_train, scaler= data_scaling(X_train)\n",
    "X_val, X_test, Y_val, Y_test = train_test_split(X_test\n",
    "                                                     , Y_test, test_size=0.5, random_state=42)\n",
    "X_val = scaler.transform(X_val)\n",
    "X_test=scaler.transform(X_test)"
   ]
  },
  {
   "cell_type": "markdown",
   "id": "b747d794",
   "metadata": {},
   "source": [
    "# Applying bare Random Forest after oversampling"
   ]
  },
  {
   "cell_type": "code",
   "execution_count": 72,
   "id": "d0b15a9b",
   "metadata": {},
   "outputs": [
    {
     "data": {
      "text/plain": [
       "RandomForestClassifier(random_state=42)"
      ]
     },
     "execution_count": 72,
     "metadata": {},
     "output_type": "execute_result"
    }
   ],
   "source": [
    "bare_RF_oversampled = RandomForestClassifier(random_state=42)\n",
    "bare_RF_oversampled.fit(np.concatenate([X_train,X_val], axis=0)\n",
    "                   ,np.concatenate([Y_train,Y_val],axis=0))"
   ]
  },
  {
   "cell_type": "code",
   "execution_count": 73,
   "id": "903d76e7",
   "metadata": {},
   "outputs": [],
   "source": [
    "bare_RF_oversampled_accuracy , repo = test_model(bare_RF,X_test,Y_test,axis=False)\n"
   ]
  },
  {
   "cell_type": "code",
   "execution_count": 74,
   "id": "1ff88032",
   "metadata": {},
   "outputs": [
    {
     "name": "stdout",
     "output_type": "stream",
     "text": [
      "0.8455284552845529\n",
      "              precision    recall  f1-score   support\n",
      "\n",
      "           0       1.00      0.89      0.94        28\n",
      "           1       0.87      0.56      0.68        36\n",
      "           2       0.78      0.79      0.78        80\n",
      "           3       0.85      0.98      0.91       102\n",
      "\n",
      "    accuracy                           0.85       246\n",
      "   macro avg       0.88      0.80      0.83       246\n",
      "weighted avg       0.85      0.85      0.84       246\n",
      "\n"
     ]
    }
   ],
   "source": [
    "print(bare_RF_oversampled_accuracy)\n",
    "print(repo)"
   ]
  },
  {
   "cell_type": "code",
   "execution_count": 76,
   "id": "129782ea",
   "metadata": {},
   "outputs": [
    {
     "data": {
      "text/plain": [
       "RandomForestClassifier(random_state=42)"
      ]
     },
     "execution_count": 76,
     "metadata": {},
     "output_type": "execute_result"
    }
   ],
   "source": [
    "weights_RF_oversampled = RandomForestClassifier(random_state=42)\n",
    "weights_RF_oversampled.fit(np.concatenate([X_train,X_val], axis=0)\n",
    "                   ,np.concatenate([Y_train,Y_val],axis=0))"
   ]
  },
  {
   "cell_type": "code",
   "execution_count": 77,
   "id": "bdbe5462",
   "metadata": {},
   "outputs": [],
   "source": [
    "weights_RF_oversampled_accuracy , repo = test_model(weights_RF_oversampled,\n",
    "                                                    X_test,Y_test,axis=False)\n"
   ]
  },
  {
   "cell_type": "code",
   "execution_count": 78,
   "id": "cc4052b4",
   "metadata": {},
   "outputs": [
    {
     "name": "stdout",
     "output_type": "stream",
     "text": [
      "0.9186991869918699\n",
      "              precision    recall  f1-score   support\n",
      "\n",
      "           0       1.00      0.93      0.96        28\n",
      "           1       0.85      0.81      0.83        36\n",
      "           2       0.88      0.91      0.90        80\n",
      "           3       0.95      0.96      0.96       102\n",
      "\n",
      "    accuracy                           0.92       246\n",
      "   macro avg       0.92      0.90      0.91       246\n",
      "weighted avg       0.92      0.92      0.92       246\n",
      "\n"
     ]
    }
   ],
   "source": [
    "print(weights_RF_oversampled_accuracy)\n",
    "print(repo)"
   ]
  },
  {
   "cell_type": "code",
   "execution_count": 79,
   "id": "d65fbd0a",
   "metadata": {
    "scrolled": true
   },
   "outputs": [
    {
     "name": "stdout",
     "output_type": "stream",
     "text": [
      "Fitting 5 folds for each of 28 candidates, totalling 140 fits\n",
      "[CV] END ......................max_depth=10, n_estimators=50; total time=   0.1s\n",
      "[CV] END ......................max_depth=10, n_estimators=50; total time=   0.1s\n",
      "[CV] END ......................max_depth=10, n_estimators=50; total time=   0.1s\n",
      "[CV] END ......................max_depth=10, n_estimators=50; total time=   0.1s\n",
      "[CV] END ......................max_depth=10, n_estimators=50; total time=   0.1s\n",
      "[CV] END .....................max_depth=10, n_estimators=100; total time=   0.2s\n",
      "[CV] END .....................max_depth=10, n_estimators=100; total time=   0.2s\n",
      "[CV] END .....................max_depth=10, n_estimators=100; total time=   0.2s\n",
      "[CV] END .....................max_depth=10, n_estimators=100; total time=   0.2s\n",
      "[CV] END .....................max_depth=10, n_estimators=100; total time=   0.2s\n",
      "[CV] END .....................max_depth=10, n_estimators=200; total time=   0.4s\n",
      "[CV] END .....................max_depth=10, n_estimators=200; total time=   0.3s\n",
      "[CV] END .....................max_depth=10, n_estimators=200; total time=   0.4s\n",
      "[CV] END .....................max_depth=10, n_estimators=200; total time=   0.4s\n",
      "[CV] END .....................max_depth=10, n_estimators=200; total time=   0.4s\n",
      "[CV] END .....................max_depth=10, n_estimators=300; total time=   0.6s\n",
      "[CV] END .....................max_depth=10, n_estimators=300; total time=   0.5s\n",
      "[CV] END .....................max_depth=10, n_estimators=300; total time=   0.6s\n",
      "[CV] END .....................max_depth=10, n_estimators=300; total time=   0.6s\n",
      "[CV] END .....................max_depth=10, n_estimators=300; total time=   0.6s\n",
      "[CV] END .....................max_depth=10, n_estimators=400; total time=   0.9s\n",
      "[CV] END .....................max_depth=10, n_estimators=400; total time=   0.8s\n",
      "[CV] END .....................max_depth=10, n_estimators=400; total time=   0.8s\n",
      "[CV] END .....................max_depth=10, n_estimators=400; total time=   0.8s\n",
      "[CV] END .....................max_depth=10, n_estimators=400; total time=   0.7s\n",
      "[CV] END .....................max_depth=10, n_estimators=500; total time=   1.0s\n",
      "[CV] END .....................max_depth=10, n_estimators=500; total time=   0.9s\n",
      "[CV] END .....................max_depth=10, n_estimators=500; total time=   1.0s\n",
      "[CV] END .....................max_depth=10, n_estimators=500; total time=   0.9s\n",
      "[CV] END .....................max_depth=10, n_estimators=500; total time=   0.9s\n",
      "[CV] END .....................max_depth=10, n_estimators=600; total time=   1.1s\n",
      "[CV] END .....................max_depth=10, n_estimators=600; total time=   1.1s\n",
      "[CV] END .....................max_depth=10, n_estimators=600; total time=   1.0s\n",
      "[CV] END .....................max_depth=10, n_estimators=600; total time=   1.1s\n",
      "[CV] END .....................max_depth=10, n_estimators=600; total time=   1.1s\n",
      "[CV] END ......................max_depth=20, n_estimators=50; total time=   0.1s\n",
      "[CV] END ......................max_depth=20, n_estimators=50; total time=   0.1s\n",
      "[CV] END ......................max_depth=20, n_estimators=50; total time=   0.1s\n",
      "[CV] END ......................max_depth=20, n_estimators=50; total time=   0.1s\n",
      "[CV] END ......................max_depth=20, n_estimators=50; total time=   0.1s\n",
      "[CV] END .....................max_depth=20, n_estimators=100; total time=   0.2s\n",
      "[CV] END .....................max_depth=20, n_estimators=100; total time=   0.2s\n",
      "[CV] END .....................max_depth=20, n_estimators=100; total time=   0.2s\n",
      "[CV] END .....................max_depth=20, n_estimators=100; total time=   0.2s\n",
      "[CV] END .....................max_depth=20, n_estimators=100; total time=   0.2s\n",
      "[CV] END .....................max_depth=20, n_estimators=200; total time=   0.6s\n",
      "[CV] END .....................max_depth=20, n_estimators=200; total time=   0.4s\n",
      "[CV] END .....................max_depth=20, n_estimators=200; total time=   0.5s\n",
      "[CV] END .....................max_depth=20, n_estimators=200; total time=   0.5s\n",
      "[CV] END .....................max_depth=20, n_estimators=200; total time=   0.4s\n",
      "[CV] END .....................max_depth=20, n_estimators=300; total time=   0.7s\n",
      "[CV] END .....................max_depth=20, n_estimators=300; total time=   0.6s\n",
      "[CV] END .....................max_depth=20, n_estimators=300; total time=   0.7s\n",
      "[CV] END .....................max_depth=20, n_estimators=300; total time=   0.7s\n",
      "[CV] END .....................max_depth=20, n_estimators=300; total time=   0.6s\n",
      "[CV] END .....................max_depth=20, n_estimators=400; total time=   0.8s\n",
      "[CV] END .....................max_depth=20, n_estimators=400; total time=   0.8s\n",
      "[CV] END .....................max_depth=20, n_estimators=400; total time=   0.8s\n",
      "[CV] END .....................max_depth=20, n_estimators=400; total time=   0.8s\n",
      "[CV] END .....................max_depth=20, n_estimators=400; total time=   0.8s\n",
      "[CV] END .....................max_depth=20, n_estimators=500; total time=   1.0s\n",
      "[CV] END .....................max_depth=20, n_estimators=500; total time=   1.0s\n",
      "[CV] END .....................max_depth=20, n_estimators=500; total time=   0.9s\n",
      "[CV] END .....................max_depth=20, n_estimators=500; total time=   0.9s\n",
      "[CV] END .....................max_depth=20, n_estimators=500; total time=   0.9s\n",
      "[CV] END .....................max_depth=20, n_estimators=600; total time=   1.2s\n",
      "[CV] END .....................max_depth=20, n_estimators=600; total time=   1.3s\n",
      "[CV] END .....................max_depth=20, n_estimators=600; total time=   1.3s\n",
      "[CV] END .....................max_depth=20, n_estimators=600; total time=   1.2s\n",
      "[CV] END .....................max_depth=20, n_estimators=600; total time=   1.3s\n",
      "[CV] END ......................max_depth=30, n_estimators=50; total time=   0.1s\n",
      "[CV] END ......................max_depth=30, n_estimators=50; total time=   0.1s\n",
      "[CV] END ......................max_depth=30, n_estimators=50; total time=   0.1s\n",
      "[CV] END ......................max_depth=30, n_estimators=50; total time=   0.1s\n",
      "[CV] END ......................max_depth=30, n_estimators=50; total time=   0.1s\n",
      "[CV] END .....................max_depth=30, n_estimators=100; total time=   0.2s\n",
      "[CV] END .....................max_depth=30, n_estimators=100; total time=   0.2s\n",
      "[CV] END .....................max_depth=30, n_estimators=100; total time=   0.2s\n",
      "[CV] END .....................max_depth=30, n_estimators=100; total time=   0.2s\n",
      "[CV] END .....................max_depth=30, n_estimators=100; total time=   0.2s\n",
      "[CV] END .....................max_depth=30, n_estimators=200; total time=   0.4s\n",
      "[CV] END .....................max_depth=30, n_estimators=200; total time=   0.4s\n",
      "[CV] END .....................max_depth=30, n_estimators=200; total time=   0.4s\n",
      "[CV] END .....................max_depth=30, n_estimators=200; total time=   0.4s\n",
      "[CV] END .....................max_depth=30, n_estimators=200; total time=   0.3s\n",
      "[CV] END .....................max_depth=30, n_estimators=300; total time=   0.7s\n",
      "[CV] END .....................max_depth=30, n_estimators=300; total time=   0.6s\n",
      "[CV] END .....................max_depth=30, n_estimators=300; total time=   0.6s\n",
      "[CV] END .....................max_depth=30, n_estimators=300; total time=   0.6s\n",
      "[CV] END .....................max_depth=30, n_estimators=300; total time=   0.7s\n",
      "[CV] END .....................max_depth=30, n_estimators=400; total time=   0.9s\n",
      "[CV] END .....................max_depth=30, n_estimators=400; total time=   0.8s\n",
      "[CV] END .....................max_depth=30, n_estimators=400; total time=   0.8s\n",
      "[CV] END .....................max_depth=30, n_estimators=400; total time=   0.7s\n",
      "[CV] END .....................max_depth=30, n_estimators=400; total time=   0.8s\n",
      "[CV] END .....................max_depth=30, n_estimators=500; total time=   1.2s\n",
      "[CV] END .....................max_depth=30, n_estimators=500; total time=   1.1s\n",
      "[CV] END .....................max_depth=30, n_estimators=500; total time=   1.0s\n",
      "[CV] END .....................max_depth=30, n_estimators=500; total time=   1.0s\n",
      "[CV] END .....................max_depth=30, n_estimators=500; total time=   1.0s\n",
      "[CV] END .....................max_depth=30, n_estimators=600; total time=   1.2s\n"
     ]
    },
    {
     "name": "stdout",
     "output_type": "stream",
     "text": [
      "[CV] END .....................max_depth=30, n_estimators=600; total time=   1.3s\n",
      "[CV] END .....................max_depth=30, n_estimators=600; total time=   1.1s\n",
      "[CV] END .....................max_depth=30, n_estimators=600; total time=   1.3s\n",
      "[CV] END .....................max_depth=30, n_estimators=600; total time=   1.2s\n",
      "[CV] END ....................max_depth=None, n_estimators=50; total time=   0.1s\n",
      "[CV] END ....................max_depth=None, n_estimators=50; total time=   0.1s\n",
      "[CV] END ....................max_depth=None, n_estimators=50; total time=   0.1s\n",
      "[CV] END ....................max_depth=None, n_estimators=50; total time=   0.1s\n",
      "[CV] END ....................max_depth=None, n_estimators=50; total time=   0.1s\n",
      "[CV] END ...................max_depth=None, n_estimators=100; total time=   0.2s\n",
      "[CV] END ...................max_depth=None, n_estimators=100; total time=   0.2s\n",
      "[CV] END ...................max_depth=None, n_estimators=100; total time=   0.2s\n",
      "[CV] END ...................max_depth=None, n_estimators=100; total time=   0.2s\n",
      "[CV] END ...................max_depth=None, n_estimators=100; total time=   0.2s\n",
      "[CV] END ...................max_depth=None, n_estimators=200; total time=   0.4s\n",
      "[CV] END ...................max_depth=None, n_estimators=200; total time=   0.4s\n",
      "[CV] END ...................max_depth=None, n_estimators=200; total time=   0.4s\n",
      "[CV] END ...................max_depth=None, n_estimators=200; total time=   0.4s\n",
      "[CV] END ...................max_depth=None, n_estimators=200; total time=   0.5s\n",
      "[CV] END ...................max_depth=None, n_estimators=300; total time=   0.7s\n",
      "[CV] END ...................max_depth=None, n_estimators=300; total time=   0.8s\n",
      "[CV] END ...................max_depth=None, n_estimators=300; total time=   0.7s\n",
      "[CV] END ...................max_depth=None, n_estimators=300; total time=   0.6s\n",
      "[CV] END ...................max_depth=None, n_estimators=300; total time=   0.6s\n",
      "[CV] END ...................max_depth=None, n_estimators=400; total time=   0.7s\n",
      "[CV] END ...................max_depth=None, n_estimators=400; total time=   0.8s\n",
      "[CV] END ...................max_depth=None, n_estimators=400; total time=   0.7s\n",
      "[CV] END ...................max_depth=None, n_estimators=400; total time=   0.8s\n",
      "[CV] END ...................max_depth=None, n_estimators=400; total time=   0.8s\n",
      "[CV] END ...................max_depth=None, n_estimators=500; total time=   1.0s\n",
      "[CV] END ...................max_depth=None, n_estimators=500; total time=   1.1s\n",
      "[CV] END ...................max_depth=None, n_estimators=500; total time=   0.9s\n",
      "[CV] END ...................max_depth=None, n_estimators=500; total time=   1.1s\n",
      "[CV] END ...................max_depth=None, n_estimators=500; total time=   1.0s\n",
      "[CV] END ...................max_depth=None, n_estimators=600; total time=   1.2s\n",
      "[CV] END ...................max_depth=None, n_estimators=600; total time=   1.1s\n",
      "[CV] END ...................max_depth=None, n_estimators=600; total time=   1.2s\n",
      "[CV] END ...................max_depth=None, n_estimators=600; total time=   1.3s\n",
      "[CV] END ...................max_depth=None, n_estimators=600; total time=   1.3s\n",
      "Best parameters:  {'max_depth': 30, 'n_estimators': 600}\n",
      "Best score:  0.9698779388875236\n"
     ]
    }
   ],
   "source": [
    "\n",
    "# Define the random forest model\n",
    "best_RF_oversampled_model = RandomForestClassifier(random_state=42,class_weight=class_weights)\n",
    "\n",
    "# Define the parameter grid to search over\n",
    "param_grid = {\n",
    "    'n_estimators': [50, 100, 200,300,400,500,600],\n",
    "    'max_depth': [10, 20, 30, None],\n",
    "}\n",
    "\n",
    "# Define the grid search object\n",
    "grid_search = GridSearchCV(estimator=best_RF_oversampled_model, param_grid=param_grid, cv=5,verbose=2)\n",
    "\n",
    "# Fit the grid search object to the data\n",
    "grid_search.fit(np.concatenate([X_train,X_val], axis=0)\n",
    "                   ,np.concatenate([Y_train,Y_val],axis=0))\n",
    "\n",
    "# Print the best parameters and best score\n",
    "print(\"Best parameters: \", grid_search.best_params_)\n",
    "print(\"Best score: \", grid_search.best_score_)"
   ]
  },
  {
   "cell_type": "code",
   "execution_count": 83,
   "id": "2f1aa571",
   "metadata": {},
   "outputs": [],
   "source": [
    "best_RF_oversampled_model_accuracy , repo = test_model(grid_search.best_estimator_\n",
    "                                                       ,X_test,Y_test,axis=False)"
   ]
  },
  {
   "cell_type": "code",
   "execution_count": 84,
   "id": "2b6c2e17",
   "metadata": {},
   "outputs": [
    {
     "name": "stdout",
     "output_type": "stream",
     "text": [
      "0.9308943089430894\n",
      "              precision    recall  f1-score   support\n",
      "\n",
      "           0       1.00      0.93      0.96        28\n",
      "           1       0.86      0.86      0.86        36\n",
      "           2       0.90      0.93      0.91        80\n",
      "           3       0.96      0.96      0.96       102\n",
      "\n",
      "    accuracy                           0.93       246\n",
      "   macro avg       0.93      0.92      0.92       246\n",
      "weighted avg       0.93      0.93      0.93       246\n",
      "\n"
     ]
    }
   ],
   "source": [
    "print(best_RF_oversampled_model_accuracy )\n",
    "print(repo)"
   ]
  }
 ],
 "metadata": {
  "kernelspec": {
   "display_name": "Python 3 (ipykernel)",
   "language": "python",
   "name": "python3"
  },
  "language_info": {
   "codemirror_mode": {
    "name": "ipython",
    "version": 3
   },
   "file_extension": ".py",
   "mimetype": "text/x-python",
   "name": "python",
   "nbconvert_exporter": "python",
   "pygments_lexer": "ipython3",
   "version": "3.9.13"
  }
 },
 "nbformat": 4,
 "nbformat_minor": 5
}

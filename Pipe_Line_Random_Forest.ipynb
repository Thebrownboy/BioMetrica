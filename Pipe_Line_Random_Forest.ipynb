{
 "cells": [
  {
   "cell_type": "markdown",
   "id": "cd91071d",
   "metadata": {},
   "source": [
    "# بسم الله الرحمن الرحيم"
   ]
  },
  {
   "cell_type": "code",
   "execution_count": 147,
   "id": "b9f50056",
   "metadata": {},
   "outputs": [],
   "source": [
    "from utils import *\n",
    "import pandas as pd \n",
    "from sklearn.model_selection import train_test_split\n",
    "from sklearn.ensemble import RandomForestClassifier\n",
    "from sklearn.ensemble import RandomForestClassifier\n",
    "from sklearn.model_selection import GridSearchCV\n",
    "from matplotlib import pyplot as plt \n"
   ]
  },
  {
   "cell_type": "code",
   "execution_count": 148,
   "id": "9f472df1",
   "metadata": {},
   "outputs": [],
   "source": [
    "df = pd.read_csv(\"dataset/body_level_classification_train.csv\")\n",
    "df_original= cleaning_data(df).copy()\n",
    "all_class_train,all_class_test=data_spliting(df_original,1/3)\n",
    "## shuffling \n",
    "all_class_train = all_class_train.sample(frac=1.0, random_state=42)\n",
    "all_class_test = all_class_test.sample(frac=1.0, random_state=42)\n",
    "X_train=all_class_train.drop([\"Body_Level\"],axis=1).to_numpy()\n",
    "Y_train=all_class_train[\"Body_Level\"].to_numpy()\n",
    "X_test =all_class_test.drop([\"Body_Level\"],axis=1).to_numpy()\n",
    "Y_test =all_class_test[\"Body_Level\"].to_numpy()\n",
    "\n",
    "\n",
    "X_train, scaler= data_scaling(X_train)\n",
    "X_val, X_test, Y_val, Y_test = train_test_split(X_test\n",
    "                                                     , Y_test, test_size=0.5, random_state=42)\n",
    "X_val = scaler.transform(X_val)\n",
    "X_test=scaler.transform(X_test)"
   ]
  },
  {
   "cell_type": "code",
   "execution_count": 149,
   "id": "36909894",
   "metadata": {},
   "outputs": [
    {
     "data": {
      "text/plain": [
       "{3: 0.5429515418502202,\n",
       " 2: 0.9095940959409594,\n",
       " 1: 1.8395522388059702,\n",
       " 0: 1.9409448818897639}"
      ]
     },
     "execution_count": 149,
     "metadata": {},
     "output_type": "execute_result"
    }
   ],
   "source": [
    "class_weights = all_class_train[\"Body_Level\"].value_counts().to_dict()\n",
    "total_num = sum(class_weights.values())\n",
    "class_weights= { i : (total_num/(4* j )) for i ,j in zip(class_weights.keys(),class_weights.values())}\n",
    "class_weights"
   ]
  },
  {
   "cell_type": "markdown",
   "id": "eb54bbaf",
   "metadata": {},
   "source": [
    "# Applying bare Random Forest "
   ]
  },
  {
   "cell_type": "code",
   "execution_count": 150,
   "id": "ef60e071",
   "metadata": {},
   "outputs": [
    {
     "data": {
      "text/plain": [
       "RandomForestClassifier(random_state=42)"
      ]
     },
     "execution_count": 150,
     "metadata": {},
     "output_type": "execute_result"
    }
   ],
   "source": [
    "bare_RF = RandomForestClassifier(random_state=42)\n",
    "bare_RF.fit(np.concatenate([X_train,X_val], axis=0)\n",
    "                   ,np.concatenate([Y_train,Y_val],axis=0))"
   ]
  },
  {
   "cell_type": "code",
   "execution_count": 151,
   "id": "15863b60",
   "metadata": {},
   "outputs": [],
   "source": [
    "bare_RF_accuracy , repo = test_model(bare_RF,X_train,Y_train,axis=False)"
   ]
  },
  {
   "cell_type": "code",
   "execution_count": 152,
   "id": "8d3ab18f",
   "metadata": {},
   "outputs": [
    {
     "name": "stdout",
     "output_type": "stream",
     "text": [
      "1.0\n",
      "              precision    recall  f1-score   support\n",
      "\n",
      "           0       1.00      1.00      1.00       127\n",
      "           1       1.00      1.00      1.00       134\n",
      "           2       1.00      1.00      1.00       271\n",
      "           3       1.00      1.00      1.00       454\n",
      "\n",
      "    accuracy                           1.00       986\n",
      "   macro avg       1.00      1.00      1.00       986\n",
      "weighted avg       1.00      1.00      1.00       986\n",
      "\n"
     ]
    }
   ],
   "source": [
    "print(bare_RF_accuracy)\n",
    "print(repo)"
   ]
  },
  {
   "cell_type": "code",
   "execution_count": 153,
   "id": "151ff223",
   "metadata": {},
   "outputs": [
    {
     "name": "stdout",
     "output_type": "stream",
     "text": [
      "0.9308943089430894\n",
      "              precision    recall  f1-score   support\n",
      "\n",
      "           0       1.00      0.93      0.96        28\n",
      "           1       0.88      0.83      0.86        36\n",
      "           2       0.89      0.94      0.91        80\n",
      "           3       0.96      0.96      0.96       102\n",
      "\n",
      "    accuracy                           0.93       246\n",
      "   macro avg       0.93      0.92      0.92       246\n",
      "weighted avg       0.93      0.93      0.93       246\n",
      "\n"
     ]
    }
   ],
   "source": [
    "bare_RF_accuracy_test , repo = test_model(bare_RF,X_test,Y_test,axis=False)\n",
    "print(bare_RF_accuracy_test)\n",
    "print(repo)"
   ]
  },
  {
   "cell_type": "markdown",
   "id": "56226ead",
   "metadata": {},
   "source": [
    "## Applying Random Forest With Class Weights"
   ]
  },
  {
   "cell_type": "code",
   "execution_count": 154,
   "id": "593bfadb",
   "metadata": {},
   "outputs": [
    {
     "data": {
      "text/plain": [
       "RandomForestClassifier(class_weight={0: 1.9409448818897639,\n",
       "                                     1: 1.8395522388059702,\n",
       "                                     2: 0.9095940959409594,\n",
       "                                     3: 0.5429515418502202},\n",
       "                       random_state=42)"
      ]
     },
     "execution_count": 154,
     "metadata": {},
     "output_type": "execute_result"
    }
   ],
   "source": [
    "weights_RF_model = RandomForestClassifier(random_state=42,class_weight=class_weights)\n",
    "weights_RF_model.fit(np.concatenate([X_train,X_val], axis=0)\n",
    "                   ,np.concatenate([Y_train,Y_val],axis=0))"
   ]
  },
  {
   "cell_type": "code",
   "execution_count": 155,
   "id": "fcd4f66c",
   "metadata": {},
   "outputs": [],
   "source": [
    "weights_RF , repo = test_model(weights_RF_model,X_train,Y_train,axis=False)"
   ]
  },
  {
   "cell_type": "code",
   "execution_count": 156,
   "id": "9c5c01cb",
   "metadata": {},
   "outputs": [
    {
     "name": "stdout",
     "output_type": "stream",
     "text": [
      "1.0\n",
      "              precision    recall  f1-score   support\n",
      "\n",
      "           0       1.00      1.00      1.00       127\n",
      "           1       1.00      1.00      1.00       134\n",
      "           2       1.00      1.00      1.00       271\n",
      "           3       1.00      1.00      1.00       454\n",
      "\n",
      "    accuracy                           1.00       986\n",
      "   macro avg       1.00      1.00      1.00       986\n",
      "weighted avg       1.00      1.00      1.00       986\n",
      "\n"
     ]
    }
   ],
   "source": [
    "print(weights_RF)\n",
    "print(repo)"
   ]
  },
  {
   "cell_type": "code",
   "execution_count": 157,
   "id": "c1cf9f09",
   "metadata": {},
   "outputs": [
    {
     "name": "stdout",
     "output_type": "stream",
     "text": [
      "0.926829268292683\n",
      "              precision    recall  f1-score   support\n",
      "\n",
      "           0       0.96      0.89      0.93        28\n",
      "           1       0.86      0.83      0.85        36\n",
      "           2       0.90      0.94      0.92        80\n",
      "           3       0.96      0.96      0.96       102\n",
      "\n",
      "    accuracy                           0.93       246\n",
      "   macro avg       0.92      0.91      0.91       246\n",
      "weighted avg       0.93      0.93      0.93       246\n",
      "\n"
     ]
    }
   ],
   "source": [
    "weights_RF_test , repo = test_model(weights_RF_model,X_test,Y_test,axis=False)\n",
    "print(weights_RF_test)\n",
    "print(repo)"
   ]
  },
  {
   "cell_type": "markdown",
   "id": "014dcc87",
   "metadata": {},
   "source": [
    "## HyperParameter Tuning on Random Forest "
   ]
  },
  {
   "cell_type": "code",
   "execution_count": 158,
   "id": "48c78ac2",
   "metadata": {
    "scrolled": true
   },
   "outputs": [
    {
     "name": "stdout",
     "output_type": "stream",
     "text": [
      "Fitting 5 folds for each of 28 candidates, totalling 140 fits\n",
      "[CV] END ......................max_depth=10, n_estimators=50; total time=   0.1s\n",
      "[CV] END ......................max_depth=10, n_estimators=50; total time=   0.1s\n",
      "[CV] END ......................max_depth=10, n_estimators=50; total time=   0.1s\n",
      "[CV] END ......................max_depth=10, n_estimators=50; total time=   0.1s\n",
      "[CV] END ......................max_depth=10, n_estimators=50; total time=   0.1s\n",
      "[CV] END .....................max_depth=10, n_estimators=100; total time=   0.3s\n",
      "[CV] END .....................max_depth=10, n_estimators=100; total time=   0.2s\n",
      "[CV] END .....................max_depth=10, n_estimators=100; total time=   0.3s\n",
      "[CV] END .....................max_depth=10, n_estimators=100; total time=   0.2s\n",
      "[CV] END .....................max_depth=10, n_estimators=100; total time=   0.2s\n",
      "[CV] END .....................max_depth=10, n_estimators=200; total time=   0.4s\n",
      "[CV] END .....................max_depth=10, n_estimators=200; total time=   0.4s\n",
      "[CV] END .....................max_depth=10, n_estimators=200; total time=   0.5s\n",
      "[CV] END .....................max_depth=10, n_estimators=200; total time=   0.4s\n",
      "[CV] END .....................max_depth=10, n_estimators=200; total time=   0.4s\n",
      "[CV] END .....................max_depth=10, n_estimators=300; total time=   0.5s\n",
      "[CV] END .....................max_depth=10, n_estimators=300; total time=   0.6s\n",
      "[CV] END .....................max_depth=10, n_estimators=300; total time=   0.6s\n",
      "[CV] END .....................max_depth=10, n_estimators=300; total time=   0.6s\n",
      "[CV] END .....................max_depth=10, n_estimators=300; total time=   0.7s\n",
      "[CV] END .....................max_depth=10, n_estimators=400; total time=   0.9s\n",
      "[CV] END .....................max_depth=10, n_estimators=400; total time=   0.8s\n",
      "[CV] END .....................max_depth=10, n_estimators=400; total time=   1.1s\n",
      "[CV] END .....................max_depth=10, n_estimators=400; total time=   1.4s\n",
      "[CV] END .....................max_depth=10, n_estimators=400; total time=   1.2s\n",
      "[CV] END .....................max_depth=10, n_estimators=500; total time=   1.4s\n",
      "[CV] END .....................max_depth=10, n_estimators=500; total time=   1.3s\n",
      "[CV] END .....................max_depth=10, n_estimators=500; total time=   1.0s\n",
      "[CV] END .....................max_depth=10, n_estimators=500; total time=   1.0s\n",
      "[CV] END .....................max_depth=10, n_estimators=500; total time=   1.2s\n",
      "[CV] END .....................max_depth=10, n_estimators=600; total time=   1.6s\n",
      "[CV] END .....................max_depth=10, n_estimators=600; total time=   1.5s\n",
      "[CV] END .....................max_depth=10, n_estimators=600; total time=   1.7s\n",
      "[CV] END .....................max_depth=10, n_estimators=600; total time=   1.5s\n",
      "[CV] END .....................max_depth=10, n_estimators=600; total time=   1.7s\n",
      "[CV] END ......................max_depth=20, n_estimators=50; total time=   0.2s\n",
      "[CV] END ......................max_depth=20, n_estimators=50; total time=   0.1s\n",
      "[CV] END ......................max_depth=20, n_estimators=50; total time=   0.2s\n",
      "[CV] END ......................max_depth=20, n_estimators=50; total time=   0.2s\n",
      "[CV] END ......................max_depth=20, n_estimators=50; total time=   0.2s\n",
      "[CV] END .....................max_depth=20, n_estimators=100; total time=   0.4s\n",
      "[CV] END .....................max_depth=20, n_estimators=100; total time=   0.3s\n",
      "[CV] END .....................max_depth=20, n_estimators=100; total time=   0.3s\n",
      "[CV] END .....................max_depth=20, n_estimators=100; total time=   0.2s\n",
      "[CV] END .....................max_depth=20, n_estimators=100; total time=   0.3s\n",
      "[CV] END .....................max_depth=20, n_estimators=200; total time=   0.6s\n",
      "[CV] END .....................max_depth=20, n_estimators=200; total time=   0.7s\n",
      "[CV] END .....................max_depth=20, n_estimators=200; total time=   0.6s\n",
      "[CV] END .....................max_depth=20, n_estimators=200; total time=   0.6s\n",
      "[CV] END .....................max_depth=20, n_estimators=200; total time=   0.6s\n",
      "[CV] END .....................max_depth=20, n_estimators=300; total time=   0.9s\n",
      "[CV] END .....................max_depth=20, n_estimators=300; total time=   0.9s\n",
      "[CV] END .....................max_depth=20, n_estimators=300; total time=   0.7s\n",
      "[CV] END .....................max_depth=20, n_estimators=300; total time=   0.9s\n",
      "[CV] END .....................max_depth=20, n_estimators=300; total time=   0.9s\n",
      "[CV] END .....................max_depth=20, n_estimators=400; total time=   1.3s\n",
      "[CV] END .....................max_depth=20, n_estimators=400; total time=   1.3s\n",
      "[CV] END .....................max_depth=20, n_estimators=400; total time=   1.2s\n",
      "[CV] END .....................max_depth=20, n_estimators=400; total time=   1.0s\n",
      "[CV] END .....................max_depth=20, n_estimators=400; total time=   1.4s\n",
      "[CV] END .....................max_depth=20, n_estimators=500; total time=   1.4s\n",
      "[CV] END .....................max_depth=20, n_estimators=500; total time=   1.3s\n",
      "[CV] END .....................max_depth=20, n_estimators=500; total time=   1.3s\n",
      "[CV] END .....................max_depth=20, n_estimators=500; total time=   1.0s\n",
      "[CV] END .....................max_depth=20, n_estimators=500; total time=   1.1s\n",
      "[CV] END .....................max_depth=20, n_estimators=600; total time=   1.2s\n",
      "[CV] END .....................max_depth=20, n_estimators=600; total time=   1.2s\n",
      "[CV] END .....................max_depth=20, n_estimators=600; total time=   1.3s\n",
      "[CV] END .....................max_depth=20, n_estimators=600; total time=   1.2s\n",
      "[CV] END .....................max_depth=20, n_estimators=600; total time=   1.2s\n",
      "[CV] END ......................max_depth=30, n_estimators=50; total time=   0.1s\n",
      "[CV] END ......................max_depth=30, n_estimators=50; total time=   0.1s\n",
      "[CV] END ......................max_depth=30, n_estimators=50; total time=   0.1s\n",
      "[CV] END ......................max_depth=30, n_estimators=50; total time=   0.1s\n",
      "[CV] END ......................max_depth=30, n_estimators=50; total time=   0.1s\n",
      "[CV] END .....................max_depth=30, n_estimators=100; total time=   0.2s\n",
      "[CV] END .....................max_depth=30, n_estimators=100; total time=   0.2s\n",
      "[CV] END .....................max_depth=30, n_estimators=100; total time=   0.2s\n",
      "[CV] END .....................max_depth=30, n_estimators=100; total time=   0.2s\n",
      "[CV] END .....................max_depth=30, n_estimators=100; total time=   0.3s\n",
      "[CV] END .....................max_depth=30, n_estimators=200; total time=   0.4s\n",
      "[CV] END .....................max_depth=30, n_estimators=200; total time=   0.4s\n",
      "[CV] END .....................max_depth=30, n_estimators=200; total time=   0.4s\n",
      "[CV] END .....................max_depth=30, n_estimators=200; total time=   0.5s\n",
      "[CV] END .....................max_depth=30, n_estimators=200; total time=   0.5s\n",
      "[CV] END .....................max_depth=30, n_estimators=300; total time=   0.7s\n",
      "[CV] END .....................max_depth=30, n_estimators=300; total time=   0.7s\n",
      "[CV] END .....................max_depth=30, n_estimators=300; total time=   0.6s\n",
      "[CV] END .....................max_depth=30, n_estimators=300; total time=   0.7s\n",
      "[CV] END .....................max_depth=30, n_estimators=300; total time=   0.6s\n",
      "[CV] END .....................max_depth=30, n_estimators=400; total time=   0.9s\n",
      "[CV] END .....................max_depth=30, n_estimators=400; total time=   0.9s\n",
      "[CV] END .....................max_depth=30, n_estimators=400; total time=   0.9s\n",
      "[CV] END .....................max_depth=30, n_estimators=400; total time=   0.9s\n",
      "[CV] END .....................max_depth=30, n_estimators=400; total time=   0.9s\n",
      "[CV] END .....................max_depth=30, n_estimators=500; total time=   1.1s\n",
      "[CV] END .....................max_depth=30, n_estimators=500; total time=   1.1s\n",
      "[CV] END .....................max_depth=30, n_estimators=500; total time=   1.1s\n",
      "[CV] END .....................max_depth=30, n_estimators=500; total time=   1.4s\n",
      "[CV] END .....................max_depth=30, n_estimators=500; total time=   1.2s\n",
      "[CV] END .....................max_depth=30, n_estimators=600; total time=   1.4s\n"
     ]
    },
    {
     "name": "stdout",
     "output_type": "stream",
     "text": [
      "[CV] END .....................max_depth=30, n_estimators=600; total time=   1.4s\n",
      "[CV] END .....................max_depth=30, n_estimators=600; total time=   1.3s\n",
      "[CV] END .....................max_depth=30, n_estimators=600; total time=   1.3s\n",
      "[CV] END .....................max_depth=30, n_estimators=600; total time=   1.3s\n",
      "[CV] END ....................max_depth=None, n_estimators=50; total time=   0.1s\n",
      "[CV] END ....................max_depth=None, n_estimators=50; total time=   0.1s\n",
      "[CV] END ....................max_depth=None, n_estimators=50; total time=   0.1s\n",
      "[CV] END ....................max_depth=None, n_estimators=50; total time=   0.1s\n",
      "[CV] END ....................max_depth=None, n_estimators=50; total time=   0.1s\n",
      "[CV] END ...................max_depth=None, n_estimators=100; total time=   0.2s\n",
      "[CV] END ...................max_depth=None, n_estimators=100; total time=   0.2s\n",
      "[CV] END ...................max_depth=None, n_estimators=100; total time=   0.3s\n",
      "[CV] END ...................max_depth=None, n_estimators=100; total time=   0.2s\n",
      "[CV] END ...................max_depth=None, n_estimators=100; total time=   0.2s\n",
      "[CV] END ...................max_depth=None, n_estimators=200; total time=   0.4s\n",
      "[CV] END ...................max_depth=None, n_estimators=200; total time=   0.4s\n",
      "[CV] END ...................max_depth=None, n_estimators=200; total time=   0.4s\n",
      "[CV] END ...................max_depth=None, n_estimators=200; total time=   0.4s\n",
      "[CV] END ...................max_depth=None, n_estimators=200; total time=   0.4s\n",
      "[CV] END ...................max_depth=None, n_estimators=300; total time=   0.6s\n",
      "[CV] END ...................max_depth=None, n_estimators=300; total time=   0.7s\n",
      "[CV] END ...................max_depth=None, n_estimators=300; total time=   0.6s\n",
      "[CV] END ...................max_depth=None, n_estimators=300; total time=   0.7s\n",
      "[CV] END ...................max_depth=None, n_estimators=300; total time=   0.7s\n",
      "[CV] END ...................max_depth=None, n_estimators=400; total time=   0.9s\n",
      "[CV] END ...................max_depth=None, n_estimators=400; total time=   0.9s\n",
      "[CV] END ...................max_depth=None, n_estimators=400; total time=   0.9s\n",
      "[CV] END ...................max_depth=None, n_estimators=400; total time=   1.0s\n",
      "[CV] END ...................max_depth=None, n_estimators=400; total time=   1.1s\n",
      "[CV] END ...................max_depth=None, n_estimators=500; total time=   1.1s\n",
      "[CV] END ...................max_depth=None, n_estimators=500; total time=   1.0s\n",
      "[CV] END ...................max_depth=None, n_estimators=500; total time=   1.1s\n",
      "[CV] END ...................max_depth=None, n_estimators=500; total time=   1.0s\n",
      "[CV] END ...................max_depth=None, n_estimators=500; total time=   1.2s\n",
      "[CV] END ...................max_depth=None, n_estimators=600; total time=   1.3s\n",
      "[CV] END ...................max_depth=None, n_estimators=600; total time=   1.3s\n",
      "[CV] END ...................max_depth=None, n_estimators=600; total time=   1.3s\n",
      "[CV] END ...................max_depth=None, n_estimators=600; total time=   1.2s\n",
      "[CV] END ...................max_depth=None, n_estimators=600; total time=   1.4s\n",
      "Best parameters:  {'max_depth': 20, 'n_estimators': 200}\n",
      "Best score:  0.9471873868536257\n"
     ]
    }
   ],
   "source": [
    "\n",
    "# Define the random forest model\n",
    "best_RF_model = RandomForestClassifier(random_state=42)\n",
    "\n",
    "# Define the parameter grid to search over\n",
    "param_grid = {\n",
    "    'n_estimators': [50, 100, 200,300,400,500,600],\n",
    "    'max_depth': [10, 20, 30, None],\n",
    "}\n",
    "\n",
    "# Define the grid search object\n",
    "grid_search = GridSearchCV(estimator=best_RF_model, param_grid=param_grid, cv=5,verbose=2)\n",
    "\n",
    "# Fit the grid search object to the data\n",
    "grid_search.fit(np.concatenate([X_train,X_val], axis=0)\n",
    "                   ,np.concatenate([Y_train,Y_val],axis=0))\n",
    "\n",
    "# Print the best parameters and best score\n",
    "print(\"Best parameters: \", grid_search.best_params_)\n",
    "print(\"Best score: \", grid_search.best_score_)"
   ]
  },
  {
   "cell_type": "code",
   "execution_count": 159,
   "id": "6934f3b2",
   "metadata": {},
   "outputs": [],
   "source": [
    "cv_results = grid_search.cv_results_"
   ]
  },
  {
   "cell_type": "code",
   "execution_count": 160,
   "id": "eb720c19",
   "metadata": {},
   "outputs": [],
   "source": [
    "best_RF_model_accuracy , repo = test_model(grid_search.best_estimator_,X_test,Y_test,axis=False)"
   ]
  },
  {
   "cell_type": "code",
   "execution_count": 161,
   "id": "194e9857",
   "metadata": {},
   "outputs": [
    {
     "name": "stdout",
     "output_type": "stream",
     "text": [
      "0.9308943089430894\n",
      "              precision    recall  f1-score   support\n",
      "\n",
      "           0       1.00      0.93      0.96        28\n",
      "           1       0.86      0.86      0.86        36\n",
      "           2       0.90      0.93      0.91        80\n",
      "           3       0.96      0.96      0.96       102\n",
      "\n",
      "    accuracy                           0.93       246\n",
      "   macro avg       0.93      0.92      0.92       246\n",
      "weighted avg       0.93      0.93      0.93       246\n",
      "\n"
     ]
    }
   ],
   "source": [
    "print(best_RF_model_accuracy )\n",
    "print(repo)"
   ]
  },
  {
   "cell_type": "code",
   "execution_count": 162,
   "id": "7366433a",
   "metadata": {},
   "outputs": [
    {
     "data": {
      "text/plain": [
       "{'mean_fit_time': array([0.09650674, 0.21562166, 0.39444904, 0.58546119, 1.02023306,\n",
       "        1.11603432, 1.48647699, 0.1548882 , 0.27653098, 0.58450894,\n",
       "        0.80679479, 1.1791182 , 1.14662828, 1.1433413 , 0.10606866,\n",
       "        0.19887366, 0.41947422, 0.63028426, 0.83147035, 1.12926598,\n",
       "        1.26710887, 0.11043153, 0.20437198, 0.40504966, 0.62685761,\n",
       "        0.88684611, 1.03342948, 1.21532655]),\n",
       " 'std_fit_time': array([0.010446  , 0.0201871 , 0.02368314, 0.06851658, 0.20289397,\n",
       "        0.14703374, 0.08793916, 0.03072102, 0.05207899, 0.02516233,\n",
       "        0.09266163, 0.11408904, 0.13580347, 0.0292674 , 0.00569471,\n",
       "        0.0228225 , 0.02679266, 0.02226686, 0.0160014 , 0.11581054,\n",
       "        0.03801445, 0.00809513, 0.02117874, 0.01028289, 0.02633414,\n",
       "        0.08018844, 0.08431763, 0.04646372]),\n",
       " 'mean_score_time': array([0.00747404, 0.01695771, 0.02476807, 0.0379066 , 0.06129885,\n",
       "        0.07132502, 0.0877687 , 0.00923576, 0.01614351, 0.03375916,\n",
       "        0.04415803, 0.06224413, 0.06133771, 0.07560401, 0.00763869,\n",
       "        0.01396556, 0.0278543 , 0.04108486, 0.05542417, 0.06407247,\n",
       "        0.09026589, 0.0075366 , 0.01387596, 0.02758021, 0.0433764 ,\n",
       "        0.05579939, 0.06170387, 0.07602668]),\n",
       " 'std_score_time': array([0.00118923, 0.00242085, 0.00263504, 0.00194175, 0.00768739,\n",
       "        0.01525262, 0.01241939, 0.00127419, 0.00193732, 0.00302371,\n",
       "        0.00929352, 0.00886112, 0.00811932, 0.00892928, 0.00080056,\n",
       "        0.00213474, 0.0044534 , 0.00469614, 0.00403157, 0.00643748,\n",
       "        0.01159767, 0.00078948, 0.00176668, 0.00265767, 0.00401222,\n",
       "        0.00606215, 0.00420109, 0.00593201]),\n",
       " 'param_max_depth': masked_array(data=[10, 10, 10, 10, 10, 10, 10, 20, 20, 20, 20, 20, 20, 20,\n",
       "                    30, 30, 30, 30, 30, 30, 30, None, None, None, None,\n",
       "                    None, None, None],\n",
       "              mask=[False, False, False, False, False, False, False, False,\n",
       "                    False, False, False, False, False, False, False, False,\n",
       "                    False, False, False, False, False, False, False, False,\n",
       "                    False, False, False, False],\n",
       "        fill_value='?',\n",
       "             dtype=object),\n",
       " 'param_n_estimators': masked_array(data=[50, 100, 200, 300, 400, 500, 600, 50, 100, 200, 300,\n",
       "                    400, 500, 600, 50, 100, 200, 300, 400, 500, 600, 50,\n",
       "                    100, 200, 300, 400, 500, 600],\n",
       "              mask=[False, False, False, False, False, False, False, False,\n",
       "                    False, False, False, False, False, False, False, False,\n",
       "                    False, False, False, False, False, False, False, False,\n",
       "                    False, False, False, False],\n",
       "        fill_value='?',\n",
       "             dtype=object),\n",
       " 'params': [{'max_depth': 10, 'n_estimators': 50},\n",
       "  {'max_depth': 10, 'n_estimators': 100},\n",
       "  {'max_depth': 10, 'n_estimators': 200},\n",
       "  {'max_depth': 10, 'n_estimators': 300},\n",
       "  {'max_depth': 10, 'n_estimators': 400},\n",
       "  {'max_depth': 10, 'n_estimators': 500},\n",
       "  {'max_depth': 10, 'n_estimators': 600},\n",
       "  {'max_depth': 20, 'n_estimators': 50},\n",
       "  {'max_depth': 20, 'n_estimators': 100},\n",
       "  {'max_depth': 20, 'n_estimators': 200},\n",
       "  {'max_depth': 20, 'n_estimators': 300},\n",
       "  {'max_depth': 20, 'n_estimators': 400},\n",
       "  {'max_depth': 20, 'n_estimators': 500},\n",
       "  {'max_depth': 20, 'n_estimators': 600},\n",
       "  {'max_depth': 30, 'n_estimators': 50},\n",
       "  {'max_depth': 30, 'n_estimators': 100},\n",
       "  {'max_depth': 30, 'n_estimators': 200},\n",
       "  {'max_depth': 30, 'n_estimators': 300},\n",
       "  {'max_depth': 30, 'n_estimators': 400},\n",
       "  {'max_depth': 30, 'n_estimators': 500},\n",
       "  {'max_depth': 30, 'n_estimators': 600},\n",
       "  {'max_depth': None, 'n_estimators': 50},\n",
       "  {'max_depth': None, 'n_estimators': 100},\n",
       "  {'max_depth': None, 'n_estimators': 200},\n",
       "  {'max_depth': None, 'n_estimators': 300},\n",
       "  {'max_depth': None, 'n_estimators': 400},\n",
       "  {'max_depth': None, 'n_estimators': 500},\n",
       "  {'max_depth': None, 'n_estimators': 600}],\n",
       " 'split0_test_score': array([0.95951417, 0.951417  , 0.95951417, 0.95951417, 0.96356275,\n",
       "        0.96356275, 0.95951417, 0.94736842, 0.951417  , 0.95951417,\n",
       "        0.951417  , 0.95951417, 0.95951417, 0.95546559, 0.94736842,\n",
       "        0.951417  , 0.95951417, 0.951417  , 0.95951417, 0.95951417,\n",
       "        0.95546559, 0.94736842, 0.951417  , 0.95951417, 0.951417  ,\n",
       "        0.95951417, 0.95951417, 0.95546559]),\n",
       " 'split1_test_score': array([0.94308943, 0.93902439, 0.94715447, 0.94308943, 0.95121951,\n",
       "        0.95934959, 0.95934959, 0.94308943, 0.94715447, 0.95934959,\n",
       "        0.95528455, 0.95528455, 0.95528455, 0.95528455, 0.94308943,\n",
       "        0.94715447, 0.95934959, 0.95528455, 0.95528455, 0.95528455,\n",
       "        0.95528455, 0.94308943, 0.94715447, 0.95934959, 0.95528455,\n",
       "        0.95528455, 0.95528455, 0.95528455]),\n",
       " 'split2_test_score': array([0.91056911, 0.91056911, 0.91056911, 0.91056911, 0.91056911,\n",
       "        0.91056911, 0.90650407, 0.93089431, 0.94308943, 0.93902439,\n",
       "        0.92276423, 0.93089431, 0.93089431, 0.92682927, 0.93089431,\n",
       "        0.93902439, 0.93902439, 0.92276423, 0.93089431, 0.93089431,\n",
       "        0.92682927, 0.93089431, 0.93902439, 0.93902439, 0.92276423,\n",
       "        0.93089431, 0.93089431, 0.92682927]),\n",
       " 'split3_test_score': array([0.91056911, 0.92276423, 0.92682927, 0.92682927, 0.93089431,\n",
       "        0.92682927, 0.93089431, 0.92276423, 0.92682927, 0.92682927,\n",
       "        0.91869919, 0.92682927, 0.92276423, 0.92682927, 0.92276423,\n",
       "        0.92682927, 0.92682927, 0.91869919, 0.92682927, 0.92276423,\n",
       "        0.92682927, 0.92276423, 0.92682927, 0.92682927, 0.91869919,\n",
       "        0.92682927, 0.92276423, 0.92682927]),\n",
       " 'split4_test_score': array([0.92276423, 0.93495935, 0.93089431, 0.93089431, 0.93902439,\n",
       "        0.93902439, 0.93495935, 0.93902439, 0.93902439, 0.95121951,\n",
       "        0.94308943, 0.94715447, 0.94715447, 0.95121951, 0.93902439,\n",
       "        0.93902439, 0.95121951, 0.94308943, 0.94715447, 0.94715447,\n",
       "        0.95121951, 0.93902439, 0.93902439, 0.95121951, 0.94308943,\n",
       "        0.94715447, 0.94715447, 0.95121951]),\n",
       " 'mean_test_score': array([0.92930121, 0.93174682, 0.93499226, 0.93417926, 0.93905401,\n",
       "        0.93986702, 0.9382443 , 0.93662816, 0.94150291, 0.94718739,\n",
       "        0.93825088, 0.94393535, 0.94312235, 0.94312564, 0.93662816,\n",
       "        0.9406899 , 0.94718739, 0.93825088, 0.94393535, 0.94312235,\n",
       "        0.94312564, 0.93662816, 0.9406899 , 0.94718739, 0.93825088,\n",
       "        0.94393535, 0.94312235, 0.94312564]),\n",
       " 'std_test_score': array([0.01922214, 0.01399559, 0.01690658, 0.01639208, 0.0180369 ,\n",
       "        0.01985003, 0.01984992, 0.00880828, 0.00841671, 0.01262707,\n",
       "        0.01489302, 0.01299657, 0.01411982, 0.01339229, 0.00880828,\n",
       "        0.00842053, 0.01262707, 0.01489302, 0.01299657, 0.01411982,\n",
       "        0.01339229, 0.00880828, 0.00842053, 0.01262707, 0.01489302,\n",
       "        0.01299657, 0.01411982, 0.01339229]),\n",
       " 'rank_test_score': array([28, 27, 25, 26, 17, 16, 21, 22, 13,  1, 18,  4, 10,  7, 22, 14,  1,\n",
       "        18,  4, 10,  7, 22, 14,  1, 18,  4, 10,  7], dtype=int32)}"
      ]
     },
     "execution_count": 162,
     "metadata": {},
     "output_type": "execute_result"
    }
   ],
   "source": [
    "cv_results = grid_search.cv_results_\n",
    "cv_results"
   ]
  },
  {
   "cell_type": "code",
   "execution_count": 165,
   "id": "f7eb7b1a",
   "metadata": {},
   "outputs": [
    {
     "name": "stdout",
     "output_type": "stream",
     "text": [
      "0.929301207991837 {'max_depth': 10, 'n_estimators': 50}\n",
      "0.9317468154438628 {'max_depth': 10, 'n_estimators': 100}\n",
      "0.9349922649024061 {'max_depth': 10, 'n_estimators': 200}\n",
      "0.9341792567723248 {'max_depth': 10, 'n_estimators': 300}\n",
      "0.9390540140219216 {'max_depth': 10, 'n_estimators': 400}\n",
      "0.9398670221520028 {'max_depth': 10, 'n_estimators': 500}\n",
      "0.9382442974227312 {'max_depth': 10, 'n_estimators': 600}\n"
     ]
    },
    {
     "data": {
      "image/png": "[encoded data removed]",
      "text/plain": [
       "<Figure size 640x480 with 1 Axes>"
      ]
     },
     "metadata": {},
     "output_type": "display_data"
    }
   ],
   "source": [
    "cv_results = grid_search.cv_results_\n",
    "estimators_max_depth_10 = []\n",
    "accuracies_max_depth_10 = []\n",
    "\n",
    "cv_results = grid_search.cv_results_\n",
    "\n",
    "\n",
    "for mean_score, params in zip(cv_results['mean_test_score'], cv_results['params']):\n",
    "    if(params[\"max_depth\"]==10):\n",
    "        estimators_max_depth_10.append(params[\"n_estimators\"])\n",
    "        accuracies_max_depth_10.append(mean_score)\n",
    "        print(mean_score,params)\n",
    "        \n",
    "estimators_max_depth_10\n",
    "accuracies_max_depth_10\n",
    "\n",
    "plt.plot(estimators_max_depth_10,accuracies_max_depth_10,label='accuracy')\n",
    "plt.title(\"const depth 10  variable n_estimators\")\n",
    "plt.axhline(1, color='red',label='training-accuracy') \n",
    "plt.legend()\n",
    "plt.show()\n"
   ]
  },
  {
   "cell_type": "code",
   "execution_count": null,
   "id": "6a037e8e",
   "metadata": {},
   "outputs": [],
   "source": []
  },
  {
   "cell_type": "code",
   "execution_count": 166,
   "id": "a30adb73",
   "metadata": {},
   "outputs": [
    {
     "name": "stdout",
     "output_type": "stream",
     "text": [
      "0.9366281557552419 {'max_depth': 20, 'n_estimators': 50}\n",
      "0.9415029130048385 {'max_depth': 20, 'n_estimators': 100}\n",
      "0.9471873868536257 {'max_depth': 20, 'n_estimators': 200}\n",
      "0.9382508804845134 {'max_depth': 20, 'n_estimators': 300}\n",
      "0.9439353543333004 {'max_depth': 20, 'n_estimators': 400}\n",
      "0.9431223462032191 {'max_depth': 20, 'n_estimators': 500}\n",
      "0.94312563773411 {'max_depth': 20, 'n_estimators': 600}\n"
     ]
    },
    {
     "data": {
      "image/png": "[encoded data removed]",
      "text/plain": [
       "<Figure size 640x480 with 1 Axes>"
      ]
     },
     "metadata": {},
     "output_type": "display_data"
    }
   ],
   "source": [
    "estimators_max_depth_20 = []\n",
    "accuracies_max_depth_20 = []\n",
    "\n",
    "for mean_score, params in zip(cv_results['mean_test_score'], cv_results['params']):\n",
    "    if(params[\"max_depth\"]==20):\n",
    "        estimators_max_depth_20.append(params[\"n_estimators\"])\n",
    "        accuracies_max_depth_20.append(mean_score)\n",
    "        print(mean_score,params)\n",
    "\n",
    "        \n",
    "\n",
    "plt.plot(estimators_max_depth_20,accuracies_max_depth_20)\n",
    "plt.title(\"const depth 20  variable n_estimators\")\n",
    "plt.axhline(1, color='red',label='training-accuracy') \n",
    "plt.legend()\n",
    "plt.show()\n",
    "\n",
    "plt.show()"
   ]
  },
  {
   "cell_type": "code",
   "execution_count": 167,
   "id": "d17b1d6a",
   "metadata": {},
   "outputs": [
    {
     "name": "stdout",
     "output_type": "stream",
     "text": [
      "0.9366281557552419 {'max_depth': 30, 'n_estimators': 50}\n",
      "0.9406899048747572 {'max_depth': 30, 'n_estimators': 100}\n",
      "0.9471873868536257 {'max_depth': 30, 'n_estimators': 200}\n",
      "0.9382508804845134 {'max_depth': 30, 'n_estimators': 300}\n",
      "0.9439353543333004 {'max_depth': 30, 'n_estimators': 400}\n",
      "0.9431223462032191 {'max_depth': 30, 'n_estimators': 500}\n",
      "0.94312563773411 {'max_depth': 30, 'n_estimators': 600}\n"
     ]
    },
    {
     "data": {
      "image/png": "[encoded data removed]",
      "text/plain": [
       "<Figure size 640x480 with 1 Axes>"
      ]
     },
     "metadata": {},
     "output_type": "display_data"
    }
   ],
   "source": [
    "estimators_max_depth_30 = []\n",
    "accuracies_max_depth_30 = []\n",
    "\n",
    "for mean_score, params in zip(cv_results['mean_test_score'], cv_results['params']):\n",
    "    if(params[\"max_depth\"]==30):\n",
    "        estimators_max_depth_30.append(params[\"n_estimators\"])\n",
    "        accuracies_max_depth_30.append(mean_score)\n",
    "        print(mean_score,params)\n",
    "\n",
    "\n",
    "\n",
    "plt.plot(estimators_max_depth_30,accuracies_max_depth_30)\n",
    "\n",
    "plt.title(\"const depth 30  variable n_estimators\")\n",
    "plt.axhline(1, color='red',label='training-accuracy') \n",
    "plt.legend()\n",
    "plt.show()\n",
    "\n",
    "plt.show()\n",
    "\n"
   ]
  },
  {
   "cell_type": "code",
   "execution_count": 119,
   "id": "521cd8de",
   "metadata": {},
   "outputs": [
    {
     "name": "stdout",
     "output_type": "stream",
     "text": [
      "0.9366281557552419 {'max_depth': None, 'n_estimators': 50}\n",
      "0.9406899048747572 {'max_depth': None, 'n_estimators': 100}\n",
      "0.9471873868536257 {'max_depth': None, 'n_estimators': 200}\n",
      "0.9382508804845134 {'max_depth': None, 'n_estimators': 300}\n",
      "0.9439353543333004 {'max_depth': None, 'n_estimators': 400}\n",
      "0.9431223462032191 {'max_depth': None, 'n_estimators': 500}\n",
      "0.94312563773411 {'max_depth': None, 'n_estimators': 600}\n"
     ]
    },
    {
     "data": {
      "image/png": "[encoded data removed]",
      "text/plain": [
       "<Figure size 640x480 with 1 Axes>"
      ]
     },
     "metadata": {},
     "output_type": "display_data"
    }
   ],
   "source": [
    "estimators_max_depth_None = []\n",
    "accuracies_max_depth_None = []\n",
    "\n",
    "for mean_score, params in zip(cv_results['mean_test_score'], cv_results['params']):\n",
    "    if(params[\"max_depth\"]==None):\n",
    "        estimators_max_depth_None.append(params[\"n_estimators\"])\n",
    "        accuracies_max_depth_None.append(mean_score)\n",
    "        print(mean_score,params)\n",
    "\n",
    "\n",
    "\n",
    "plt.plot(estimators_max_depth_None,accuracies_max_depth_None)\n",
    "plt.show()\n",
    "\n"
   ]
  },
  {
   "cell_type": "code",
   "execution_count": 120,
   "id": "d2763ce1",
   "metadata": {},
   "outputs": [
    {
     "name": "stdout",
     "output_type": "stream",
     "text": [
      "20\n",
      "200\n"
     ]
    }
   ],
   "source": [
    "print(cv_results[\"params\"][np.argmax(cv_results[\"mean_test_score\"])][\"max_depth\"])\n",
    "print(cv_results[\"params\"][np.argmax(cv_results[\"mean_test_score\"])][\"n_estimators\"])"
   ]
  },
  {
   "cell_type": "code",
   "execution_count": 121,
   "id": "ae151c15",
   "metadata": {},
   "outputs": [
    {
     "data": {
      "text/plain": [
       "RandomForestClassifier(class_weight={0: 1.9409448818897639,\n",
       "                                     1: 1.8395522388059702,\n",
       "                                     2: 0.9095940959409594,\n",
       "                                     3: 0.5429515418502202},\n",
       "                       max_depth=20, n_estimators=400)"
      ]
     },
     "execution_count": 121,
     "metadata": {},
     "output_type": "execute_result"
    }
   ],
   "source": [
    "best_model_RF= RandomForestClassifier(n_estimators=400,max_depth=20,class_weight=class_weights)\n",
    "# concat class weights with it \n",
    "best_model_RF.fit(np.concatenate([X_train,X_val], axis=0)\n",
    "                   ,np.concatenate([Y_train,Y_val],axis=0))\n"
   ]
  },
  {
   "cell_type": "code",
   "execution_count": 122,
   "id": "4d139bd5",
   "metadata": {},
   "outputs": [],
   "source": [
    "best_RF_model_accuracy , repo = test_model(best_model_RF,X_test,Y_test,axis=False)"
   ]
  },
  {
   "cell_type": "code",
   "execution_count": 123,
   "id": "b1453c1e",
   "metadata": {},
   "outputs": [
    {
     "name": "stdout",
     "output_type": "stream",
     "text": [
      "0.9349593495934959\n",
      "              precision    recall  f1-score   support\n",
      "\n",
      "           0       1.00      0.93      0.96        28\n",
      "           1       0.86      0.86      0.86        36\n",
      "           2       0.91      0.93      0.92        80\n",
      "           3       0.96      0.97      0.97       102\n",
      "\n",
      "    accuracy                           0.93       246\n",
      "   macro avg       0.93      0.92      0.93       246\n",
      "weighted avg       0.94      0.93      0.94       246\n",
      "\n"
     ]
    }
   ],
   "source": [
    "print(best_RF_model_accuracy)\n",
    "print(repo)"
   ]
  },
  {
   "cell_type": "markdown",
   "id": "bd6097cd",
   "metadata": {},
   "source": [
    "# oversampling "
   ]
  },
  {
   "cell_type": "code",
   "execution_count": 124,
   "id": "0c777ed0",
   "metadata": {},
   "outputs": [],
   "source": [
    "oversampled= over_sampling(all_class_train,sampling_ratio=0.5)\n",
    "class_weights = oversampled[\"Body_Level\"].value_counts().to_dict()\n",
    "total_num = sum(class_weights.values())\n",
    "class_weights= { i : (total_num/(4* j )) for i ,j in zip(class_weights.keys(),class_weights.values())}\n",
    "class_weights\n",
    "\n",
    "X_train=oversampled.drop([\"Body_Level\"],axis=1).to_numpy()\n",
    "Y_train=oversampled[\"Body_Level\"].to_numpy()\n",
    "X_test =all_class_test.drop([\"Body_Level\"],axis=1).to_numpy()\n",
    "Y_test =all_class_test[\"Body_Level\"].to_numpy()\n",
    "X_train, scaler= data_scaling(X_train)\n",
    "X_val, X_test, Y_val, Y_test = train_test_split(X_test\n",
    "                                                     , Y_test, test_size=0.5, random_state=42)\n",
    "X_val = scaler.transform(X_val)\n",
    "X_test=scaler.transform(X_test)"
   ]
  },
  {
   "cell_type": "markdown",
   "id": "b747d794",
   "metadata": {},
   "source": [
    "# Applying bare Random Forest after oversampling"
   ]
  },
  {
   "cell_type": "code",
   "execution_count": 125,
   "id": "d0b15a9b",
   "metadata": {},
   "outputs": [
    {
     "data": {
      "text/plain": [
       "RandomForestClassifier(random_state=42)"
      ]
     },
     "execution_count": 125,
     "metadata": {},
     "output_type": "execute_result"
    }
   ],
   "source": [
    "bare_RF_oversampled = RandomForestClassifier(random_state=42)\n",
    "bare_RF_oversampled.fit(np.concatenate([X_train,X_val], axis=0)\n",
    "                   ,np.concatenate([Y_train,Y_val],axis=0))"
   ]
  },
  {
   "cell_type": "code",
   "execution_count": 126,
   "id": "903d76e7",
   "metadata": {},
   "outputs": [],
   "source": [
    "bare_RF_oversampled_accuracy , repo = test_model(bare_RF,X_train,Y_train,axis=False)\n"
   ]
  },
  {
   "cell_type": "code",
   "execution_count": 127,
   "id": "1ff88032",
   "metadata": {},
   "outputs": [
    {
     "name": "stdout",
     "output_type": "stream",
     "text": [
      "0.929384965831435\n",
      "              precision    recall  f1-score   support\n",
      "\n",
      "           0       1.00      1.00      1.00       257\n",
      "           1       1.00      0.81      0.89       262\n",
      "           2       0.86      0.88      0.87       344\n",
      "           3       0.92      1.00      0.96       454\n",
      "\n",
      "    accuracy                           0.93      1317\n",
      "   macro avg       0.94      0.92      0.93      1317\n",
      "weighted avg       0.93      0.93      0.93      1317\n",
      "\n"
     ]
    }
   ],
   "source": [
    "print(bare_RF_oversampled_accuracy)\n",
    "print(repo)"
   ]
  },
  {
   "cell_type": "code",
   "execution_count": 128,
   "id": "129782ea",
   "metadata": {},
   "outputs": [
    {
     "data": {
      "text/plain": [
       "RandomForestClassifier(class_weight={0: 1.2811284046692606,\n",
       "                                     1: 1.256679389312977,\n",
       "                                     2: 0.9571220930232558,\n",
       "                                     3: 0.7252202643171806},\n",
       "                       random_state=42)"
      ]
     },
     "execution_count": 128,
     "metadata": {},
     "output_type": "execute_result"
    }
   ],
   "source": [
    "weights_RF_oversampled = RandomForestClassifier(random_state=42, class_weight=class_weights)\n",
    "weights_RF_oversampled.fit(np.concatenate([X_train,X_val], axis=0)\n",
    "                   ,np.concatenate([Y_train,Y_val],axis=0))"
   ]
  },
  {
   "cell_type": "code",
   "execution_count": 129,
   "id": "bdbe5462",
   "metadata": {},
   "outputs": [],
   "source": [
    "weights_RF_oversampled_accuracy , repo = test_model(weights_RF_oversampled,\n",
    "                                                    X_train,Y_train,axis=False)\n"
   ]
  },
  {
   "cell_type": "code",
   "execution_count": 130,
   "id": "cc4052b4",
   "metadata": {},
   "outputs": [
    {
     "name": "stdout",
     "output_type": "stream",
     "text": [
      "1.0\n",
      "              precision    recall  f1-score   support\n",
      "\n",
      "           0       1.00      1.00      1.00       257\n",
      "           1       1.00      1.00      1.00       262\n",
      "           2       1.00      1.00      1.00       344\n",
      "           3       1.00      1.00      1.00       454\n",
      "\n",
      "    accuracy                           1.00      1317\n",
      "   macro avg       1.00      1.00      1.00      1317\n",
      "weighted avg       1.00      1.00      1.00      1317\n",
      "\n"
     ]
    }
   ],
   "source": [
    "print(weights_RF_oversampled_accuracy)\n",
    "print(repo)"
   ]
  },
  {
   "cell_type": "code",
   "execution_count": 131,
   "id": "d65fbd0a",
   "metadata": {
    "scrolled": true
   },
   "outputs": [
    {
     "name": "stdout",
     "output_type": "stream",
     "text": [
      "Fitting 5 folds for each of 28 candidates, totalling 140 fits\n",
      "[CV] END ......................max_depth=10, n_estimators=50; total time=   0.2s\n",
      "[CV] END ......................max_depth=10, n_estimators=50; total time=   0.1s\n",
      "[CV] END ......................max_depth=10, n_estimators=50; total time=   0.1s\n",
      "[CV] END ......................max_depth=10, n_estimators=50; total time=   0.1s\n",
      "[CV] END ......................max_depth=10, n_estimators=50; total time=   0.2s\n",
      "[CV] END .....................max_depth=10, n_estimators=100; total time=   0.2s\n",
      "[CV] END .....................max_depth=10, n_estimators=100; total time=   0.2s\n",
      "[CV] END .....................max_depth=10, n_estimators=100; total time=   0.2s\n",
      "[CV] END .....................max_depth=10, n_estimators=100; total time=   0.3s\n",
      "[CV] END .....................max_depth=10, n_estimators=100; total time=   0.2s\n",
      "[CV] END .....................max_depth=10, n_estimators=200; total time=   0.5s\n",
      "[CV] END .....................max_depth=10, n_estimators=200; total time=   0.4s\n",
      "[CV] END .....................max_depth=10, n_estimators=200; total time=   0.5s\n",
      "[CV] END .....................max_depth=10, n_estimators=200; total time=   0.5s\n",
      "[CV] END .....................max_depth=10, n_estimators=200; total time=   0.5s\n",
      "[CV] END .....................max_depth=10, n_estimators=300; total time=   0.7s\n",
      "[CV] END .....................max_depth=10, n_estimators=300; total time=   0.8s\n",
      "[CV] END .....................max_depth=10, n_estimators=300; total time=   0.7s\n",
      "[CV] END .....................max_depth=10, n_estimators=300; total time=   0.7s\n",
      "[CV] END .....................max_depth=10, n_estimators=300; total time=   0.7s\n",
      "[CV] END .....................max_depth=10, n_estimators=400; total time=   1.0s\n",
      "[CV] END .....................max_depth=10, n_estimators=400; total time=   1.0s\n",
      "[CV] END .....................max_depth=10, n_estimators=400; total time=   0.9s\n",
      "[CV] END .....................max_depth=10, n_estimators=400; total time=   0.9s\n",
      "[CV] END .....................max_depth=10, n_estimators=400; total time=   0.9s\n",
      "[CV] END .....................max_depth=10, n_estimators=500; total time=   1.5s\n",
      "[CV] END .....................max_depth=10, n_estimators=500; total time=   1.2s\n",
      "[CV] END .....................max_depth=10, n_estimators=500; total time=   1.6s\n",
      "[CV] END .....................max_depth=10, n_estimators=500; total time=   1.5s\n",
      "[CV] END .....................max_depth=10, n_estimators=500; total time=   1.1s\n",
      "[CV] END .....................max_depth=10, n_estimators=600; total time=   1.9s\n",
      "[CV] END .....................max_depth=10, n_estimators=600; total time=   1.3s\n",
      "[CV] END .....................max_depth=10, n_estimators=600; total time=   1.5s\n",
      "[CV] END .....................max_depth=10, n_estimators=600; total time=   1.4s\n",
      "[CV] END .....................max_depth=10, n_estimators=600; total time=   1.5s\n",
      "[CV] END ......................max_depth=20, n_estimators=50; total time=   0.1s\n",
      "[CV] END ......................max_depth=20, n_estimators=50; total time=   0.2s\n",
      "[CV] END ......................max_depth=20, n_estimators=50; total time=   0.1s\n",
      "[CV] END ......................max_depth=20, n_estimators=50; total time=   0.1s\n",
      "[CV] END ......................max_depth=20, n_estimators=50; total time=   0.1s\n",
      "[CV] END .....................max_depth=20, n_estimators=100; total time=   0.3s\n",
      "[CV] END .....................max_depth=20, n_estimators=100; total time=   0.3s\n",
      "[CV] END .....................max_depth=20, n_estimators=100; total time=   0.2s\n",
      "[CV] END .....................max_depth=20, n_estimators=100; total time=   0.3s\n",
      "[CV] END .....................max_depth=20, n_estimators=100; total time=   0.2s\n",
      "[CV] END .....................max_depth=20, n_estimators=200; total time=   0.5s\n",
      "[CV] END .....................max_depth=20, n_estimators=200; total time=   0.5s\n",
      "[CV] END .....................max_depth=20, n_estimators=200; total time=   0.5s\n",
      "[CV] END .....................max_depth=20, n_estimators=200; total time=   0.5s\n",
      "[CV] END .....................max_depth=20, n_estimators=200; total time=   0.5s\n",
      "[CV] END .....................max_depth=20, n_estimators=300; total time=   0.7s\n",
      "[CV] END .....................max_depth=20, n_estimators=300; total time=   0.7s\n",
      "[CV] END .....................max_depth=20, n_estimators=300; total time=   0.8s\n",
      "[CV] END .....................max_depth=20, n_estimators=300; total time=   0.8s\n",
      "[CV] END .....................max_depth=20, n_estimators=300; total time=   0.8s\n",
      "[CV] END .....................max_depth=20, n_estimators=400; total time=   1.1s\n",
      "[CV] END .....................max_depth=20, n_estimators=400; total time=   1.1s\n",
      "[CV] END .....................max_depth=20, n_estimators=400; total time=   1.0s\n",
      "[CV] END .....................max_depth=20, n_estimators=400; total time=   1.2s\n",
      "[CV] END .....................max_depth=20, n_estimators=400; total time=   1.2s\n",
      "[CV] END .....................max_depth=20, n_estimators=500; total time=   1.5s\n",
      "[CV] END .....................max_depth=20, n_estimators=500; total time=   1.8s\n",
      "[CV] END .....................max_depth=20, n_estimators=500; total time=   1.9s\n",
      "[CV] END .....................max_depth=20, n_estimators=500; total time=   1.6s\n",
      "[CV] END .....................max_depth=20, n_estimators=500; total time=   1.2s\n",
      "[CV] END .....................max_depth=20, n_estimators=600; total time=   1.3s\n",
      "[CV] END .....................max_depth=20, n_estimators=600; total time=   1.4s\n",
      "[CV] END .....................max_depth=20, n_estimators=600; total time=   1.3s\n",
      "[CV] END .....................max_depth=20, n_estimators=600; total time=   1.3s\n",
      "[CV] END .....................max_depth=20, n_estimators=600; total time=   1.9s\n",
      "[CV] END ......................max_depth=30, n_estimators=50; total time=   0.2s\n",
      "[CV] END ......................max_depth=30, n_estimators=50; total time=   0.2s\n",
      "[CV] END ......................max_depth=30, n_estimators=50; total time=   0.2s\n",
      "[CV] END ......................max_depth=30, n_estimators=50; total time=   0.2s\n",
      "[CV] END ......................max_depth=30, n_estimators=50; total time=   0.2s\n",
      "[CV] END .....................max_depth=30, n_estimators=100; total time=   0.3s\n",
      "[CV] END .....................max_depth=30, n_estimators=100; total time=   0.3s\n",
      "[CV] END .....................max_depth=30, n_estimators=100; total time=   0.4s\n",
      "[CV] END .....................max_depth=30, n_estimators=100; total time=   0.3s\n",
      "[CV] END .....................max_depth=30, n_estimators=100; total time=   0.3s\n",
      "[CV] END .....................max_depth=30, n_estimators=200; total time=   0.7s\n",
      "[CV] END .....................max_depth=30, n_estimators=200; total time=   0.6s\n",
      "[CV] END .....................max_depth=30, n_estimators=200; total time=   0.7s\n",
      "[CV] END .....................max_depth=30, n_estimators=200; total time=   0.6s\n",
      "[CV] END .....................max_depth=30, n_estimators=200; total time=   0.6s\n",
      "[CV] END .....................max_depth=30, n_estimators=300; total time=   0.9s\n",
      "[CV] END .....................max_depth=30, n_estimators=300; total time=   0.8s\n",
      "[CV] END .....................max_depth=30, n_estimators=300; total time=   1.1s\n",
      "[CV] END .....................max_depth=30, n_estimators=300; total time=   1.1s\n",
      "[CV] END .....................max_depth=30, n_estimators=300; total time=   0.9s\n",
      "[CV] END .....................max_depth=30, n_estimators=400; total time=   1.0s\n",
      "[CV] END .....................max_depth=30, n_estimators=400; total time=   1.0s\n",
      "[CV] END .....................max_depth=30, n_estimators=400; total time=   1.4s\n",
      "[CV] END .....................max_depth=30, n_estimators=400; total time=   1.3s\n",
      "[CV] END .....................max_depth=30, n_estimators=400; total time=   1.4s\n",
      "[CV] END .....................max_depth=30, n_estimators=500; total time=   1.3s\n",
      "[CV] END .....................max_depth=30, n_estimators=500; total time=   1.1s\n",
      "[CV] END .....................max_depth=30, n_estimators=500; total time=   1.2s\n",
      "[CV] END .....................max_depth=30, n_estimators=500; total time=   1.2s\n",
      "[CV] END .....................max_depth=30, n_estimators=500; total time=   1.2s\n",
      "[CV] END .....................max_depth=30, n_estimators=600; total time=   1.5s\n"
     ]
    },
    {
     "name": "stdout",
     "output_type": "stream",
     "text": [
      "[CV] END .....................max_depth=30, n_estimators=600; total time=   1.5s\n",
      "[CV] END .....................max_depth=30, n_estimators=600; total time=   1.4s\n",
      "[CV] END .....................max_depth=30, n_estimators=600; total time=   1.4s\n",
      "[CV] END .....................max_depth=30, n_estimators=600; total time=   1.4s\n",
      "[CV] END ....................max_depth=None, n_estimators=50; total time=   0.1s\n",
      "[CV] END ....................max_depth=None, n_estimators=50; total time=   0.1s\n",
      "[CV] END ....................max_depth=None, n_estimators=50; total time=   0.1s\n",
      "[CV] END ....................max_depth=None, n_estimators=50; total time=   0.2s\n",
      "[CV] END ....................max_depth=None, n_estimators=50; total time=   0.1s\n",
      "[CV] END ...................max_depth=None, n_estimators=100; total time=   0.3s\n",
      "[CV] END ...................max_depth=None, n_estimators=100; total time=   0.3s\n",
      "[CV] END ...................max_depth=None, n_estimators=100; total time=   0.3s\n",
      "[CV] END ...................max_depth=None, n_estimators=100; total time=   0.4s\n",
      "[CV] END ...................max_depth=None, n_estimators=100; total time=   0.2s\n",
      "[CV] END ...................max_depth=None, n_estimators=200; total time=   0.8s\n",
      "[CV] END ...................max_depth=None, n_estimators=200; total time=   0.7s\n",
      "[CV] END ...................max_depth=None, n_estimators=200; total time=   0.5s\n",
      "[CV] END ...................max_depth=None, n_estimators=200; total time=   0.5s\n",
      "[CV] END ...................max_depth=None, n_estimators=200; total time=   0.6s\n",
      "[CV] END ...................max_depth=None, n_estimators=300; total time=   0.7s\n",
      "[CV] END ...................max_depth=None, n_estimators=300; total time=   0.8s\n",
      "[CV] END ...................max_depth=None, n_estimators=300; total time=   0.9s\n",
      "[CV] END ...................max_depth=None, n_estimators=300; total time=   0.7s\n",
      "[CV] END ...................max_depth=None, n_estimators=300; total time=   0.8s\n",
      "[CV] END ...................max_depth=None, n_estimators=400; total time=   1.0s\n",
      "[CV] END ...................max_depth=None, n_estimators=400; total time=   1.0s\n",
      "[CV] END ...................max_depth=None, n_estimators=400; total time=   1.0s\n",
      "[CV] END ...................max_depth=None, n_estimators=400; total time=   1.0s\n",
      "[CV] END ...................max_depth=None, n_estimators=400; total time=   1.0s\n",
      "[CV] END ...................max_depth=None, n_estimators=500; total time=   1.3s\n",
      "[CV] END ...................max_depth=None, n_estimators=500; total time=   1.2s\n",
      "[CV] END ...................max_depth=None, n_estimators=500; total time=   1.4s\n",
      "[CV] END ...................max_depth=None, n_estimators=500; total time=   1.4s\n",
      "[CV] END ...................max_depth=None, n_estimators=500; total time=   1.2s\n",
      "[CV] END ...................max_depth=None, n_estimators=600; total time=   2.1s\n",
      "[CV] END ...................max_depth=None, n_estimators=600; total time=   2.1s\n",
      "[CV] END ...................max_depth=None, n_estimators=600; total time=   1.9s\n",
      "[CV] END ...................max_depth=None, n_estimators=600; total time=   1.9s\n",
      "[CV] END ...................max_depth=None, n_estimators=600; total time=   2.2s\n",
      "Best parameters:  {'max_depth': 30, 'n_estimators': 600}\n",
      "Best score:  0.9698779388875236\n"
     ]
    }
   ],
   "source": [
    "\n",
    "# Define the random forest model\n",
    "best_RF_oversampled_model = RandomForestClassifier(random_state=42,class_weight=class_weights)\n",
    "\n",
    "# Define the parameter grid to search over\n",
    "param_grid = {\n",
    "    'n_estimators': [50, 100, 200,300,400,500,600],\n",
    "    'max_depth': [10, 20, 30, None],\n",
    "}\n",
    "\n",
    "# Define the grid search object\n",
    "grid_search = GridSearchCV(estimator=best_RF_oversampled_model, param_grid=param_grid, cv=5,verbose=2)\n",
    "\n",
    "# Fit the grid search object to the data\n",
    "grid_search.fit(np.concatenate([X_train,X_val], axis=0)\n",
    "                   ,np.concatenate([Y_train,Y_val],axis=0))\n",
    "\n",
    "# Print the best parameters and best score\n",
    "print(\"Best parameters: \", grid_search.best_params_)\n",
    "print(\"Best score: \", grid_search.best_score_)"
   ]
  },
  {
   "cell_type": "code",
   "execution_count": 132,
   "id": "2f1aa571",
   "metadata": {},
   "outputs": [],
   "source": [
    "best_RF_oversampled_model_accuracy , repo = test_model(grid_search.best_estimator_\n",
    "                                                       ,X_test,Y_test,axis=False)"
   ]
  },
  {
   "cell_type": "code",
   "execution_count": 133,
   "id": "2b6c2e17",
   "metadata": {},
   "outputs": [
    {
     "name": "stdout",
     "output_type": "stream",
     "text": [
      "0.9308943089430894\n",
      "              precision    recall  f1-score   support\n",
      "\n",
      "           0       1.00      0.93      0.96        28\n",
      "           1       0.86      0.86      0.86        36\n",
      "           2       0.90      0.93      0.91        80\n",
      "           3       0.96      0.96      0.96       102\n",
      "\n",
      "    accuracy                           0.93       246\n",
      "   macro avg       0.93      0.92      0.92       246\n",
      "weighted avg       0.93      0.93      0.93       246\n",
      "\n"
     ]
    }
   ],
   "source": [
    "print(best_RF_oversampled_model_accuracy )\n",
    "print(repo)"
   ]
  },
  {
   "cell_type": "code",
   "execution_count": null,
   "id": "554806da",
   "metadata": {},
   "outputs": [],
   "source": []
  }
 ],
 "metadata": {
  "kernelspec": {
   "display_name": "Python 3 (ipykernel)",
   "language": "python",
   "name": "python3"
  },
  "language_info": {
   "codemirror_mode": {
    "name": "ipython",
    "version": 3
   },
   "file_extension": ".py",
   "mimetype": "text/x-python",
   "name": "python",
   "nbconvert_exporter": "python",
   "pygments_lexer": "ipython3",
   "version": "3.9.13"
  }
 },
 "nbformat": 4,
 "nbformat_minor": 5
}

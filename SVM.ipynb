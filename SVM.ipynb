{
 "cells": [
  {
   "cell_type": "code",
   "execution_count": 1,
   "id": "8c98ca95",
   "metadata": {},
   "outputs": [
    {
     "name": "stderr",
     "output_type": "stream",
     "text": [
      "2023-05-20 05:27:17.471505: I tensorflow/core/platform/cpu_feature_guard.cc:193] This TensorFlow binary is optimized with oneAPI Deep Neural Network Library (oneDNN) to use the following CPU instructions in performance-critical operations:  AVX2 FMA\n",
      "To enable them in other operations, rebuild TensorFlow with the appropriate compiler flags.\n",
      "2023-05-20 05:27:21.949868: W tensorflow/compiler/xla/stream_executor/platform/default/dso_loader.cc:64] Could not load dynamic library 'libcudart.so.11.0'; dlerror: libcudart.so.11.0: cannot open shared object file: No such file or directory\n",
      "2023-05-20 05:27:21.949907: I tensorflow/compiler/xla/stream_executor/cuda/cudart_stub.cc:29] Ignore above cudart dlerror if you do not have a GPU set up on your machine.\n",
      "2023-05-20 05:27:28.826402: W tensorflow/compiler/xla/stream_executor/platform/default/dso_loader.cc:64] Could not load dynamic library 'libnvinfer.so.7'; dlerror: libnvinfer.so.7: cannot open shared object file: No such file or directory\n",
      "2023-05-20 05:27:28.832939: W tensorflow/compiler/xla/stream_executor/platform/default/dso_loader.cc:64] Could not load dynamic library 'libnvinfer_plugin.so.7'; dlerror: libnvinfer_plugin.so.7: cannot open shared object file: No such file or directory\n",
      "2023-05-20 05:27:28.832961: W tensorflow/compiler/tf2tensorrt/utils/py_utils.cc:38] TF-TRT Warning: Cannot dlopen some TensorRT libraries. If you would like to use Nvidia GPU with TensorRT, please make sure the missing libraries mentioned above are installed properly.\n",
      "/home/thebrownboy/anaconda3/lib/python3.9/site-packages/tensorflow_addons/utils/tfa_eol_msg.py:23: UserWarning: \n",
      "\n",
      "TensorFlow Addons (TFA) has ended development and introduction of new features.\n",
      "TFA has entered a minimal maintenance and release mode until a planned end of life in May 2024.\n",
      "Please modify downstream libraries to take dependencies from other repositories in our TensorFlow community (e.g. Keras, Keras-CV, and Keras-NLP). \n",
      "\n",
      "For more information see: https://github.com/tensorflow/addons/issues/2807 \n",
      "\n",
      "  warnings.warn(\n"
     ]
    }
   ],
   "source": [
    "from utils import *\n",
    "import pandas as pd \n",
    "from sklearn.model_selection import train_test_split\n",
    "from sklearn.model_selection import GridSearchCV\n",
    "from matplotlib import pyplot as plt \n",
    "from sklearn.svm import SVC\n"
   ]
  },
  {
   "cell_type": "code",
   "execution_count": 2,
   "id": "67bae127",
   "metadata": {},
   "outputs": [],
   "source": [
    "df = pd.read_csv(\"dataset/body_level_classification_train.csv\")\n",
    "df_original= cleaning_data(df).copy()\n",
    "all_class_train,all_class_test=data_spliting(df_original,1/3)\n",
    "## shuffling \n",
    "all_class_train = all_class_train.sample(frac=1.0, random_state=42)\n",
    "all_class_test = all_class_test.sample(frac=1.0, random_state=42)\n",
    "X_train=all_class_train.drop([\"Body_Level\"],axis=1).to_numpy()\n",
    "Y_train=all_class_train[\"Body_Level\"].to_numpy()\n",
    "X_test =all_class_test.drop([\"Body_Level\"],axis=1).to_numpy()\n",
    "Y_test =all_class_test[\"Body_Level\"].to_numpy()\n",
    "\n",
    "\n",
    "X_train, scaler= data_scaling(X_train)\n",
    "X_val, X_test, Y_val, Y_test = train_test_split(X_test\n",
    "                                                     , Y_test, test_size=0.5, random_state=42)\n",
    "X_val = scaler.transform(X_val)\n",
    "X_test=scaler.transform(X_test)"
   ]
  },
  {
   "cell_type": "code",
   "execution_count": 3,
   "id": "1e0e88c5",
   "metadata": {},
   "outputs": [
    {
     "data": {
      "text/plain": [
       "{3: 0.5429515418502202,\n",
       " 2: 0.9095940959409594,\n",
       " 1: 1.8395522388059702,\n",
       " 0: 1.9409448818897639}"
      ]
     },
     "execution_count": 3,
     "metadata": {},
     "output_type": "execute_result"
    }
   ],
   "source": [
    "class_weights = all_class_train[\"Body_Level\"].value_counts().to_dict()\n",
    "total_num = sum(class_weights.values())\n",
    "class_weights= { i : (total_num/(4* j )) for i ,j in zip(class_weights.keys(),class_weights.values())}\n",
    "class_weights"
   ]
  },
  {
   "cell_type": "code",
   "execution_count": 4,
   "id": "aa42a064",
   "metadata": {},
   "outputs": [
    {
     "data": {
      "text/plain": [
       "SVC(gamma='auto', random_state=42)"
      ]
     },
     "execution_count": 4,
     "metadata": {},
     "output_type": "execute_result"
    }
   ],
   "source": [
    "SVM_Model = SVC(random_state=42,gamma='auto')\n",
    "SVM_Model.fit(np.concatenate([X_train,X_val], axis=0)\n",
    "                   ,np.concatenate([Y_train,Y_val],axis=0))"
   ]
  },
  {
   "cell_type": "code",
   "execution_count": 5,
   "id": "619ab424",
   "metadata": {},
   "outputs": [],
   "source": [
    "SVM_Model_accuracy , repo = test_model(SVM_Model,X_train,Y_train,axis=False)"
   ]
  },
  {
   "cell_type": "code",
   "execution_count": 6,
   "id": "8868d78b",
   "metadata": {},
   "outputs": [
    {
     "name": "stdout",
     "output_type": "stream",
     "text": [
      "0.9594320486815415\n",
      "              precision    recall  f1-score   support\n",
      "\n",
      "           0       0.95      0.98      0.96       127\n",
      "           1       0.90      0.84      0.86       134\n",
      "           2       0.93      0.96      0.95       271\n",
      "           3       1.00      0.99      0.99       454\n",
      "\n",
      "    accuracy                           0.96       986\n",
      "   macro avg       0.94      0.94      0.94       986\n",
      "weighted avg       0.96      0.96      0.96       986\n",
      "\n"
     ]
    }
   ],
   "source": [
    "SVM_Model_accuracy , repo = test_model(SVM_Model,X_train,Y_train,axis=False)\n",
    "print(SVM_Model_accuracy)\n",
    "print(repo)"
   ]
  },
  {
   "cell_type": "code",
   "execution_count": 7,
   "id": "cc1b1b61",
   "metadata": {},
   "outputs": [],
   "source": [
    "SVM_Model_accuracy , repo = test_model(SVM_Model,X_test,Y_test,axis=False)"
   ]
  },
  {
   "cell_type": "code",
   "execution_count": 8,
   "id": "bf961ce9",
   "metadata": {},
   "outputs": [
    {
     "name": "stdout",
     "output_type": "stream",
     "text": [
      "0.8821138211382114\n",
      "              precision    recall  f1-score   support\n",
      "\n",
      "           0       0.86      0.86      0.86        28\n",
      "           1       0.62      0.78      0.69        36\n",
      "           2       0.94      0.84      0.89        80\n",
      "           3       0.96      0.96      0.96       102\n",
      "\n",
      "    accuracy                           0.88       246\n",
      "   macro avg       0.85      0.86      0.85       246\n",
      "weighted avg       0.89      0.88      0.89       246\n",
      "\n"
     ]
    }
   ],
   "source": [
    "print(SVM_Model_accuracy)\n",
    "print(repo)"
   ]
  },
  {
   "cell_type": "markdown",
   "id": "c543033c",
   "metadata": {},
   "source": [
    "## SVM weights "
   ]
  },
  {
   "cell_type": "code",
   "execution_count": 9,
   "id": "6aff953b",
   "metadata": {},
   "outputs": [
    {
     "data": {
      "text/plain": [
       "SVC(class_weight={0: 1.9409448818897639, 1: 1.8395522388059702,\n",
       "                  2: 0.9095940959409594, 3: 0.5429515418502202},\n",
       "    gamma='auto', random_state=42)"
      ]
     },
     "execution_count": 9,
     "metadata": {},
     "output_type": "execute_result"
    }
   ],
   "source": [
    "SVM_Model_weights = SVC(random_state=42,gamma='auto', class_weight=class_weights)\n",
    "SVM_Model_weights.fit(np.concatenate([X_train,X_val], axis=0)\n",
    "                   ,np.concatenate([Y_train,Y_val],axis=0))"
   ]
  },
  {
   "cell_type": "code",
   "execution_count": 10,
   "id": "1e2d5418",
   "metadata": {},
   "outputs": [],
   "source": [
    "SVM_Model_weights_accuracy , repo = test_model(SVM_Model_weights,X_train,Y_train,axis=False)"
   ]
  },
  {
   "cell_type": "code",
   "execution_count": 11,
   "id": "11c0ca3c",
   "metadata": {},
   "outputs": [
    {
     "name": "stdout",
     "output_type": "stream",
     "text": [
      "0.8821138211382114\n",
      "              precision    recall  f1-score   support\n",
      "\n",
      "           0       0.98      1.00      0.99       127\n",
      "           1       0.85      0.92      0.88       134\n",
      "           2       0.93      0.94      0.94       271\n",
      "           3       0.99      0.96      0.98       454\n",
      "\n",
      "    accuracy                           0.96       986\n",
      "   macro avg       0.94      0.96      0.95       986\n",
      "weighted avg       0.96      0.96      0.96       986\n",
      "\n"
     ]
    }
   ],
   "source": [
    "print(SVM_Model_accuracy)\n",
    "print(repo)"
   ]
  },
  {
   "cell_type": "code",
   "execution_count": 12,
   "id": "36d25e2a",
   "metadata": {},
   "outputs": [],
   "source": [
    "SVM_Model_weights_accuracy , repo = test_model(SVM_Model_weights,X_test,Y_test,axis=False)"
   ]
  },
  {
   "cell_type": "code",
   "execution_count": 13,
   "id": "64dc9fee",
   "metadata": {},
   "outputs": [
    {
     "name": "stdout",
     "output_type": "stream",
     "text": [
      "0.8821138211382114\n",
      "              precision    recall  f1-score   support\n",
      "\n",
      "           0       0.89      0.86      0.87        28\n",
      "           1       0.63      0.86      0.73        36\n",
      "           2       0.94      0.84      0.89        80\n",
      "           3       0.98      0.95      0.97       102\n",
      "\n",
      "    accuracy                           0.89       246\n",
      "   macro avg       0.86      0.88      0.86       246\n",
      "weighted avg       0.91      0.89      0.89       246\n",
      "\n"
     ]
    }
   ],
   "source": [
    "print(SVM_Model_accuracy)\n",
    "print(repo)"
   ]
  },
  {
   "cell_type": "markdown",
   "id": "84332b4c",
   "metadata": {},
   "source": [
    "## SVM  oversampling\n"
   ]
  },
  {
   "cell_type": "code",
   "execution_count": 14,
   "id": "ca38e8ba",
   "metadata": {},
   "outputs": [],
   "source": [
    "oversampled= over_sampling(all_class_train,sampling_ratio=0.5)\n",
    "class_weights = oversampled[\"Body_Level\"].value_counts().to_dict()\n",
    "total_num = sum(class_weights.values())\n",
    "class_weights= { i : (total_num/(4* j )) for i ,j in zip(class_weights.keys(),class_weights.values())}\n",
    "class_weights\n",
    "\n",
    "X_train=oversampled.drop([\"Body_Level\"],axis=1).to_numpy()\n",
    "Y_train=oversampled[\"Body_Level\"].to_numpy()\n",
    "X_test =all_class_test.drop([\"Body_Level\"],axis=1).to_numpy()\n",
    "Y_test =all_class_test[\"Body_Level\"].to_numpy()\n",
    "X_train, scaler= data_scaling(X_train)\n",
    "X_val, X_test, Y_val, Y_test = train_test_split(X_test\n",
    "                                                     , Y_test, test_size=0.5, random_state=42)\n",
    "X_val = scaler.transform(X_val)\n",
    "X_test=scaler.transform(X_test)"
   ]
  },
  {
   "cell_type": "code",
   "execution_count": 15,
   "id": "45697426",
   "metadata": {},
   "outputs": [
    {
     "data": {
      "text/plain": [
       "SVC(gamma='auto', random_state=42)"
      ]
     },
     "execution_count": 15,
     "metadata": {},
     "output_type": "execute_result"
    }
   ],
   "source": [
    "SVM_Model = SVC(random_state=42,gamma='auto')\n",
    "SVM_Model.fit(np.concatenate([X_train,X_val], axis=0)\n",
    "                   ,np.concatenate([Y_train,Y_val],axis=0))"
   ]
  },
  {
   "cell_type": "code",
   "execution_count": 16,
   "id": "d6c1f296",
   "metadata": {},
   "outputs": [
    {
     "name": "stdout",
     "output_type": "stream",
     "text": [
      "0.9741837509491268\n",
      "              precision    recall  f1-score   support\n",
      "\n",
      "           0       1.00      1.00      1.00       257\n",
      "           1       0.94      0.95      0.95       262\n",
      "           2       0.96      0.96      0.96       344\n",
      "           3       0.99      0.99      0.99       454\n",
      "\n",
      "    accuracy                           0.97      1317\n",
      "   macro avg       0.97      0.97      0.97      1317\n",
      "weighted avg       0.97      0.97      0.97      1317\n",
      "\n"
     ]
    }
   ],
   "source": [
    "SVM_Model_accuracy , repo = test_model(SVM_Model,X_train,Y_train,axis=False)\n",
    "print(SVM_Model_accuracy)\n",
    "print(repo)"
   ]
  },
  {
   "cell_type": "code",
   "execution_count": 17,
   "id": "e5028123",
   "metadata": {},
   "outputs": [],
   "source": [
    "SVM_Model_accuracy , repo = test_model(SVM_Model,X_test,Y_test,axis=False)"
   ]
  },
  {
   "cell_type": "code",
   "execution_count": 18,
   "id": "916758f5",
   "metadata": {},
   "outputs": [
    {
     "name": "stdout",
     "output_type": "stream",
     "text": [
      "0.8861788617886179\n",
      "              precision    recall  f1-score   support\n",
      "\n",
      "           0       0.88      0.82      0.85        28\n",
      "           1       0.62      0.78      0.69        36\n",
      "           2       0.93      0.86      0.90        80\n",
      "           3       0.97      0.96      0.97       102\n",
      "\n",
      "    accuracy                           0.89       246\n",
      "   macro avg       0.85      0.86      0.85       246\n",
      "weighted avg       0.90      0.89      0.89       246\n",
      "\n"
     ]
    }
   ],
   "source": [
    "print(SVM_Model_accuracy)\n",
    "print(repo)"
   ]
  },
  {
   "cell_type": "code",
   "execution_count": 19,
   "id": "1b987fe7",
   "metadata": {},
   "outputs": [
    {
     "data": {
      "text/plain": [
       "SVC(class_weight={0: 1.2811284046692606, 1: 1.256679389312977,\n",
       "                  2: 0.9571220930232558, 3: 0.7252202643171806},\n",
       "    gamma='auto', random_state=42)"
      ]
     },
     "execution_count": 19,
     "metadata": {},
     "output_type": "execute_result"
    }
   ],
   "source": [
    "SVM_Model_weights = SVC(random_state=42,gamma='auto', class_weight=class_weights)\n",
    "SVM_Model_weights.fit(np.concatenate([X_train,X_val], axis=0)\n",
    "                   ,np.concatenate([Y_train,Y_val],axis=0))"
   ]
  },
  {
   "cell_type": "code",
   "execution_count": 20,
   "id": "5c19faa6",
   "metadata": {},
   "outputs": [],
   "source": [
    "SVM_Model_weights_accuracy , repo = test_model(SVM_Model_weights,X_train,Y_train,axis=False)"
   ]
  },
  {
   "cell_type": "code",
   "execution_count": 21,
   "id": "c2e754df",
   "metadata": {},
   "outputs": [
    {
     "name": "stdout",
     "output_type": "stream",
     "text": [
      "0.8861788617886179\n",
      "              precision    recall  f1-score   support\n",
      "\n",
      "           0       1.00      1.00      1.00       257\n",
      "           1       0.94      0.96      0.95       262\n",
      "           2       0.95      0.96      0.96       344\n",
      "           3       1.00      0.98      0.99       454\n",
      "\n",
      "    accuracy                           0.97      1317\n",
      "   macro avg       0.97      0.97      0.97      1317\n",
      "weighted avg       0.97      0.97      0.97      1317\n",
      "\n"
     ]
    }
   ],
   "source": [
    "print(SVM_Model_accuracy)\n",
    "print(repo)"
   ]
  },
  {
   "cell_type": "code",
   "execution_count": 22,
   "id": "375a2a26",
   "metadata": {},
   "outputs": [],
   "source": [
    "SVM_Model_weights_accuracy , repo = test_model(SVM_Model_weights,X_test,Y_test,axis=False)"
   ]
  },
  {
   "cell_type": "code",
   "execution_count": 23,
   "id": "e549c934",
   "metadata": {},
   "outputs": [],
   "source": [
    "SVM_Model_accuracy , repo = test_model(SVM_Model,X_test,Y_test,axis=False)"
   ]
  },
  {
   "cell_type": "code",
   "execution_count": 24,
   "id": "f431ad1d",
   "metadata": {},
   "outputs": [
    {
     "name": "stdout",
     "output_type": "stream",
     "text": [
      "0.8983739837398373\n",
      "              precision    recall  f1-score   support\n",
      "\n",
      "           0       0.88      0.82      0.85        28\n",
      "           1       0.62      0.78      0.69        36\n",
      "           2       0.93      0.86      0.90        80\n",
      "           3       0.97      0.96      0.97       102\n",
      "\n",
      "    accuracy                           0.89       246\n",
      "   macro avg       0.85      0.86      0.85       246\n",
      "weighted avg       0.90      0.89      0.89       246\n",
      "\n"
     ]
    }
   ],
   "source": [
    "print(SVM_Model_weights_accuracy )\n",
    "print(repo)"
   ]
  },
  {
   "cell_type": "code",
   "execution_count": null,
   "id": "157627c0",
   "metadata": {},
   "outputs": [
    {
     "name": "stdout",
     "output_type": "stream",
     "text": [
      "Fitting 5 folds for each of 48 candidates, totalling 240 fits\n"
     ]
    }
   ],
   "source": [
    "from sklearn import svm\n",
    "\n",
    "parameters = {'C': [0.1, 1, 10, 100], 'gamma': [0.1, 0.01, 0.001, 0.0001], 'kernel': ['linear', 'rbf', 'sigmoid']}\n",
    "\n",
    "# Create the SVM classifier\n",
    "svm_classifier = svm.SVC()\n",
    "\n",
    "# Perform grid search to find the best hyperparameters\n",
    "grid_search = GridSearchCV(svm_classifier, parameters, cv=5,verbose = 1 )\n",
    "grid_search.fit(np.concatenate([X_train,X_val], axis=0)\n",
    "                   ,np.concatenate([Y_train,Y_val],axis=0))\n",
    "\n",
    "# Print the best hyperparameters and the corresponding mean cross-validated score\n",
    "print(\"Best Hyperparameters: \", grid_search.best_params_)\n",
    "print(\"Best Score: \", grid_search.best_score_)\n",
    "\n",
    "# Evaluate the model with the best hyperparameters on the test set\n",
    "best_classifier = grid_search.best_estimator_\n",
    "accuracy = best_classifier.score(X_test, Y_test)\n",
    "print(\"Test Accuracy: \", accuracy)"
   ]
  },
  {
   "cell_type": "code",
   "execution_count": null,
   "id": "5d19e29b",
   "metadata": {},
   "outputs": [],
   "source": [
    "# Print the mean test scores for each hyperparameter combination\n",
    "x_axis = []\n",
    "y_axis = []\n",
    "for mean_score, params in zip(cv_results['mean_test_score'], cv_results['params']):\n",
    "    x_axis.append(params[\"C\"])\n",
    "    y_axis.append(mean_score)\n",
    "    \n",
    "    \n",
    "plt.plot(np.arange(1,len(x_axis)+1),y_axis)\n",
    "plt.title('Changing the hyperparameter C vs accuracy')\n",
    "plt.xlabel('C')\n",
    "plt.ylabel('val accuracy')\n",
    "plt.axvline(np.argmax(cv_results[\"mean_test_score\"]),\n",
    "            color='red',\n",
    "            label=f\"C={cv_results['params'][np.argmax(cv_results['mean_test_score'])]['C']}\")\n",
    "plt.legend()\n",
    "plt.show()"
   ]
  },
  {
   "cell_type": "code",
   "execution_count": 68,
   "id": "e53db78f",
   "metadata": {},
   "outputs": [
    {
     "name": "stdout",
     "output_type": "stream",
     "text": [
      "0.9250901122306873 {'C': 0.1, 'gamma': 0.1, 'kernel': 'linear'}\n",
      "0.7963647906938641 {'C': 0.1, 'gamma': 0.1, 'kernel': 'rbf'}\n",
      "0.6107663635618907 {'C': 0.1, 'gamma': 0.1, 'kernel': 'sigmoid'}\n",
      "0.9250901122306873 {'C': 0.1, 'gamma': 0.01, 'kernel': 'linear'}\n",
      "0.6203837961825183 {'C': 0.1, 'gamma': 0.01, 'kernel': 'rbf'}\n",
      "0.5691427050053248 {'C': 0.1, 'gamma': 0.01, 'kernel': 'sigmoid'}\n",
      "0.9250901122306873 {'C': 0.1, 'gamma': 0.001, 'kernel': 'linear'}\n",
      "0.37003768329646924 {'C': 0.1, 'gamma': 0.001, 'kernel': 'rbf'}\n",
      "0.37003768329646924 {'C': 0.1, 'gamma': 0.001, 'kernel': 'sigmoid'}\n",
      "0.9250901122306873 {'C': 0.1, 'gamma': 0.0001, 'kernel': 'linear'}\n",
      "0.37003768329646924 {'C': 0.1, 'gamma': 0.0001, 'kernel': 'rbf'}\n",
      "0.37003768329646924 {'C': 0.1, 'gamma': 0.0001, 'kernel': 'sigmoid'}\n",
      "0.9641394281969362 {'C': 1, 'gamma': 0.1, 'kernel': 'linear'}\n",
      "0.9269763250593922 {'C': 1, 'gamma': 0.1, 'kernel': 'rbf'}\n",
      "0.5570185139673958 {'C': 1, 'gamma': 0.1, 'kernel': 'sigmoid'}\n",
      "0.9641394281969362 {'C': 1, 'gamma': 0.01, 'kernel': 'linear'}\n",
      "0.8604304907020562 {'C': 1, 'gamma': 0.01, 'kernel': 'rbf'}\n",
      "0.7996272630457935 {'C': 1, 'gamma': 0.01, 'kernel': 'sigmoid'}\n",
      "0.9641394281969362 {'C': 1, 'gamma': 0.001, 'kernel': 'linear'}\n",
      "0.6280597198328828 {'C': 1, 'gamma': 0.001, 'kernel': 'rbf'}\n",
      "0.5723457852052102 {'C': 1, 'gamma': 0.001, 'kernel': 'sigmoid'}\n",
      "0.9641394281969362 {'C': 1, 'gamma': 0.0001, 'kernel': 'linear'}\n",
      "0.37003768329646924 {'C': 1, 'gamma': 0.0001, 'kernel': 'rbf'}\n",
      "0.37003768329646924 {'C': 1, 'gamma': 0.0001, 'kernel': 'sigmoid'}\n",
      "0.9820697140984681 {'C': 10, 'gamma': 0.1, 'kernel': 'linear'}\n",
      "0.9404112394527729 {'C': 10, 'gamma': 0.1, 'kernel': 'rbf'}\n",
      "0.5531457360530843 {'C': 10, 'gamma': 0.1, 'kernel': 'sigmoid'}\n",
      "0.9820697140984681 {'C': 10, 'gamma': 0.01, 'kernel': 'linear'}\n",
      "0.9583538133857623 {'C': 10, 'gamma': 0.01, 'kernel': 'rbf'}\n",
      "0.8847689850086017 {'C': 10, 'gamma': 0.01, 'kernel': 'sigmoid'}\n",
      "0.9820697140984681 {'C': 10, 'gamma': 0.001, 'kernel': 'linear'}\n",
      "0.8489125092160237 {'C': 10, 'gamma': 0.001, 'kernel': 'rbf'}\n",
      "0.8015462439583846 {'C': 10, 'gamma': 0.001, 'kernel': 'sigmoid'}\n",
      "0.9820697140984681 {'C': 10, 'gamma': 0.0001, 'kernel': 'linear'}\n",
      "0.6286966494634225 {'C': 10, 'gamma': 0.0001, 'kernel': 'rbf'}\n",
      "0.5723457852052102 {'C': 10, 'gamma': 0.0001, 'kernel': 'sigmoid'}\n",
      "0.9839927910215451 {'C': 100, 'gamma': 0.1, 'kernel': 'linear'}\n",
      "0.9404132874580158 {'C': 100, 'gamma': 0.1, 'kernel': 'rbf'}\n",
      "0.5582780371917752 {'C': 100, 'gamma': 0.1, 'kernel': 'sigmoid'}\n",
      "0.9839927910215451 {'C': 100, 'gamma': 0.01, 'kernel': 'linear'}\n",
      "0.9705271565495208 {'C': 100, 'gamma': 0.01, 'kernel': 'rbf'}\n",
      "0.8450663553698696 {'C': 100, 'gamma': 0.01, 'kernel': 'sigmoid'}\n",
      "0.9839927910215451 {'C': 100, 'gamma': 0.001, 'kernel': 'linear'}\n",
      "0.9609404440075368 {'C': 100, 'gamma': 0.001, 'kernel': 'rbf'}\n",
      "0.9257352338821988 {'C': 100, 'gamma': 0.001, 'kernel': 'sigmoid'}\n",
      "0.9839927910215451 {'C': 100, 'gamma': 0.0001, 'kernel': 'linear'}\n",
      "0.845715573031867 {'C': 100, 'gamma': 0.0001, 'kernel': 'rbf'}\n",
      "0.8015462439583846 {'C': 100, 'gamma': 0.0001, 'kernel': 'sigmoid'}\n"
     ]
    }
   ],
   "source": [
    "cv_results = grid_search.cv_results_\n",
    "for i, j  in zip(cv_results['mean_test_score'], cv_results['params']):\n",
    "    print(i,j)"
   ]
  },
  {
   "cell_type": "code",
   "execution_count": 69,
   "id": "ff079e8b",
   "metadata": {},
   "outputs": [],
   "source": [
    "with open(\"SVM_Best_Modle\",\"wb\") as fb: \n",
    "            pickle.dump(grid_search.best_estimator_,fb)"
   ]
  },
  {
   "cell_type": "code",
   "execution_count": null,
   "id": "a1e1cc16",
   "metadata": {},
   "outputs": [],
   "source": []
  }
 ],
 "metadata": {
  "kernelspec": {
   "display_name": "Python 3 (ipykernel)",
   "language": "python",
   "name": "python3"
  },
  "language_info": {
   "codemirror_mode": {
    "name": "ipython",
    "version": 3
   },
   "file_extension": ".py",
   "mimetype": "text/x-python",
   "name": "python",
   "nbconvert_exporter": "python",
   "pygments_lexer": "ipython3",
   "version": "3.9.13"
  }
 },
 "nbformat": 4,
 "nbformat_minor": 5
}

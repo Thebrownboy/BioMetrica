{
 "cells": [
  {
   "cell_type": "code",
   "execution_count": null,
   "id": "bbb9cf0a",
   "metadata": {},
   "outputs": [],
   "source": []
  },
  {
   "cell_type": "code",
   "execution_count": null,
   "id": "c08974d5",
   "metadata": {},
   "outputs": [],
   "source": []
  },
  {
   "cell_type": "code",
   "execution_count": null,
   "id": "e2ce4dcf",
   "metadata": {},
   "outputs": [],
   "source": []
  },
  {
   "cell_type": "code",
   "execution_count": null,
   "id": "f601d9f9",
   "metadata": {},
   "outputs": [],
   "source": [
    "df.skew().sort_values(ascending=False)"
   ]
  },
  {
   "cell_type": "code",
   "execution_count": null,
   "id": "9ea4fcf8",
   "metadata": {},
   "outputs": [],
   "source": [
    "df_temp= df.copy()\n",
    "\n",
    "sns.boxplot(x=np.log(df_temp[\"Age\"]))\n",
    "plt.show()\n",
    "\n",
    "df_temp[df_temp[\"Age\"] < df_temp[\"Age\"].quantile(0.25)]\n",
    "\n",
    "\n",
    "plt.hist(df_temp[\"Age\"])\n",
    "plt.show()"
   ]
  },
  {
   "cell_type": "code",
   "execution_count": null,
   "id": "cc9b4f7f",
   "metadata": {},
   "outputs": [],
   "source": [
    "# pd.Series(np.log(df_temp[\"Time_E_Dev\"])).skew()\n",
    "\n",
    "df_temp=df.copy()"
   ]
  },
  {
   "cell_type": "code",
   "execution_count": null,
   "id": "74f905b1",
   "metadata": {},
   "outputs": [],
   "source": [
    "plt.hist(np.log10(df_temp[\"Meal_Count\"]))\n",
    "plt.show()"
   ]
  }
 ],
 "metadata": {
  "kernelspec": {
   "display_name": "Python 3 (ipykernel)",
   "language": "python",
   "name": "python3"
  },
  "language_info": {
   "codemirror_mode": {
    "name": "ipython",
    "version": 3
   },
   "file_extension": ".py",
   "mimetype": "text/x-python",
   "name": "python",
   "nbconvert_exporter": "python",
   "pygments_lexer": "ipython3",
   "version": "3.9.13"
  }
 },
 "nbformat": 4,
 "nbformat_minor": 5
}
